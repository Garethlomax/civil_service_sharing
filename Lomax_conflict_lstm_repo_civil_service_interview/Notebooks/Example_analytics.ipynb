{
  "nbformat": 4,
  "nbformat_minor": 0,
  "metadata": {
    "colab": {
      "name": "Example_analytics.ipynb",
      "version": "0.3.2",
      "provenance": [],
      "include_colab_link": true
    },
    "kernelspec": {
      "name": "python3",
      "display_name": "Python 3"
    },
    "accelerator": "GPU"
  },
  "cells": [
    {
      "cell_type": "markdown",
      "metadata": {
        "id": "view-in-github",
        "colab_type": "text"
      },
      "source": [
        "<a href=\"https://colab.research.google.com/github/msc-acse/acse-9-independent-research-project-Garethlomax/blob/tests/Example_analytics.ipynb\" target=\"_parent\"><img src=\"https://colab.research.google.com/assets/colab-badge.svg\" alt=\"Open In Colab\"/></a>"
      ]
    },
    {
      "cell_type": "code",
      "metadata": {
        "id": "Y5eWNJwnguEo",
        "colab_type": "code",
        "colab": {
          "base_uri": "https://localhost:8080/",
          "height": 35
        },
        "outputId": "0990ef17-ef3b-45e8-fd0f-ecf26eb0c2ac"
      },
      "source": [
        "from google.colab import drive\n",
        "drive.mount('/content/drive')"
      ],
      "execution_count": 19,
      "outputs": [
        {
          "output_type": "stream",
          "text": [
            "Drive already mounted at /content/drive; to attempt to forcibly remount, call drive.mount(\"/content/drive\", force_remount=True).\n"
          ],
          "name": "stdout"
        }
      ]
    },
    {
      "cell_type": "markdown",
      "metadata": {
        "id": "UbbgzKLuhQMM",
        "colab_type": "text"
      },
      "source": [
        "# Imports \n",
        "Here we import our package."
      ]
    },
    {
      "cell_type": "code",
      "metadata": {
        "id": "uhSZL2hqgqdv",
        "colab_type": "code",
        "colab": {
          "base_uri": "https://localhost:8080/",
          "height": 35
        },
        "outputId": "7e494f9c-f234-46bc-d49b-cf1c2226a551"
      },
      "source": [
        "%cd /content/drive/My \\Drive/masters_project/python_modules/my_stuff"
      ],
      "execution_count": 20,
      "outputs": [
        {
          "output_type": "stream",
          "text": [
            "/content/drive/My Drive/masters_project/python_modules/my_stuff\n"
          ],
          "name": "stdout"
        }
      ]
    },
    {
      "cell_type": "code",
      "metadata": {
        "id": "VAewTuicg7Wk",
        "colab_type": "code",
        "colab": {}
      },
      "source": [
        "from conflict_lstm.latest_run import *\n",
        "from conflict_lstm.hpc_construct import *\n",
        "\n"
      ],
      "execution_count": 0,
      "outputs": []
    },
    {
      "cell_type": "markdown",
      "metadata": {
        "id": "VDpJCtXnj5IV",
        "colab_type": "text"
      },
      "source": [
        "We now switch back into our data directory"
      ]
    },
    {
      "cell_type": "code",
      "metadata": {
        "id": "GE1W0QXhjjYo",
        "colab_type": "code",
        "colab": {
          "base_uri": "https://localhost:8080/",
          "height": 52
        },
        "outputId": "324f194a-9a60-4d6b-874c-a74acf472dec"
      },
      "source": [
        "%cd ../..\n",
        "\n",
        "%cd data\n",
        "# "
      ],
      "execution_count": 31,
      "outputs": [
        {
          "output_type": "stream",
          "text": [
            "/content/drive/My Drive\n",
            "/content/drive/My Drive/data\n"
          ],
          "name": "stdout"
        }
      ]
    },
    {
      "cell_type": "markdown",
      "metadata": {
        "id": "sVJyI2QAhZV-",
        "colab_type": "text"
      },
      "source": [
        "We enable these CUDA options to allow torch to use the most efficient convolution algorithms possible. We also set the device variable to 'cuda'"
      ]
    },
    {
      "cell_type": "code",
      "metadata": {
        "id": "98eeTeeGhBRH",
        "colab_type": "code",
        "colab": {}
      },
      "source": [
        "torch.backends.cudnn.benchmark = True\n",
        "torch.backends.cudnn.enabled = True\n",
        "device = 'cuda'"
      ],
      "execution_count": 0,
      "outputs": []
    },
    {
      "cell_type": "markdown",
      "metadata": {
        "id": "yhy42TXDiAkK",
        "colab_type": "text"
      },
      "source": [
        "We now outline the parameters of one of the models we have previously trained. In this case we use a model saved as \"bce_3.pth\". We supply the filenames of the data created in dataset creation, and our application boolean which outlines which image channels we would like normalised.\n"
      ]
    },
    {
      "cell_type": "code",
      "metadata": {
        "id": "JP3T88yCkfrk",
        "colab_type": "code",
        "colab": {}
      },
      "source": [
        "name = \"bce_3\"\n",
        "structure = np.array([[12,24,0,0,0],[0,24,12,6,5]])\n",
        "apbln = [0,1,0,0,1]\n",
        "avg_path = \"fixed_25_avg.npy\"\n",
        "std_path = \"fixed_25_std.npy\"\n",
        "dataset_path = 'emerg_25.hdf5'\n",
        "dataset_length = 4940"
      ],
      "execution_count": 0,
      "outputs": []
    },
    {
      "cell_type": "markdown",
      "metadata": {
        "id": "4ePvwS0Ru_nh",
        "colab_type": "text"
      },
      "source": [
        "We make sure our working directory is the directory in which the files required are stored (model state dict, avg and std, dataset), or that the filenames given to analytics are relative path names to the files. The metrics produced are stored in namemetrics.csv."
      ]
    },
    {
      "cell_type": "code",
      "metadata": {
        "id": "pxoMYj2koU0g",
        "colab_type": "code",
        "colab": {
          "base_uri": "https://localhost:8080/",
          "height": 1000
        },
        "outputId": "acff7966-ae30-42c5-f653-09ca2432a88f"
      },
      "source": [
        "analytics(structure, 3, 'bce_3', dataset_path, dataset_length, avg_path, std_path, sample = 1967)"
      ],
      "execution_count": 43,
      "outputs": [
        {
          "output_type": "stream",
          "text": [
            "torch.Size([2000, 1, 5, 16, 16])\n",
            "torch.Size([2000, 16, 16])\n",
            "(2000, 256)\n",
            "(2000, 256)\n",
            "tn: 482095\n",
            "tp: 7520\n",
            "fn: 10875\n",
            "fp 11510\n",
            "prec: 0.39516552811350497\n",
            "rec: 0.408806740962218\n",
            "f1:  0.40187040748162994\n",
            "0.8884509501705424\n",
            "0.3439482905521257\n",
            "0.043720703125\n"
          ],
          "name": "stdout"
        },
        {
          "output_type": "display_data",
          "data": {
            "image/png": "[encoded data removed]",
            "text/plain": [
              "<Figure size 432x288 with 2 Axes>"
            ]
          },
          "metadata": {
            "tags": []
          }
        },
        {
          "output_type": "display_data",
          "data": {
            "image/png": "[encoded data removed]",
            "text/plain": [
              "<Figure size 2304x2304 with 10 Axes>"
            ]
          },
          "metadata": {
            "tags": []
          }
        }
      ]
    }
  ]
}