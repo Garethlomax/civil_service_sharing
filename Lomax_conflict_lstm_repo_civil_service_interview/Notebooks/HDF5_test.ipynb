{
  "nbformat": 4,
  "nbformat_minor": 0,
  "metadata": {
    "colab": {
      "name": "HDF5_test.ipynb",
      "version": "0.3.2",
      "provenance": [],
      "include_colab_link": true
    },
    "kernelspec": {
      "name": "python3",
      "display_name": "Python 3"
    }
  },
  "cells": [
    {
      "cell_type": "markdown",
      "metadata": {
        "id": "view-in-github",
        "colab_type": "text"
      },
      "source": [
        "<a href=\"https://colab.research.google.com/github/msc-acse/acse-9-independent-research-project-Garethlomax/blob/hdf5/HDF5_test.ipynb\" target=\"_parent\"><img src=\"https://colab.research.google.com/assets/colab-badge.svg\" alt=\"Open In Colab\"/></a>"
      ]
    },
    {
      "cell_type": "markdown",
      "metadata": {
        "id": "FK9gJS3Tu23c",
        "colab_type": "text"
      },
      "source": [
        "#IMPORTS\n"
      ]
    },
    {
      "cell_type": "code",
      "metadata": {
        "id": "x8tX24iIumQ4",
        "colab_type": "code",
        "colab": {}
      },
      "source": [
        "import h5py\n"
      ],
      "execution_count": 0,
      "outputs": []
    },
    {
      "cell_type": "code",
      "metadata": {
        "id": "te6ZYDxwu8cB",
        "colab_type": "code",
        "colab": {
          "base_uri": "https://localhost:8080/",
          "height": 34
        },
        "outputId": "bd4c5cda-6b6c-4703-c7f2-dac6d6940162"
      },
      "source": [
        "%cd /content/drive/My \\Drive/masters_project/data\n",
        "\n"
      ],
      "execution_count": 5,
      "outputs": [
        {
          "output_type": "stream",
          "text": [
            "/content/drive/My Drive/masters_project/data\n"
          ],
          "name": "stdout"
        }
      ]
    },
    {
      "cell_type": "code",
      "metadata": {
        "id": "QBT5ty9IvDlB",
        "colab_type": "code",
        "colab": {}
      },
      "source": [
        "f = h5py.File(\"train_set.hdf5\", 'r')\n"
      ],
      "execution_count": 0,
      "outputs": []
    },
    {
      "cell_type": "code",
      "metadata": {
        "id": "JwPAswnBvQnE",
        "colab_type": "code",
        "colab": {}
      },
      "source": [
        "a = f[\"predictor\"][0:1000]\n",
        "del a "
      ],
      "execution_count": 0,
      "outputs": []
    },
    {
      "cell_type": "code",
      "metadata": {
        "id": "CwfRKvCZvYZF",
        "colab_type": "code",
        "colab": {
          "base_uri": "https://localhost:8080/",
          "height": 287
        },
        "outputId": "b7b49366-211e-40bb-862c-a661a763b9d8"
      },
      "source": [
        "b = f[\"predictor\"][0][0][0]\n",
        "import matplotlib.pyplot as plt\n",
        "plt.imshow(b)\n",
        "\n"
      ],
      "execution_count": 14,
      "outputs": [
        {
          "output_type": "execute_result",
          "data": {
            "text/plain": [
              "<matplotlib.image.AxesImage at 0x7eff5d7bd4e0>"
            ]
          },
          "metadata": {
            "tags": []
          },
          "execution_count": 14
        },
        {
          "output_type": "display_data",
          "data": {
            "image/png": "[encoded data removed]",
            "text/plain": [
              "<Figure size 432x288 with 1 Axes>"
            ]
          },
          "metadata": {
            "tags": []
          }
        }
      ]
    }
  ]
}