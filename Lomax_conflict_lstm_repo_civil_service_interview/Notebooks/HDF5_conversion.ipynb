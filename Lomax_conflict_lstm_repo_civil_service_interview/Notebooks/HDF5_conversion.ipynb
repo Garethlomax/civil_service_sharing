{
  "nbformat": 4,
  "nbformat_minor": 0,
  "metadata": {
    "colab": {
      "name": "HDF5_conversion.ipynb",
      "version": "0.3.2",
      "provenance": [],
      "include_colab_link": true
    },
    "kernelspec": {
      "name": "python3",
      "display_name": "Python 3"
    }
  },
  "cells": [
    {
      "cell_type": "markdown",
      "metadata": {
        "id": "view-in-github",
        "colab_type": "text"
      },
      "source": [
        "<a href=\"https://colab.research.google.com/github/msc-acse/acse-9-independent-research-project-Garethlomax/blob/hdf5/HDF5_conversion.ipynb\" target=\"_parent\"><img src=\"https://colab.research.google.com/assets/colab-badge.svg\" alt=\"Open In Colab\"/></a>"
      ]
    },
    {
      "cell_type": "markdown",
      "metadata": {
        "id": "kupJ9m_T6KR5",
        "colab_type": "text"
      },
      "source": [
        "# HDF5 CONVERSION FUNCTIONS\n",
        "As our test datasets are too large to load into collab, we convert them to hdf5 format before using them. hdf5 is a standard data format for large scale datasets too big to be loaded nativelyt into ram. documentation can be found: \n",
        "\n",
        "http://docs.h5py.org/en/latest/quick.html#quick\n"
      ]
    },
    {
      "cell_type": "markdown",
      "metadata": {
        "id": "i5gXj1C86kNh",
        "colab_type": "text"
      },
      "source": [
        "# IMPORTS\n",
        "\n",
        "%cd /content/drive/My \\Drive/masters_project/python_modules/MovingMNIST-master\n",
        "\n",
        "from MovingMNIST import MovingMNIST\n",
        "\n"
      ]
    },
    {
      "cell_type": "code",
      "metadata": {
        "id": "IbxPaUCgB5VC",
        "colab_type": "code",
        "outputId": "b643f1ea-bfa6-469e-f494-fc0dccdf7a7d",
        "colab": {
          "base_uri": "https://localhost:8080/",
          "height": 54
        }
      },
      "source": [
        "from google.colab import drive\n",
        "drive.mount('/content/drive')"
      ],
      "execution_count": 1,
      "outputs": [
        {
          "output_type": "stream",
          "text": [
            "Drive already mounted at /content/drive; to attempt to forcibly remount, call drive.mount(\"/content/drive\", force_remount=True).\n"
          ],
          "name": "stdout"
        }
      ]
    },
    {
      "cell_type": "code",
      "metadata": {
        "id": "pAjpLY0k6Gtl",
        "colab_type": "code",
        "outputId": "9cadc388-a3cf-4374-d47b-ea79f725a67d",
        "colab": {
          "base_uri": "https://localhost:8080/",
          "height": 195
        }
      },
      "source": [
        "!pip install h5py\n",
        "\n",
        "import h5py\n",
        "h5py.run_tests()\n",
        "\n",
        "\n",
        "\n",
        "%cd /content/drive/My \\Drive/masters_project/python_modules/MovingMNIST-master\n",
        "\n",
        "from MovingMNIST import MovingMNIST\n",
        "\n",
        "\n",
        "\n",
        "train_set = MovingMNIST(root='.data/mnist', train=True, download=False)\n",
        "test_set = MovingMNIST(root='.data/mnist', train=False, download=False)\n",
        "\n"
      ],
      "execution_count": 2,
      "outputs": [
        {
          "output_type": "stream",
          "text": [
            "Requirement already satisfied: h5py in /usr/local/lib/python3.6/dist-packages (2.8.0)\n",
            "Requirement already satisfied: six in /usr/local/lib/python3.6/dist-packages (from h5py) (1.12.0)\n",
            "Requirement already satisfied: numpy>=1.7 in /usr/local/lib/python3.6/dist-packages (from h5py) (1.16.4)\n"
          ],
          "name": "stdout"
        },
        {
          "output_type": "stream",
          "text": [
            ".....................................................x...................................................................x....................................s...s......ss.......................................................................................................ssssss...................................................................x....x.........................x......x.................................................ssss..................\n",
            "----------------------------------------------------------------------\n",
            "Ran 457 tests in 1.697s\n",
            "\n",
            "OK (skipped=14, expected failures=6)\n"
          ],
          "name": "stderr"
        },
        {
          "output_type": "stream",
          "text": [
            "/content/drive/My Drive/masters_project/python_modules/MovingMNIST-master\n"
          ],
          "name": "stdout"
        }
      ]
    },
    {
      "cell_type": "markdown",
      "metadata": {
        "id": "vTLm9hNh7F3b",
        "colab_type": "text"
      },
      "source": [
        "# FUNCTION DEFINITIONS\n",
        "Taken from mastersproject.ipynb \n"
      ]
    },
    {
      "cell_type": "code",
      "metadata": {
        "id": "qA00CVxu7LlL",
        "colab_type": "code",
        "colab": {}
      },
      "source": [
        "def validation_split(data, n_splits = 1, valid_fraction = 0.1, random_state = 0):\n",
        "    \"\"\"\n",
        "    Function to produce a validation set from test set.\n",
        "    THIS SHUFFLES THE SAMPLES. __NOT__ THE SEQUENCES.\n",
        "    \"\"\"\n",
        "    dummy_array = np.zeros(len(data))\n",
        "    split = StratifiedShuffleSplit(n_splits, test_size = valid_fraction, random_state = 0)\n",
        "    generator = split.split(torch.tensor(dummy_array), torch.tensor(dummy_array))\n",
        "    return [(a,b) for a, b in generator][0]\n"
      ],
      "execution_count": 0,
      "outputs": []
    },
    {
      "cell_type": "code",
      "metadata": {
        "id": "3aP78seL7QqT",
        "colab_type": "code",
        "colab": {}
      },
      "source": [
        "def initialise_dataset(data):\n",
        "    # unsqueeze data, adding a channel dimension for later convolution. \n",
        "    # this also gets rid of the annoying tuple format\n",
        "    predictor, truth = unsqueeze_data(data)\n",
        "    \n",
        "    train_index, valid_index = validation_split(data)\n",
        "    \n",
        "    train_predictor = predictor[train_index]\n",
        "    valid_predictor = predictor[valid_index]\n",
        "    \n",
        "    train_truth = truth[train_index]\n",
        "    valid_truth = truth[valid_index]\n",
        "    \n",
        "    train_dataset = SequenceDataset(train_predictor, train_truth)\n",
        "    valid_dataset = SequenceDataset(valid_predictor, valid_truth)\n",
        "    \n",
        "    return train_dataset, valid_dataset"
      ],
      "execution_count": 0,
      "outputs": []
    },
    {
      "cell_type": "code",
      "metadata": {
        "id": "lNNfmCKr7KzD",
        "colab_type": "code",
        "colab": {}
      },
      "source": [
        "def unsqueeze_data(data):\n",
        "    \"\"\"\n",
        "    Takes in moving MNIST object - must then account for \n",
        "    \"\"\"\n",
        "    \n",
        "    # split moving mnist data into predictor and ground truth.\n",
        "    predictor = data[:][0].unsqueeze(2)\n",
        "    predictor = predictor.double()\n",
        "        \n",
        "    truth = data[:][1].unsqueeze(2)# this should be the moving mnist sent in\n",
        "    truth = truth.double()\n",
        "    \n",
        "    return predictor, truth"
      ],
      "execution_count": 0,
      "outputs": []
    },
    {
      "cell_type": "markdown",
      "metadata": {
        "id": "mwH8LjeZ9pFF",
        "colab_type": "text"
      },
      "source": [
        ""
      ]
    },
    {
      "cell_type": "markdown",
      "metadata": {
        "id": "zxfaT7s-7Z_b",
        "colab_type": "text"
      },
      "source": [
        "We now use unsqueeze data to produce data for saving into hdf5\n",
        "\n",
        "we will have 2 datasets in each folder - prediction and truth. \n",
        "\n",
        "\n",
        "\n",
        "\n"
      ]
    },
    {
      "cell_type": "code",
      "metadata": {
        "id": "tfYelanmDjol",
        "colab_type": "code",
        "colab": {}
      },
      "source": [
        ""
      ],
      "execution_count": 0,
      "outputs": []
    },
    {
      "cell_type": "code",
      "metadata": {
        "id": "ppz7aqO69rW2",
        "colab_type": "code",
        "colab": {}
      },
      "source": [
        "predictor, truth = unsqueeze_data(train_set)\n",
        "\n",
        "# now convert to numpy\n",
        "predictor = predictor.numpy()\n",
        "truth = truth.numpy()\n"
      ],
      "execution_count": 0,
      "outputs": []
    },
    {
      "cell_type": "markdown",
      "metadata": {
        "id": "hTuoTbFd9r91",
        "colab_type": "text"
      },
      "source": [
        "# FILE CREATION"
      ]
    },
    {
      "cell_type": "code",
      "metadata": {
        "id": "APU5MqES7Zlb",
        "colab_type": "code",
        "outputId": "446950fa-8314-4c0e-eaf3-d111b0bf3521",
        "colab": {
          "base_uri": "https://localhost:8080/",
          "height": 34
        }
      },
      "source": [
        "\n",
        "%cd /content/drive/My \\Drive/masters_project/data\n",
        "# switch our file path to the data section. \n",
        "\n",
        "\n",
        "# create h5py\n",
        "# to take advantage of their lazy loading.\n",
        "f = h5py.File(\"train_set.hdf5\", \"w\")\n",
        "f.create_dataset(\"predictor\", data = predictor)\n",
        "f.create_dataset(\"truth\", data = truth)\n",
        "f.close()\n",
        "\n"
      ],
      "execution_count": 7,
      "outputs": [
        {
          "output_type": "stream",
          "text": [
            "/content/drive/My Drive/masters_project/data\n"
          ],
          "name": "stdout"
        }
      ]
    },
    {
      "cell_type": "code",
      "metadata": {
        "id": "pUa-7DgktXp1",
        "colab_type": "code",
        "colab": {
          "base_uri": "https://localhost:8080/",
          "height": 34
        },
        "outputId": "20f641be-8d7a-4e84-b787-b507ec81c4a0"
      },
      "source": [
        "!ls -F\n"
      ],
      "execution_count": 9,
      "outputs": [
        {
          "output_type": "stream",
          "text": [
            "mnist_test_seq.npy  test_set.hdf5  train_set.hdf5\n"
          ],
          "name": "stdout"
        }
      ]
    },
    {
      "cell_type": "markdown",
      "metadata": {
        "id": "yXop7UVpt6NQ",
        "colab_type": "text"
      },
      "source": [
        "# TESTING\n"
      ]
    },
    {
      "cell_type": "code",
      "metadata": {
        "id": "1GBi6m-wtt-y",
        "colab_type": "code",
        "colab": {}
      },
      "source": [
        "f = h5py.File(\"train_set.hdf5\", 'r')\n"
      ],
      "execution_count": 0,
      "outputs": []
    },
    {
      "cell_type": "code",
      "metadata": {
        "id": "DVJoEt-Kt5ji",
        "colab_type": "code",
        "colab": {
          "base_uri": "https://localhost:8080/",
          "height": 34
        },
        "outputId": "23385ebc-8d9c-4d09-8eab-9fa529272494"
      },
      "source": [
        "f[\"predictor\"]\n",
        "# should be 9000 with 10 image sequence of 1 channel and 64 * 64 \n",
        "\n"
      ],
      "execution_count": 14,
      "outputs": [
        {
          "output_type": "execute_result",
          "data": {
            "text/plain": [
              "<HDF5 dataset \"predictor\": shape (9000, 10, 1, 64, 64), type \"<f8\">"
            ]
          },
          "metadata": {
            "tags": []
          },
          "execution_count": 14
        }
      ]
    },
    {
      "cell_type": "code",
      "metadata": {
        "id": "2DTkSM3XuL-N",
        "colab_type": "code",
        "colab": {
          "base_uri": "https://localhost:8080/",
          "height": 1000
        },
        "outputId": "f37ff8b9-0063-43c4-f1ce-0237b9b874ac"
      },
      "source": [
        ""
      ],
      "execution_count": 17,
      "outputs": [
        {
          "output_type": "execute_result",
          "data": {
            "text/plain": [
              "array([[[[[0., 0., 0., ..., 0., 0., 0.],\n",
              "          [0., 0., 0., ..., 0., 0., 0.],\n",
              "          [0., 0., 0., ..., 0., 0., 0.],\n",
              "          ...,\n",
              "          [0., 0., 0., ..., 0., 0., 0.],\n",
              "          [0., 0., 0., ..., 0., 0., 0.],\n",
              "          [0., 0., 0., ..., 0., 0., 0.]]],\n",
              "\n",
              "\n",
              "        [[[0., 0., 0., ..., 0., 0., 0.],\n",
              "          [0., 0., 0., ..., 0., 0., 0.],\n",
              "          [0., 0., 0., ..., 0., 0., 0.],\n",
              "          ...,\n",
              "          [0., 0., 0., ..., 0., 0., 0.],\n",
              "          [0., 0., 0., ..., 0., 0., 0.],\n",
              "          [0., 0., 0., ..., 0., 0., 0.]]],\n",
              "\n",
              "\n",
              "        [[[0., 0., 0., ..., 0., 0., 0.],\n",
              "          [0., 0., 0., ..., 0., 0., 0.],\n",
              "          [0., 0., 0., ..., 0., 0., 0.],\n",
              "          ...,\n",
              "          [0., 0., 0., ..., 0., 0., 0.],\n",
              "          [0., 0., 0., ..., 0., 0., 0.],\n",
              "          [0., 0., 0., ..., 0., 0., 0.]]],\n",
              "\n",
              "\n",
              "        ...,\n",
              "\n",
              "\n",
              "        [[[0., 0., 0., ..., 0., 0., 0.],\n",
              "          [0., 0., 0., ..., 0., 0., 0.],\n",
              "          [0., 0., 0., ..., 0., 0., 0.],\n",
              "          ...,\n",
              "          [0., 0., 0., ..., 0., 0., 0.],\n",
              "          [0., 0., 0., ..., 0., 0., 0.],\n",
              "          [0., 0., 0., ..., 0., 0., 0.]]],\n",
              "\n",
              "\n",
              "        [[[0., 0., 0., ..., 0., 0., 0.],\n",
              "          [0., 0., 0., ..., 0., 0., 0.],\n",
              "          [0., 0., 0., ..., 0., 0., 0.],\n",
              "          ...,\n",
              "          [0., 0., 0., ..., 0., 0., 0.],\n",
              "          [0., 0., 0., ..., 0., 0., 0.],\n",
              "          [0., 0., 0., ..., 0., 0., 0.]]],\n",
              "\n",
              "\n",
              "        [[[0., 0., 0., ..., 0., 0., 0.],\n",
              "          [0., 0., 0., ..., 0., 0., 0.],\n",
              "          [0., 0., 0., ..., 0., 0., 0.],\n",
              "          ...,\n",
              "          [0., 0., 0., ..., 0., 0., 0.],\n",
              "          [0., 0., 0., ..., 0., 0., 0.],\n",
              "          [0., 0., 0., ..., 0., 0., 0.]]]],\n",
              "\n",
              "\n",
              "\n",
              "       [[[[0., 0., 0., ..., 0., 0., 0.],\n",
              "          [0., 0., 0., ..., 0., 0., 0.],\n",
              "          [0., 0., 0., ..., 0., 0., 0.],\n",
              "          ...,\n",
              "          [0., 0., 0., ..., 0., 0., 0.],\n",
              "          [0., 0., 0., ..., 0., 0., 0.],\n",
              "          [0., 0., 0., ..., 0., 0., 0.]]],\n",
              "\n",
              "\n",
              "        [[[0., 0., 0., ..., 0., 0., 0.],\n",
              "          [0., 0., 0., ..., 0., 0., 0.],\n",
              "          [0., 0., 0., ..., 0., 0., 0.],\n",
              "          ...,\n",
              "          [0., 0., 0., ..., 0., 0., 0.],\n",
              "          [0., 0., 0., ..., 0., 0., 0.],\n",
              "          [0., 0., 0., ..., 0., 0., 0.]]],\n",
              "\n",
              "\n",
              "        [[[0., 0., 0., ..., 0., 0., 0.],\n",
              "          [0., 0., 0., ..., 0., 0., 0.],\n",
              "          [0., 0., 0., ..., 0., 0., 0.],\n",
              "          ...,\n",
              "          [0., 0., 0., ..., 0., 0., 0.],\n",
              "          [0., 0., 0., ..., 0., 0., 0.],\n",
              "          [0., 0., 0., ..., 0., 0., 0.]]],\n",
              "\n",
              "\n",
              "        ...,\n",
              "\n",
              "\n",
              "        [[[0., 0., 0., ..., 0., 0., 0.],\n",
              "          [0., 0., 0., ..., 0., 0., 0.],\n",
              "          [0., 0., 0., ..., 0., 0., 0.],\n",
              "          ...,\n",
              "          [0., 0., 0., ..., 0., 0., 0.],\n",
              "          [0., 0., 0., ..., 0., 0., 0.],\n",
              "          [0., 0., 0., ..., 0., 0., 0.]]],\n",
              "\n",
              "\n",
              "        [[[0., 0., 0., ..., 0., 0., 0.],\n",
              "          [0., 0., 0., ..., 0., 0., 0.],\n",
              "          [0., 0., 0., ..., 0., 0., 0.],\n",
              "          ...,\n",
              "          [0., 0., 0., ..., 0., 0., 0.],\n",
              "          [0., 0., 0., ..., 0., 0., 0.],\n",
              "          [0., 0., 0., ..., 0., 0., 0.]]],\n",
              "\n",
              "\n",
              "        [[[0., 0., 0., ..., 0., 0., 0.],\n",
              "          [0., 0., 0., ..., 0., 0., 0.],\n",
              "          [0., 0., 0., ..., 0., 0., 0.],\n",
              "          ...,\n",
              "          [0., 0., 0., ..., 0., 0., 0.],\n",
              "          [0., 0., 0., ..., 0., 0., 0.],\n",
              "          [0., 0., 0., ..., 0., 0., 0.]]]],\n",
              "\n",
              "\n",
              "\n",
              "       [[[[0., 0., 0., ..., 0., 0., 0.],\n",
              "          [0., 0., 0., ..., 0., 0., 0.],\n",
              "          [0., 0., 0., ..., 0., 0., 0.],\n",
              "          ...,\n",
              "          [0., 0., 0., ..., 0., 0., 0.],\n",
              "          [0., 0., 0., ..., 0., 0., 0.],\n",
              "          [0., 0., 0., ..., 0., 0., 0.]]],\n",
              "\n",
              "\n",
              "        [[[0., 0., 0., ..., 0., 0., 0.],\n",
              "          [0., 0., 0., ..., 0., 0., 0.],\n",
              "          [0., 0., 0., ..., 0., 0., 0.],\n",
              "          ...,\n",
              "          [0., 0., 0., ..., 0., 0., 0.],\n",
              "          [0., 0., 0., ..., 0., 0., 0.],\n",
              "          [0., 0., 0., ..., 0., 0., 0.]]],\n",
              "\n",
              "\n",
              "        [[[0., 0., 0., ..., 0., 0., 0.],\n",
              "          [0., 0., 0., ..., 0., 0., 0.],\n",
              "          [0., 0., 0., ..., 0., 0., 0.],\n",
              "          ...,\n",
              "          [0., 0., 0., ..., 0., 0., 0.],\n",
              "          [0., 0., 0., ..., 0., 0., 0.],\n",
              "          [0., 0., 0., ..., 0., 0., 0.]]],\n",
              "\n",
              "\n",
              "        ...,\n",
              "\n",
              "\n",
              "        [[[0., 0., 0., ..., 0., 0., 0.],\n",
              "          [0., 0., 0., ..., 0., 0., 0.],\n",
              "          [0., 0., 0., ..., 0., 0., 0.],\n",
              "          ...,\n",
              "          [0., 0., 0., ..., 0., 0., 0.],\n",
              "          [0., 0., 0., ..., 0., 0., 0.],\n",
              "          [0., 0., 0., ..., 0., 0., 0.]]],\n",
              "\n",
              "\n",
              "        [[[0., 0., 0., ..., 0., 0., 0.],\n",
              "          [0., 0., 0., ..., 0., 0., 0.],\n",
              "          [0., 0., 0., ..., 0., 0., 0.],\n",
              "          ...,\n",
              "          [0., 0., 0., ..., 0., 0., 0.],\n",
              "          [0., 0., 0., ..., 0., 0., 0.],\n",
              "          [0., 0., 0., ..., 0., 0., 0.]]],\n",
              "\n",
              "\n",
              "        [[[0., 0., 0., ..., 0., 0., 0.],\n",
              "          [0., 0., 0., ..., 0., 0., 0.],\n",
              "          [0., 0., 0., ..., 0., 0., 0.],\n",
              "          ...,\n",
              "          [0., 0., 0., ..., 0., 0., 0.],\n",
              "          [0., 0., 0., ..., 0., 0., 0.],\n",
              "          [0., 0., 0., ..., 0., 0., 0.]]]],\n",
              "\n",
              "\n",
              "\n",
              "       [[[[0., 0., 0., ..., 0., 0., 0.],\n",
              "          [0., 0., 0., ..., 0., 0., 0.],\n",
              "          [0., 0., 0., ..., 0., 0., 0.],\n",
              "          ...,\n",
              "          [0., 0., 0., ..., 0., 0., 0.],\n",
              "          [0., 0., 0., ..., 0., 0., 0.],\n",
              "          [0., 0., 0., ..., 0., 0., 0.]]],\n",
              "\n",
              "\n",
              "        [[[0., 0., 0., ..., 0., 0., 0.],\n",
              "          [0., 0., 0., ..., 0., 0., 0.],\n",
              "          [0., 0., 0., ..., 0., 0., 0.],\n",
              "          ...,\n",
              "          [0., 0., 0., ..., 0., 0., 0.],\n",
              "          [0., 0., 0., ..., 0., 0., 0.],\n",
              "          [0., 0., 0., ..., 0., 0., 0.]]],\n",
              "\n",
              "\n",
              "        [[[0., 0., 0., ..., 0., 0., 0.],\n",
              "          [0., 0., 0., ..., 0., 0., 0.],\n",
              "          [0., 0., 0., ..., 0., 0., 0.],\n",
              "          ...,\n",
              "          [0., 0., 0., ..., 0., 0., 0.],\n",
              "          [0., 0., 0., ..., 0., 0., 0.],\n",
              "          [0., 0., 0., ..., 0., 0., 0.]]],\n",
              "\n",
              "\n",
              "        ...,\n",
              "\n",
              "\n",
              "        [[[0., 0., 0., ..., 0., 0., 0.],\n",
              "          [0., 0., 0., ..., 0., 0., 0.],\n",
              "          [0., 0., 0., ..., 0., 0., 0.],\n",
              "          ...,\n",
              "          [0., 0., 0., ..., 0., 0., 0.],\n",
              "          [0., 0., 0., ..., 0., 0., 0.],\n",
              "          [0., 0., 0., ..., 0., 0., 0.]]],\n",
              "\n",
              "\n",
              "        [[[0., 0., 0., ..., 0., 0., 0.],\n",
              "          [0., 0., 0., ..., 0., 0., 0.],\n",
              "          [0., 0., 0., ..., 0., 0., 0.],\n",
              "          ...,\n",
              "          [0., 0., 0., ..., 0., 0., 0.],\n",
              "          [0., 0., 0., ..., 0., 0., 0.],\n",
              "          [0., 0., 0., ..., 0., 0., 0.]]],\n",
              "\n",
              "\n",
              "        [[[0., 0., 0., ..., 0., 0., 0.],\n",
              "          [0., 0., 0., ..., 0., 0., 0.],\n",
              "          [0., 0., 0., ..., 0., 0., 0.],\n",
              "          ...,\n",
              "          [0., 0., 0., ..., 0., 0., 0.],\n",
              "          [0., 0., 0., ..., 0., 0., 0.],\n",
              "          [0., 0., 0., ..., 0., 0., 0.]]]],\n",
              "\n",
              "\n",
              "\n",
              "       [[[[0., 0., 0., ..., 0., 0., 0.],\n",
              "          [0., 0., 0., ..., 0., 0., 0.],\n",
              "          [0., 0., 0., ..., 0., 0., 0.],\n",
              "          ...,\n",
              "          [0., 0., 0., ..., 0., 0., 0.],\n",
              "          [0., 0., 0., ..., 0., 0., 0.],\n",
              "          [0., 0., 0., ..., 0., 0., 0.]]],\n",
              "\n",
              "\n",
              "        [[[0., 0., 0., ..., 0., 0., 0.],\n",
              "          [0., 0., 0., ..., 0., 0., 0.],\n",
              "          [0., 0., 0., ..., 0., 0., 0.],\n",
              "          ...,\n",
              "          [0., 0., 0., ..., 0., 0., 0.],\n",
              "          [0., 0., 0., ..., 0., 0., 0.],\n",
              "          [0., 0., 0., ..., 0., 0., 0.]]],\n",
              "\n",
              "\n",
              "        [[[0., 0., 0., ..., 0., 0., 0.],\n",
              "          [0., 0., 0., ..., 0., 0., 0.],\n",
              "          [0., 0., 0., ..., 0., 0., 0.],\n",
              "          ...,\n",
              "          [0., 0., 0., ..., 0., 0., 0.],\n",
              "          [0., 0., 0., ..., 0., 0., 0.],\n",
              "          [0., 0., 0., ..., 0., 0., 0.]]],\n",
              "\n",
              "\n",
              "        ...,\n",
              "\n",
              "\n",
              "        [[[0., 0., 0., ..., 0., 0., 0.],\n",
              "          [0., 0., 0., ..., 0., 0., 0.],\n",
              "          [0., 0., 0., ..., 0., 0., 0.],\n",
              "          ...,\n",
              "          [0., 0., 0., ..., 0., 0., 0.],\n",
              "          [0., 0., 0., ..., 0., 0., 0.],\n",
              "          [0., 0., 0., ..., 0., 0., 0.]]],\n",
              "\n",
              "\n",
              "        [[[0., 0., 0., ..., 0., 0., 0.],\n",
              "          [0., 0., 0., ..., 0., 0., 0.],\n",
              "          [0., 0., 0., ..., 0., 0., 0.],\n",
              "          ...,\n",
              "          [0., 0., 0., ..., 0., 0., 0.],\n",
              "          [0., 0., 0., ..., 0., 0., 0.],\n",
              "          [0., 0., 0., ..., 0., 0., 0.]]],\n",
              "\n",
              "\n",
              "        [[[0., 0., 0., ..., 0., 0., 0.],\n",
              "          [0., 0., 0., ..., 0., 0., 0.],\n",
              "          [0., 0., 0., ..., 0., 0., 0.],\n",
              "          ...,\n",
              "          [0., 0., 0., ..., 0., 0., 0.],\n",
              "          [0., 0., 0., ..., 0., 0., 0.],\n",
              "          [0., 0., 0., ..., 0., 0., 0.]]]]])"
            ]
          },
          "metadata": {
            "tags": []
          },
          "execution_count": 17
        }
      ]
    },
    {
      "cell_type": "code",
      "metadata": {
        "id": "y09t2hruCTGs",
        "colab_type": "code",
        "outputId": "732ef08e-f391-4a2f-99e8-5b9edca680d9",
        "colab": {
          "base_uri": "https://localhost:8080/",
          "height": 526
        }
      },
      "source": [
        "list(f.keys())\n",
        "f['predictor'][0]\n",
        "\n"
      ],
      "execution_count": 8,
      "outputs": [
        {
          "output_type": "error",
          "ename": "ValueError",
          "evalue": "ignored",
          "traceback": [
            "\u001b[0;31m---------------------------------------------------------------------------\u001b[0m",
            "\u001b[0;31mValueError\u001b[0m                                Traceback (most recent call last)",
            "\u001b[0;32m<ipython-input-8-6dcac207e0c4>\u001b[0m in \u001b[0;36m<module>\u001b[0;34m()\u001b[0m\n\u001b[0;32m----> 1\u001b[0;31m \u001b[0mlist\u001b[0m\u001b[0;34m(\u001b[0m\u001b[0mf\u001b[0m\u001b[0;34m.\u001b[0m\u001b[0mkeys\u001b[0m\u001b[0;34m(\u001b[0m\u001b[0;34m)\u001b[0m\u001b[0;34m)\u001b[0m\u001b[0;34m\u001b[0m\u001b[0;34m\u001b[0m\u001b[0m\n\u001b[0m\u001b[1;32m      2\u001b[0m \u001b[0mf\u001b[0m\u001b[0;34m[\u001b[0m\u001b[0;34m'predictor'\u001b[0m\u001b[0;34m]\u001b[0m\u001b[0;34m[\u001b[0m\u001b[0;36m0\u001b[0m\u001b[0;34m]\u001b[0m\u001b[0;34m\u001b[0m\u001b[0;34m\u001b[0m\u001b[0m\n\u001b[1;32m      3\u001b[0m \u001b[0;34m\u001b[0m\u001b[0m\n",
            "\u001b[0;32m/usr/lib/python3.6/_collections_abc.py\u001b[0m in \u001b[0;36m__len__\u001b[0;34m(self)\u001b[0m\n\u001b[1;32m    700\u001b[0m \u001b[0;34m\u001b[0m\u001b[0m\n\u001b[1;32m    701\u001b[0m     \u001b[0;32mdef\u001b[0m \u001b[0m__len__\u001b[0m\u001b[0;34m(\u001b[0m\u001b[0mself\u001b[0m\u001b[0;34m)\u001b[0m\u001b[0;34m:\u001b[0m\u001b[0;34m\u001b[0m\u001b[0;34m\u001b[0m\u001b[0m\n\u001b[0;32m--> 702\u001b[0;31m         \u001b[0;32mreturn\u001b[0m \u001b[0mlen\u001b[0m\u001b[0;34m(\u001b[0m\u001b[0mself\u001b[0m\u001b[0;34m.\u001b[0m\u001b[0m_mapping\u001b[0m\u001b[0;34m)\u001b[0m\u001b[0;34m\u001b[0m\u001b[0;34m\u001b[0m\u001b[0m\n\u001b[0m\u001b[1;32m    703\u001b[0m \u001b[0;34m\u001b[0m\u001b[0m\n\u001b[1;32m    704\u001b[0m     \u001b[0;32mdef\u001b[0m \u001b[0m__repr__\u001b[0m\u001b[0;34m(\u001b[0m\u001b[0mself\u001b[0m\u001b[0;34m)\u001b[0m\u001b[0;34m:\u001b[0m\u001b[0;34m\u001b[0m\u001b[0;34m\u001b[0m\u001b[0m\n",
            "\u001b[0;32mh5py/_objects.pyx\u001b[0m in \u001b[0;36mh5py._objects.with_phil.wrapper\u001b[0;34m()\u001b[0m\n",
            "\u001b[0;32mh5py/_objects.pyx\u001b[0m in \u001b[0;36mh5py._objects.with_phil.wrapper\u001b[0;34m()\u001b[0m\n",
            "\u001b[0;32m/usr/local/lib/python3.6/dist-packages/h5py/_hl/group.py\u001b[0m in \u001b[0;36m__len__\u001b[0;34m(self)\u001b[0m\n\u001b[1;32m    316\u001b[0m     \u001b[0;32mdef\u001b[0m \u001b[0m__len__\u001b[0m\u001b[0;34m(\u001b[0m\u001b[0mself\u001b[0m\u001b[0;34m)\u001b[0m\u001b[0;34m:\u001b[0m\u001b[0;34m\u001b[0m\u001b[0;34m\u001b[0m\u001b[0m\n\u001b[1;32m    317\u001b[0m         \u001b[0;34m\"\"\" Number of members attached to this group \"\"\"\u001b[0m\u001b[0;34m\u001b[0m\u001b[0;34m\u001b[0m\u001b[0m\n\u001b[0;32m--> 318\u001b[0;31m         \u001b[0;32mreturn\u001b[0m \u001b[0mself\u001b[0m\u001b[0;34m.\u001b[0m\u001b[0mid\u001b[0m\u001b[0;34m.\u001b[0m\u001b[0mget_num_objs\u001b[0m\u001b[0;34m(\u001b[0m\u001b[0;34m)\u001b[0m\u001b[0;34m\u001b[0m\u001b[0;34m\u001b[0m\u001b[0m\n\u001b[0m\u001b[1;32m    319\u001b[0m \u001b[0;34m\u001b[0m\u001b[0m\n\u001b[1;32m    320\u001b[0m     \u001b[0;34m@\u001b[0m\u001b[0mwith_phil\u001b[0m\u001b[0;34m\u001b[0m\u001b[0;34m\u001b[0m\u001b[0m\n",
            "\u001b[0;32mh5py/_objects.pyx\u001b[0m in \u001b[0;36mh5py._objects.with_phil.wrapper\u001b[0;34m()\u001b[0m\n",
            "\u001b[0;32mh5py/_objects.pyx\u001b[0m in \u001b[0;36mh5py._objects.with_phil.wrapper\u001b[0;34m()\u001b[0m\n",
            "\u001b[0;32mh5py/h5g.pyx\u001b[0m in \u001b[0;36mh5py.h5g.GroupID.get_num_objs\u001b[0;34m()\u001b[0m\n",
            "\u001b[0;31mValueError\u001b[0m: Not a location id (invalid object ID)"
          ]
        }
      ]
    },
    {
      "cell_type": "code",
      "metadata": {
        "id": "M5e5RvhvDCMr",
        "colab_type": "code",
        "colab": {}
      },
      "source": [
        "f.close()\n"
      ],
      "execution_count": 0,
      "outputs": []
    },
    {
      "cell_type": "code",
      "metadata": {
        "id": "EE0WlVsKDFyk",
        "colab_type": "code",
        "colab": {}
      },
      "source": [
        ""
      ],
      "execution_count": 0,
      "outputs": []
    },
    {
      "cell_type": "markdown",
      "metadata": {
        "id": "7p6hhPo264zl",
        "colab_type": "text"
      },
      "source": [
        ""
      ]
    }
  ]
}