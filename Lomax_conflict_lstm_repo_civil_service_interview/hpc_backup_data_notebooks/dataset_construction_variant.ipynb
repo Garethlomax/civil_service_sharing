{
 "cells": [
  {
   "cell_type": "markdown",
   "metadata": {
    "colab_type": "text",
    "id": "view-in-github"
   },
   "source": [
    "<a href=\"https://colab.research.google.com/github/msc-acse/acse-9-independent-research-project-Garethlomax/blob/data_curation/dataset_construction.ipynb\" target=\"_parent\"><img src=\"https://colab.research.google.com/assets/colab-badge.svg\" alt=\"Open In Colab\"/></a>"
   ]
  },
  {
   "cell_type": "markdown",
   "metadata": {
    "colab_type": "text",
    "id": "ggKpljorcaJz"
   },
   "source": [
    "# IMPORTS\n",
    "We are constructing using the functions in the accompanying .py files as computer doesnt have enough ram to handle full dataset.\n"
   ]
  },
  {
   "cell_type": "code",
   "execution_count": 1,
   "metadata": {
    "colab": {
     "base_uri": "https://localhost:8080/",
     "height": 124
    },
    "colab_type": "code",
    "id": "nC7dWRZDg-To",
    "outputId": "06d6de7e-ee7f-4c7c-f852-7d0776a7cfd9"
   },
   "outputs": [],
   "source": [
    "#from google.colab import drive\n",
    "#drive.mount('/content/drive')"
   ]
  },
  {
   "cell_type": "code",
   "execution_count": 2,
   "metadata": {
    "colab": {},
    "colab_type": "code",
    "id": "joQx8rOZcK1q"
   },
   "outputs": [],
   "source": [
    "\n",
    "import numpy as np\n",
    "import matplotlib.pyplot as plt\n",
    "import pandas as pd\n",
    "#import seaborn as sns\n",
    "import h5py\n",
    "import random"
   ]
  },
  {
   "cell_type": "markdown",
   "metadata": {
    "colab_type": "text",
    "id": "nvT_wvBzfxhR"
   },
   "source": [
    "# FUNCTIONS"
   ]
  },
  {
   "cell_type": "code",
   "execution_count": 29,
   "metadata": {
    "colab": {},
    "colab_type": "code",
    "id": "-PhZpnw6fzH7"
   },
   "outputs": [],
   "source": [
    "def date_to_int_list(date):\n",
    "    # date is in format yyyy-mm-dd\n",
    "\n",
    "    y = int(date[0:4])\n",
    "    m = int(date[5:7])\n",
    "    d = int(date[8:10])\n",
    "\n",
    "#    print(\"date is:\")\n",
    "#    print(y, \" \",m, \" \", d)\n",
    "    return [y,m,d]\n",
    "\n",
    "def monotonic_date(date, baseline = [1989, 1, 1]):\n",
    "\n",
    "    date = date_to_int_list(date)\n",
    "#    print(type(date[0]))\n",
    "#    print(type(baseline[0]))\n",
    "    # turns date since baseline start date into a monotonic function based on\n",
    "    # year and months in line with pgm unit of analysis\n",
    "    return date[1] - baseline[1] + ((date[0] - baseline[0]) * 12)\n",
    "\n",
    "\n",
    "\n",
    "def construct_layer(dataframe, key, prio_key = \"gid\", debug = False):\n",
    "    # returns 360 720 grid layer for a given parameter\n",
    "    # should be given for one parameter per year.\n",
    "    array = np.zeros(360*720)\n",
    "    prio_grid = dataframe[prio_key]\n",
    "    for i in range(len(prio_grid)):\n",
    "        j = prio_grid.iloc[i] - 1\n",
    "        \"\"\"change the below to only be in the case it isnt nan\"\"\" # will this cause problems?\n",
    "        array[j] += dataframe[key].iloc[i]\n",
    "    array.resize(360,720)\n",
    "\n",
    "    return array\n",
    "\n",
    "def construct_combined_sequence(dataframe_prio, dataframe_ucdp, key_list_prio, key_list_ucdp, start = [1989, 1,1], stop = [2014,1,1]):\n",
    "    \"\"\"commented out the stop and start\"\"\"\n",
    "    #stop  = '2014-01-01'\n",
    "    # need to adapt ged and other year / month vs ged database for this.\n",
    "    # bool prio to add multiples of 12 to each year usin prio grid.\n",
    "    num_month = monotonic_date(stop, start)\n",
    "    print(num_month)\n",
    "    comb_channel_len = len(key_list_prio) + len(key_list_ucdp)\n",
    "    print(comb_channel_len)\n",
    "    array = np.zeros((num_month, comb_channel_len, 360,720))\n",
    "    \"\"\"commented out here aswell\"\"\"\n",
    "    stop = date_to_int_list(stop)\n",
    "\n",
    "    month = 0\n",
    "    extract_month = monotonic_date('2012-01-01')\n",
    "    for i in range(start[0], stop[0]):\n",
    "        for j in range(12): # for each month\n",
    "            # now fill in selected channels as requried.\n",
    "\n",
    "            array[month][:len(key_list_ucdp)] = construct_channels(dataframe_ucdp[dataframe_ucdp.mon_month == extract_month], key_list = key_list_ucdp, prio_key = \"priogrid_gid\")\n",
    "            array[month][len(key_list_ucdp):] = construct_channels(dataframe_prio[dataframe_prio.year == i], key_list = key_list_prio, prio_key = 'gid')\n",
    "            print(extract_month)\n",
    "\n",
    "            month += 1\n",
    "            extract_month +=1\n",
    "    del month\n",
    "    return array\n",
    "\n",
    "\n",
    "\n",
    "def construct_channels(dataframe, key_list, prio_key = \"gid\"):\n",
    "    # usually used for prio\n",
    "    array = np.zeros((len(key_list), 360, 720))\n",
    "    for i, keys in enumerate(key_list):\n",
    "        array[i] = construct_layer(dataframe, key = keys, prio_key = prio_key)\n",
    "    return array\n",
    "\n",
    "\n",
    "\"\"\"check how we are dealing with cases that go up to and including the final step\"\"\"\n",
    "\n",
    "def construct_sequence(dataframe, key_list, prio_key = 'gid', start = [1989, 1, 1], stop = [2014,1,1], prio = False):\n",
    "    stop  = '2014-01-01'\n",
    "    # need to adapt ged and other year / month vs ged database for this.\n",
    "    # bool prio to add multiples of 12 to each year usin prio grid.\n",
    "    num_month = monotonic_date(stop, start)\n",
    "\n",
    "\n",
    "\n",
    "\n",
    "    if prio == False:\n",
    "        # i.e if doing ucdp\n",
    "        # presumes adapted ucdp\n",
    "        # seq length, channels, height, width\n",
    "        array = np.zeros((num_month, len(key_list), 360, 720))\n",
    "\n",
    "        for month in range(num_month):\n",
    "            array[month] = construct_channels(dataframe[dataframe.mon_month == month], key_list = key_list, prio_key = \"priogrid_gid\")\n",
    "\n",
    "            # now for\n",
    "#            array[i] =\n",
    "    elif prio:\n",
    "        stop = [2014,1,1]\n",
    "        array = np.zeros((num_month, len(key_list), 360, 720))\n",
    "        # now for the prio grid data.\n",
    "        # need to make up remainder of start year,\n",
    "        # then multiples of 12 for each year\n",
    "        # then remainder of end year.\n",
    "\n",
    "        \"\"\"this presumes start dates @ start of year no more no less\"\"\"\n",
    "        # need to plus one at the end\n",
    "        month = 0\n",
    "        for i in range(start[0], stop[0]):\n",
    "            for j in range(12): # for each month\n",
    "                array[month] = construct_channels(dataframe[dataframe.year == i], key_list = key_list, prio_key = 'gid')\n",
    "                print(month)\n",
    "\n",
    "                month += 1\n",
    "        del month\n",
    "\n",
    "\n",
    "\n",
    "\n",
    "\n",
    "#        start_months = 13 - start[1] # i.e if its 1989,1,1 then there are 12 months left.\n",
    "#        years = stop[0] - start[0]  - 1 # -1 as due to method of making up start months. i.e\n",
    "#        # want [2013,1,1] [2014,1,1] to be dependant of start and stop months and have no year * 12 months additions\n",
    "#        finish_months = stop[1] # stop months\n",
    "#        months_interim = np.arange(start[0], stop[0]+1, 1)\n",
    "#\n",
    "#        ######\n",
    "#\n",
    "#        # now the start month multiples\n",
    "#        for i in range(start_months):\n",
    "#            array[i] = construct_channels(dataframe[dataframe.year == start[0]], key_list = key_list, prio_key = \"gid\")\n",
    "#        # double check prio yearly - try to get monthly values out.\n",
    "#\n",
    "#        for i in range(years):\n",
    "#            for j in range(i *12, (i+1)* 12):\n",
    "#                array[j]\n",
    "\n",
    "\n",
    "    return array\n",
    "\n",
    "\n",
    "def date_column(dataframe, baseline = [1989,1,1]):\n",
    "    # puts new column on dataframe, no need to return.\n",
    "    # date start just as dummy atm\n",
    "#    dataframe = dataframe[\"date_start\"]\n",
    "    vals = dataframe[\"date_start\"].values\n",
    "    new_col = np.array([monotonic_date(string_date) for string_date in vals])\n",
    "    dataframe[\"mon_month\"] = new_col\n",
    "\n",
    "def h5py_conversion(data_array, filename, key_list_ucdp, key_list_prio):\n",
    "    # this is for saving the default 360:720 file to chop out of.\n",
    "    # lazy loading saves the day\n",
    "    # all day\n",
    "    # every day\n",
    "    f = h5py.File(\"{}.hdf5\".format(filename), \"w\")\n",
    "\n",
    "    f.create_dataset(\"data_combined\", data = data_array)\n",
    "\n",
    "    f.close()\n",
    "\n",
    "\n",
    "\n",
    "    csv = open(name + \"_config.csv\", 'w')\n",
    "    csv.write(\"Included data UCDP:\\n\")\n",
    "    for key in key_list_ucdp:\n",
    "        csv.write(key + \"\\n\")\n",
    "\n",
    "    csv.write(\"Included data PRIO:\\n\")\n",
    "    for key in key_list_prio:\n",
    "        csv.write(key + \"\\n\")\n",
    "    csv.close()\n"
   ]
  },
  {
   "cell_type": "code",
   "execution_count": 4,
   "metadata": {
    "colab": {},
    "colab_type": "code",
    "id": "AdH8e_Alf5r7"
   },
   "outputs": [],
   "source": [
    "def raster_test(input_data, chunk_size = 16):\n",
    "    # to overcome edge sizes can make selection large if we just reject the training data for outside africa\n",
    "    # although we do not necessarily need to do this\n",
    "    # i.e expand box and allow less sampled box to sampel others more frequently.\n",
    "\n",
    "    # step size is always 1\n",
    "    # assuming image is a cutout of globe\n",
    "    # this is for single step, single channel as a test.\n",
    "    step = 1\n",
    "    height = input_data.shape[-2]\n",
    "    width = input_data.shape[-1]\n",
    "    for i in range(height - chunk_size + 1):\n",
    "        for j in range(width - chunk_size+1):\n",
    "            print(input_data[:,i:i+chunk_size,j:j + chunk_size])\n",
    "            print(\".\")\n",
    "\n",
    "#    plt.imshow(input_data)\n",
    "\n",
    "def raster_selection(input_data, chunk_size = 16):\n",
    "    # here input_data is sequence step.\n",
    "    # data should be of dimensions seq, channels, height, width.\n",
    "    # to overcome edge sizes can make selection large if we just reject the training data for outside africa\n",
    "    # although we do not necessarily need to do this\n",
    "    # i.e expand box and allow less sampled box to sampel others more frequently.\n",
    "\n",
    "    # step size is always 1\n",
    "    # assuming image is a cutout of globe\n",
    "    # this is for single step, single channel as a test.\n",
    "    step = 1\n",
    "    height = input_data.shape[-2]\n",
    "    width = input_data.shape[-1]\n",
    "    # this is not efficient.\n",
    "    for i in range(height - chunk_size + 1):\n",
    "        for j in range(width - chunk_size+1):\n",
    "            input_data[0][i:i+chunk_size,j:j + chunk_size]\n",
    "\n",
    "    plt.imshow(input_data)\n",
    "\n",
    "\n",
    "def random_pixel_bounds(i, j, chunk_size = 16):\n",
    "    # returns the bounds of the image to select with a random pixel size.\n",
    "\n",
    "    height = random.randint(0, chunk_size-1)\n",
    "    width = random.randint(0, chunk_size-1)\n",
    "    # this randomly generates a of the image for where the pixel may be located\n",
    "    # randomly in the cut out image.\n",
    "    i_lower = i - height\n",
    "    i_upper = i + (chunk_size - height)\n",
    "\n",
    "    j_lower = j - width\n",
    "    j_upper = j + (chunk_size - width)\n",
    "\n",
    "    return [i_lower, i_upper, j_lower, j_upper]\n",
    "\n",
    "def random_selection(image, i, j, chunk_size = 16):\n",
    "\n",
    "    i_lower, i_upper, j_lower, j_upper = random_pixel_bounds(i, j, chunk_size = chunk_size)\n",
    "\n",
    "    print(image[i_lower:i_upper,j_lower:j_upper])\n",
    "\n",
    "def random_grid_selection(image, sequence_step, chunk_size= 16, draws = 5, debug = True):\n",
    "    if debug:\n",
    "        print(\"Image shape is:\" , image.shape)\n",
    "\n",
    "\n",
    "    # decide if this is going to be h5py loaded.\n",
    "\n",
    "    # decide what sequence step is going to be like and how to return it\n",
    "\n",
    "    # image is seq, channels, height, width\n",
    "\n",
    "    # here we are using a seq length of 10. - could use 12 but atm we go for 10.\n",
    "\n",
    "    # sequence step is the step at which the TRUTH is being extracted. the predictor sequence\n",
    "    # is extracted from the 10 preceding steps. be careful to send in from i > 11\n",
    "    assert sequence_step > 10, (\"This function selects the datapoints from this test set that contain\"\n",
    "                                \"a conflict event and then selects predictor data from the 10 preceding steps\"\n",
    "                                \" as a result i > 10 must be true\")\n",
    "    # for sequence step, 0th layer - i.e fatalities\n",
    "    y, x = np.where(image[sequence_step][0] >= 1)\n",
    "\n",
    "    if debug:\n",
    "        print(x.shape)\n",
    "\n",
    "    truth_list = []\n",
    "    predictor_list = []\n",
    "\n",
    "    # re arange for loops for speed?\n",
    "    for i,j in zip(y, x): # now over sites where fatalities have occured\n",
    "        for _ in range(draws):\n",
    "            i_lower, i_upper, j_lower, j_upper = random_pixel_bounds(i, j, chunk_size=chunk_size)\n",
    "\n",
    "            # now need to work out how to store these. how to stack ontop ect.\n",
    "            truth = image[sequence_step][0,i_lower:i_upper,j_lower:j_upper]\n",
    "            # check these dimensions\n",
    "            \"\"\"FIXED BELOW \"\"\"\n",
    "            predictors = image[sequence_step-10:sequence_step, :,i_lower:i_upper,j_lower:j_upper]\n",
    "\n",
    "            truth_list.append(truth)\n",
    "            predictor_list.append(predictors)\n",
    "\n",
    "    # finally we combine the previous arrays.\n",
    "\n",
    "    return np.stack(predictor_list, axis= 0), np.stack(truth_list, axis = 0)\n",
    "\n",
    "\n",
    "def full_dataset_numpy(image, chunk_size = 16, draws = 5, debug = False):\n",
    "    # image is seq, channels, height, width\n",
    "    predictor_list = []\n",
    "    truth_list = []\n",
    "    for i in range(11, len(image)):\n",
    "        t1, t2 = random_grid_selection(image, i)\n",
    "        predictor_list.append(t1)\n",
    "        truth_list.append(t2)\n",
    "\n",
    "    truth_np = np.concatenate(truth_list, axis = 0)\n",
    "    predictor_np = np.concatenate(predictor_list, axis =0)\n",
    "    return predictor_np, truth_np\n",
    "\n",
    "def quick_dataset(data, name):\n",
    "    f = h5py.File(name + \".hdf5\", \"w\")\n",
    "    f.create_dataset(\"main\", data = data)\n",
    "#    f.create_dataset(\"truth\", data = truth)\n",
    "    f.close()\n",
    "\n",
    "\n",
    "\n",
    "\n",
    "#data = pd.read_csv(\"data/ged191.csv\")\n",
    "\n",
    "def debug_func1(dataframe, month):\n",
    "    a = dataframe[dataframe.mon_month == month]\n",
    "    print(len(a[a.best >0]))\n"
   ]
  },
  {
   "cell_type": "code",
   "execution_count": 5,
   "metadata": {
    "colab": {},
    "colab_type": "code",
    "id": "4WG8VQ4Of_A7"
   },
   "outputs": [],
   "source": [
    "def raster_test(input_data, chunk_size = 16):\n",
    "    # to overcome edge sizes can make selection large if we just reject the training data for outside africa\n",
    "    # although we do not necessarily need to do this\n",
    "    # i.e expand box and allow less sampled box to sampel others more frequently.\n",
    "\n",
    "    # step size is always 1\n",
    "    # assuming image is a cutout of globe\n",
    "    # this is for single step, single channel as a test.\n",
    "    step = 1\n",
    "    height = input_data.shape[-2]\n",
    "    width = input_data.shape[-1]\n",
    "    for i in range(height - chunk_size + 1):\n",
    "        for j in range(width - chunk_size+1):\n",
    "            print(input_data[:,i:i+chunk_size,j:j + chunk_size])\n",
    "            print(\".\")\n",
    "\n",
    "#    plt.imshow(input_data)\n",
    "\n",
    "def raster_selection(input_data, chunk_size = 16):\n",
    "    # here input_data is sequence step.\n",
    "    # data should be of dimensions seq, channels, height, width.\n",
    "    # to overcome edge sizes can make selection large if we just reject the training data for outside africa\n",
    "    # although we do not necessarily need to do this\n",
    "    # i.e expand box and allow less sampled box to sampel others more frequently.\n",
    "\n",
    "    # step size is always 1\n",
    "    # assuming image is a cutout of globe\n",
    "    # this is for single step, single channel as a test.\n",
    "    step = 1\n",
    "    height = input_data.shape[-2]\n",
    "    width = input_data.shape[-1]\n",
    "    # this is not efficient.\n",
    "    for i in range(height - chunk_size + 1):\n",
    "        for j in range(width - chunk_size+1):\n",
    "            input_data[0][i:i+chunk_size,j:j + chunk_size]\n",
    "\n",
    "    plt.imshow(input_data)\n",
    "\n",
    "\n",
    "def random_pixel_bounds(i, j, chunk_size = 16):\n",
    "    # returns the bounds of the image to select with a random pixel size.\n",
    "\n",
    "    height = random.randint(0, chunk_size-1)\n",
    "    width = random.randint(0, chunk_size-1)\n",
    "    # this randomly generates a of the image for where the pixel may be located\n",
    "    # randomly in the cut out image.\n",
    "    i_lower = i - height\n",
    "    i_upper = i + (chunk_size - height)\n",
    "\n",
    "    j_lower = j - width\n",
    "    j_upper = j + (chunk_size - width)\n",
    "\n",
    "    return [i_lower, i_upper, j_lower, j_upper]\n",
    "\n",
    "def random_selection(image, i, j, chunk_size = 16):\n",
    "\n",
    "    i_lower, i_upper, j_lower, j_upper = random_pixel_bounds(i, j, chunk_size = chunk_size)\n",
    "\n",
    "    print(image[i_lower:i_upper,j_lower:j_upper])\n",
    "\n",
    "def random_grid_selection(image, sequence_step, chunk_size= 16, draws = 5, cluster = False, min_events = 0, debug = True):\n",
    "    if debug:\n",
    "        print(\"Image shape is:\" , image.shape)\n",
    "\n",
    "\n",
    "    # decide if this is going to be h5py loaded.\n",
    "\n",
    "    # decide what sequence step is going to be like and how to return it\n",
    "\n",
    "    # image is seq, channels, height, width\n",
    "\n",
    "    # here we are using a seq length of 10. - could use 12 but atm we go for 10.\n",
    "\n",
    "    # sequence step is the step at which the TRUTH is being extracted. the predictor sequence\n",
    "    # is extracted from the 10 preceding steps. be careful to send in from i > 11\n",
    "    assert sequence_step > 10, (\"This function selects the datapoints from this test set that contain\"\n",
    "                                \"a conflict event and then selects predictor data from the 10 preceding steps\"\n",
    "                                \" as a result i > 10 must be true\")\n",
    "    # for sequence step, 0th layer - i.e fatalities\n",
    "    y, x = np.where(image[sequence_step][0] >= 1)\n",
    "#     print(y)\n",
    "#     print(x)\n",
    "    \n",
    "    \n",
    "    \n",
    "    \"\"\"INCLUDE CLUSTERING IN HERE?????\"\"\"\n",
    "    if cluster:\n",
    "        clf = LocalOutlierFactor(n_neighbors=5, contamination= 0.05)\n",
    "        pred = clf.fit_predict(X)\n",
    "        # correct this but answer is this shape\n",
    "        np.hstack((a.reshape((-1,1)), b.reshape((-1,1))))\n",
    "        \n",
    "    \n",
    "    if debug:\n",
    "        print(x.shape)\n",
    "\n",
    "    truth_list = []\n",
    "    predictor_list = []\n",
    "\n",
    "    # re arange for loops for speed?\n",
    "    for i,j in zip(y, x): # now over sites where fatalities have occured\n",
    "        for _ in range(draws):\n",
    "            i_lower, i_upper, j_lower, j_upper = random_pixel_bounds(i, j, chunk_size=chunk_size)\n",
    "\n",
    "            # now need to work out how to store these. how to stack ontop ect.\n",
    "            truth = image[sequence_step][0,i_lower:i_upper,j_lower:j_upper]\n",
    "            # check these dimensions\n",
    "            \"\"\"fixed here\"\"\"\n",
    "            predictors = image[sequence_step-10:sequence_step, :,i_lower:i_upper,j_lower:j_upper]\n",
    "            \n",
    "            # if statement here to decide whether will be appended to full list\n",
    "            # i.e if it reaches the cutoff for acceptable level of conflict.\n",
    "#             print(np.count_nonzero(predictors[:,0]))\n",
    "#             print(sequence_step)\n",
    "#             print(predictors.shape)\n",
    "            if (np.count_nonzero(predictors[:,0]) >= min_events):\n",
    "                truth_list.append(truth)\n",
    "                predictor_list.append(predictors)\n",
    "\n",
    "    # finally we combine the previous arrays.\n",
    "\n",
    "    return np.stack(predictor_list, axis= 0), np.stack(truth_list, axis = 0)\n",
    "\n",
    "\n",
    "def full_dataset_numpy(image, chunk_size = 16, draws = 5, min_events = 0, debug = False):\n",
    "    # image is seq, channels, height, width\n",
    "    predictor_list = []\n",
    "    truth_list = []\n",
    "    for i in range(11, len(image)):\n",
    "        t1, t2 = random_grid_selection(image, i, min_events = min_events)\n",
    "        predictor_list.append(t1)\n",
    "        truth_list.append(t2)\n",
    "\n",
    "    truth_np = np.concatenate(truth_list, axis = 0)\n",
    "    predictor_np = np.concatenate(predictor_list, axis =0)\n",
    "    return predictor_np, truth_np\n",
    "\n",
    "def quick_dataset(data, name):\n",
    "    f = h5py.File(name + \".hdf5\", \"w\")\n",
    "    f.create_dataset(\"main\", data = data)\n",
    "#    f.create_dataset(\"truth\", data = truth)\n",
    "    f.close()\n",
    "\n",
    "\n",
    "\n",
    "\n",
    "#data = pd.read_csv(\"data/ged191.csv\")\n",
    "\n",
    "def debug_func1(dataframe, month):\n",
    "    a = dataframe[dataframe.mon_month == month]\n",
    "    print(len(a[a.best >0]))\n"
   ]
  },
  {
   "cell_type": "code",
   "execution_count": 6,
   "metadata": {
    "colab": {},
    "colab_type": "code",
    "id": "YfrOf9qBMADY"
   },
   "outputs": [],
   "source": [
    "def binary_event_column(dataframe):\n",
    "    \"\"\" as it is hard to encode categorical information about battles when\n",
    "    battle deaths = 0, we then encode a binary - 0, 1 layer pertaining to\n",
    "    whether an event took place\"\"\"\n",
    "    new_col = np.ones(len(dataframe))\n",
    "    dataframe[\"binary_event\"] = new_col\n",
    "\n",
    "def nan_to_one(dataframe, key):\n",
    "    \"\"\"takes column from dataframe\"\"\"\n",
    "    dataframe[key] = dataframe[key].fillna(0)"
   ]
  },
  {
   "cell_type": "markdown",
   "metadata": {
    "colab_type": "text",
    "id": "Xlgt1oO5J14F"
   },
   "source": []
  },
  {
   "cell_type": "markdown",
   "metadata": {
    "colab_type": "text",
    "id": "t14HJK9Pgk0E"
   },
   "source": [
    "# LOADING DATA AND FUNCTION"
   ]
  },
  {
   "cell_type": "code",
   "execution_count": 7,
   "metadata": {
    "colab": {
     "base_uri": "https://localhost:8080/",
     "height": 35
    },
    "colab_type": "code",
    "id": "8JDVKJ6UhCcU",
    "outputId": "6fbf27fd-e3b0-4844-9096-4b6b02365077"
   },
   "outputs": [
    {
     "data": {
      "text/plain": [
       "'/rdsgpfs/general/user/gcl15/home/masters_project/data'"
      ]
     },
     "execution_count": 7,
     "metadata": {},
     "output_type": "execute_result"
    }
   ],
   "source": [
    "%pwd"
   ]
  },
  {
   "cell_type": "code",
   "execution_count": 8,
   "metadata": {
    "colab": {
     "base_uri": "https://localhost:8080/",
     "height": 35
    },
    "colab_type": "code",
    "id": "KexhPxtxkUTD",
    "outputId": "545161da-329f-46fc-e00a-3edc7859ff5e"
   },
   "outputs": [
    {
     "name": "stdout",
     "output_type": "stream",
     "text": [
      "/rdsgpfs/general/user/gcl15/home/masters_project\n"
     ]
    }
   ],
   "source": [
    "%cd .."
   ]
  },
  {
   "cell_type": "markdown",
   "metadata": {
    "colab_type": "text",
    "id": "WHrgYmVdlK8q"
   },
   "source": [
    "load in data"
   ]
  },
  {
   "cell_type": "code",
   "execution_count": 9,
   "metadata": {
    "colab": {},
    "colab_type": "code",
    "id": "rEibi2zhgrbk"
   },
   "outputs": [],
   "source": [
    "\n",
    "data_prio = pd.read_csv(\"data/PRIO-GRID Yearly Variables for 1946-2014 - 2019-07-26.csv\")\n",
    "data_ucdp = pd.read_csv(\"data/ged191.csv\")\n",
    "\n"
   ]
  },
  {
   "cell_type": "code",
   "execution_count": 10,
   "metadata": {
    "colab": {
     "base_uri": "https://localhost:8080/",
     "height": 1000
    },
    "colab_type": "code",
    "id": "w7baPUX5sn0j",
    "outputId": "2abe0e29-9ded-4959-a2d3-d652a44495d3"
   },
   "outputs": [],
   "source": [
    "#data_prio"
   ]
  },
  {
   "cell_type": "markdown",
   "metadata": {
    "colab_type": "text",
    "id": "GeDqDYZRFaXa"
   },
   "source": [
    "sub selecting only the african region - just to test for simplicity - compare training on both at a later date"
   ]
  },
  {
   "cell_type": "code",
   "execution_count": 11,
   "metadata": {
    "colab": {},
    "colab_type": "code",
    "id": "Soxg4jfzFiOk"
   },
   "outputs": [],
   "source": [
    "north = 37.32\n",
    "south = -34.5115\n",
    "west = -17.3113\n",
    "east = 51.2752\n",
    "\n",
    "data_ucdp = data_ucdp[(data_ucdp.latitude >= south) & (data_ucdp.latitude <= north) & (data_ucdp.longitude >= west) & (east >= data_ucdp.longitude)]\n",
    "# data = dummy"
   ]
  },
  {
   "cell_type": "markdown",
   "metadata": {
    "colab_type": "text",
    "id": "vyXn5extlKDV"
   },
   "source": [
    "add monotonic month column to the ucdp data, turn nans into 1s for petroleum and drugs"
   ]
  },
  {
   "cell_type": "code",
   "execution_count": 12,
   "metadata": {
    "colab": {},
    "colab_type": "code",
    "id": "NjBSL8xNgycL"
   },
   "outputs": [],
   "source": [
    "date_column(data_ucdp)\n",
    "binary_event_column(data_ucdp)\n",
    "nan_to_one(data_prio, \"petroleum_y\")\n",
    "nan_to_one(data_prio, \"drug_y\")\n",
    "\n",
    "\n",
    "\n"
   ]
  },
  {
   "cell_type": "code",
   "execution_count": 13,
   "metadata": {
    "colab": {
     "base_uri": "https://localhost:8080/",
     "height": 35
    },
    "colab_type": "code",
    "id": "UK6uwb6M9T6Y",
    "outputId": "5296aead-6efd-415f-d778-878fad3b903d"
   },
   "outputs": [],
   "source": [
    "#data_prio.drug_y.unique()\n"
   ]
  },
  {
   "cell_type": "code",
   "execution_count": 14,
   "metadata": {
    "colab": {
     "base_uri": "https://localhost:8080/",
     "height": 35
    },
    "colab_type": "code",
    "id": "Edz9RKCB9Yq0",
    "outputId": "7c0c9fc8-1dde-4958-ea07-f10aa9b90e82"
   },
   "outputs": [],
   "source": [
    "#data_prio.petroleum_y.unique()"
   ]
  },
  {
   "cell_type": "code",
   "execution_count": 15,
   "metadata": {
    "colab": {
     "base_uri": "https://localhost:8080/",
     "height": 35
    },
    "colab_type": "code",
    "id": "Kn7sl3W3dZ7A",
    "outputId": "03afcb65-6bd6-411b-920a-915cb382fd68"
   },
   "outputs": [],
   "source": [
    "#data_prio.drug_y.unique()"
   ]
  },
  {
   "cell_type": "markdown",
   "metadata": {
    "colab_type": "text",
    "id": "OWId5IE1lPVf"
   },
   "source": [
    "construct full image sequence"
   ]
  },
  {
   "cell_type": "code",
   "execution_count": 17,
   "metadata": {
    "colab": {},
    "colab_type": "code",
    "id": "lYxGEKVANpJg"
   },
   "outputs": [],
   "source": [
    "key_list_prio = [\"petroleum_y\",\"drug_y\", \"prec_gpcp\"] # not temp - needs better imputation\n",
    "# excluded also useful - talk to nils about exclusion.\n",
    "#gcp_ppp also not included.\n",
    "#\n",
    "#\n",
    "#\n",
    "#\n",
    "#\n",
    "#\n",
    "#\n",
    "#\n",
    "\n",
    "# no mountainous regions so far\n",
    "# key_list_ucdp = [\"best\", \"binary_event\"]\n",
    "key_list_ucdp = ['binary_event', 'best']\n",
    "\n"
   ]
  },
  {
   "cell_type": "code",
   "execution_count": 25,
   "metadata": {},
   "outputs": [
    {
     "data": {
      "text/plain": [
       "276"
      ]
     },
     "execution_count": 25,
     "metadata": {},
     "output_type": "execute_result"
    }
   ],
   "source": [
    "monotonic_date('2012-01-01')"
   ]
  },
  {
   "cell_type": "code",
   "execution_count": 30,
   "metadata": {},
   "outputs": [
    {
     "name": "stdout",
     "output_type": "stream",
     "text": [
      "24\n",
      "5\n",
      "276\n",
      "277\n",
      "278\n",
      "279\n",
      "280\n",
      "281\n",
      "282\n",
      "283\n",
      "284\n",
      "285\n",
      "286\n",
      "287\n",
      "288\n",
      "289\n",
      "290\n",
      "291\n",
      "292\n",
      "293\n",
      "294\n",
      "295\n",
      "296\n",
      "297\n",
      "298\n",
      "299\n"
     ]
    }
   ],
   "source": [
    "# train_set = construct_combined_sequence(data_prio, data_ucdp, key_list_prio=key_list_prio, key_list_ucdp=key_list_ucdp, start=[1989,1,1], stop = '1991-01-01')#stop = [2012,1,1])\n",
    "test_set = construct_combined_sequence(data_prio, data_ucdp, key_list_prio=key_list_prio, key_list_ucdp=key_list_ucdp, start=[2012,1,1], stop = '2014-01-01')#stop = [2014,1,1])"
   ]
  },
  {
   "cell_type": "code",
   "execution_count": 19,
   "metadata": {},
   "outputs": [
    {
     "data": {
      "text/plain": [
       "(24, 5, 360, 720)"
      ]
     },
     "execution_count": 19,
     "metadata": {},
     "output_type": "execute_result"
    }
   ],
   "source": [
    "train_set.shape"
   ]
  },
  {
   "cell_type": "code",
   "execution_count": 31,
   "metadata": {},
   "outputs": [
    {
     "data": {
      "text/plain": [
       "(24, 5, 360, 720)"
      ]
     },
     "execution_count": 31,
     "metadata": {},
     "output_type": "execute_result"
    }
   ],
   "source": [
    "test_set.shape"
   ]
  },
  {
   "cell_type": "code",
   "execution_count": 32,
   "metadata": {},
   "outputs": [
    {
     "data": {
      "text/plain": [
       "False"
      ]
     },
     "execution_count": 32,
     "metadata": {},
     "output_type": "execute_result"
    }
   ],
   "source": [
    "(test_set[0,0] == train_set[0,0]).all()"
   ]
  },
  {
   "cell_type": "code",
   "execution_count": 33,
   "metadata": {},
   "outputs": [],
   "source": [
    "# np.save(\"emergency_test\", test_set)"
   ]
  },
  {
   "cell_type": "code",
   "execution_count": 37,
   "metadata": {
    "colab": {},
    "colab_type": "code",
    "id": "NWa9_B-qnD4g"
   },
   "outputs": [
    {
     "name": "stdout",
     "output_type": "stream",
     "text": [
      "276\n",
      "5\n"
     ]
    },
    {
     "ename": "KeyboardInterrupt",
     "evalue": "",
     "output_type": "error",
     "traceback": [
      "\u001b[0;31m---------------------------------------------------------------------------\u001b[0m",
      "\u001b[0;31mKeyboardInterrupt\u001b[0m                         Traceback (most recent call last)",
      "\u001b[0;32m<ipython-input-37-b64d2f2f4706>\u001b[0m in \u001b[0;36m<module>\u001b[0;34m\u001b[0m\n\u001b[0;32m----> 1\u001b[0;31m \u001b[0mtrain_set\u001b[0m \u001b[0;34m=\u001b[0m \u001b[0mconstruct_combined_sequence\u001b[0m\u001b[0;34m(\u001b[0m\u001b[0mdata_prio\u001b[0m\u001b[0;34m,\u001b[0m \u001b[0mdata_ucdp\u001b[0m\u001b[0;34m,\u001b[0m \u001b[0mkey_list_prio\u001b[0m\u001b[0;34m=\u001b[0m\u001b[0mkey_list_prio\u001b[0m\u001b[0;34m,\u001b[0m \u001b[0mkey_list_ucdp\u001b[0m\u001b[0;34m=\u001b[0m\u001b[0mkey_list_ucdp\u001b[0m\u001b[0;34m,\u001b[0m \u001b[0mstart\u001b[0m\u001b[0;34m=\u001b[0m\u001b[0;34m[\u001b[0m\u001b[0;36m1989\u001b[0m\u001b[0;34m,\u001b[0m\u001b[0;36m1\u001b[0m\u001b[0;34m,\u001b[0m\u001b[0;36m1\u001b[0m\u001b[0;34m]\u001b[0m\u001b[0;34m,\u001b[0m \u001b[0mstop\u001b[0m \u001b[0;34m=\u001b[0m \u001b[0;34m'2012-01-01'\u001b[0m\u001b[0;34m)\u001b[0m\u001b[0;31m#stop = [2012,1,1])\u001b[0m\u001b[0;34m\u001b[0m\u001b[0;34m\u001b[0m\u001b[0m\n\u001b[0m\u001b[1;32m      2\u001b[0m \u001b[0;34m\u001b[0m\u001b[0m\n\u001b[1;32m      3\u001b[0m \u001b[0mtest_set\u001b[0m \u001b[0;34m=\u001b[0m \u001b[0mconstruct_combined_sequence\u001b[0m\u001b[0;34m(\u001b[0m\u001b[0mdata_prio\u001b[0m\u001b[0;34m,\u001b[0m \u001b[0mdata_ucdp\u001b[0m\u001b[0;34m,\u001b[0m \u001b[0mkey_list_prio\u001b[0m\u001b[0;34m=\u001b[0m\u001b[0mkey_list_prio\u001b[0m\u001b[0;34m,\u001b[0m \u001b[0mkey_list_ucdp\u001b[0m\u001b[0;34m=\u001b[0m\u001b[0mkey_list_ucdp\u001b[0m\u001b[0;34m,\u001b[0m \u001b[0mstart\u001b[0m\u001b[0;34m=\u001b[0m\u001b[0;34m[\u001b[0m\u001b[0;36m2012\u001b[0m\u001b[0;34m,\u001b[0m\u001b[0;36m1\u001b[0m\u001b[0;34m,\u001b[0m\u001b[0;36m1\u001b[0m\u001b[0;34m]\u001b[0m\u001b[0;34m,\u001b[0m \u001b[0mstop\u001b[0m \u001b[0;34m=\u001b[0m \u001b[0;34m'2014-01-01'\u001b[0m\u001b[0;34m)\u001b[0m\u001b[0;31m#stop = [2014,1,1])\u001b[0m\u001b[0;34m\u001b[0m\u001b[0;34m\u001b[0m\u001b[0m\n",
      "\u001b[0;32m<ipython-input-3-516aac89f192>\u001b[0m in \u001b[0;36mconstruct_combined_sequence\u001b[0;34m(dataframe_prio, dataframe_ucdp, key_list_prio, key_list_ucdp, start, stop)\u001b[0m\n\u001b[1;32m     53\u001b[0m \u001b[0;34m\u001b[0m\u001b[0m\n\u001b[1;32m     54\u001b[0m             \u001b[0marray\u001b[0m\u001b[0;34m[\u001b[0m\u001b[0mmonth\u001b[0m\u001b[0;34m]\u001b[0m\u001b[0;34m[\u001b[0m\u001b[0;34m:\u001b[0m\u001b[0mlen\u001b[0m\u001b[0;34m(\u001b[0m\u001b[0mkey_list_ucdp\u001b[0m\u001b[0;34m)\u001b[0m\u001b[0;34m]\u001b[0m \u001b[0;34m=\u001b[0m \u001b[0mconstruct_channels\u001b[0m\u001b[0;34m(\u001b[0m\u001b[0mdataframe_ucdp\u001b[0m\u001b[0;34m[\u001b[0m\u001b[0mdataframe_ucdp\u001b[0m\u001b[0;34m.\u001b[0m\u001b[0mmon_month\u001b[0m \u001b[0;34m==\u001b[0m \u001b[0mmonth\u001b[0m\u001b[0;34m]\u001b[0m\u001b[0;34m,\u001b[0m \u001b[0mkey_list\u001b[0m \u001b[0;34m=\u001b[0m \u001b[0mkey_list_ucdp\u001b[0m\u001b[0;34m,\u001b[0m \u001b[0mprio_key\u001b[0m \u001b[0;34m=\u001b[0m \u001b[0;34m\"priogrid_gid\"\u001b[0m\u001b[0;34m)\u001b[0m\u001b[0;34m\u001b[0m\u001b[0;34m\u001b[0m\u001b[0m\n\u001b[0;32m---> 55\u001b[0;31m             \u001b[0marray\u001b[0m\u001b[0;34m[\u001b[0m\u001b[0mmonth\u001b[0m\u001b[0;34m]\u001b[0m\u001b[0;34m[\u001b[0m\u001b[0mlen\u001b[0m\u001b[0;34m(\u001b[0m\u001b[0mkey_list_ucdp\u001b[0m\u001b[0;34m)\u001b[0m\u001b[0;34m:\u001b[0m\u001b[0;34m]\u001b[0m \u001b[0;34m=\u001b[0m \u001b[0mconstruct_channels\u001b[0m\u001b[0;34m(\u001b[0m\u001b[0mdataframe_prio\u001b[0m\u001b[0;34m[\u001b[0m\u001b[0mdataframe_prio\u001b[0m\u001b[0;34m.\u001b[0m\u001b[0myear\u001b[0m \u001b[0;34m==\u001b[0m \u001b[0mi\u001b[0m\u001b[0;34m]\u001b[0m\u001b[0;34m,\u001b[0m \u001b[0mkey_list\u001b[0m \u001b[0;34m=\u001b[0m \u001b[0mkey_list_prio\u001b[0m\u001b[0;34m,\u001b[0m \u001b[0mprio_key\u001b[0m \u001b[0;34m=\u001b[0m \u001b[0;34m'gid'\u001b[0m\u001b[0;34m)\u001b[0m\u001b[0;34m\u001b[0m\u001b[0;34m\u001b[0m\u001b[0m\n\u001b[0m\u001b[1;32m     56\u001b[0m             \u001b[0mprint\u001b[0m\u001b[0;34m(\u001b[0m\u001b[0mmonth\u001b[0m\u001b[0;34m)\u001b[0m\u001b[0;34m\u001b[0m\u001b[0;34m\u001b[0m\u001b[0m\n\u001b[1;32m     57\u001b[0m \u001b[0;34m\u001b[0m\u001b[0m\n",
      "\u001b[0;32m<ipython-input-3-516aac89f192>\u001b[0m in \u001b[0;36mconstruct_channels\u001b[0;34m(dataframe, key_list, prio_key)\u001b[0m\n\u001b[1;32m     66\u001b[0m     \u001b[0marray\u001b[0m \u001b[0;34m=\u001b[0m \u001b[0mnp\u001b[0m\u001b[0;34m.\u001b[0m\u001b[0mzeros\u001b[0m\u001b[0;34m(\u001b[0m\u001b[0;34m(\u001b[0m\u001b[0mlen\u001b[0m\u001b[0;34m(\u001b[0m\u001b[0mkey_list\u001b[0m\u001b[0;34m)\u001b[0m\u001b[0;34m,\u001b[0m \u001b[0;36m360\u001b[0m\u001b[0;34m,\u001b[0m \u001b[0;36m720\u001b[0m\u001b[0;34m)\u001b[0m\u001b[0;34m)\u001b[0m\u001b[0;34m\u001b[0m\u001b[0;34m\u001b[0m\u001b[0m\n\u001b[1;32m     67\u001b[0m     \u001b[0;32mfor\u001b[0m \u001b[0mi\u001b[0m\u001b[0;34m,\u001b[0m \u001b[0mkeys\u001b[0m \u001b[0;32min\u001b[0m \u001b[0menumerate\u001b[0m\u001b[0;34m(\u001b[0m\u001b[0mkey_list\u001b[0m\u001b[0;34m)\u001b[0m\u001b[0;34m:\u001b[0m\u001b[0;34m\u001b[0m\u001b[0;34m\u001b[0m\u001b[0m\n\u001b[0;32m---> 68\u001b[0;31m         \u001b[0marray\u001b[0m\u001b[0;34m[\u001b[0m\u001b[0mi\u001b[0m\u001b[0;34m]\u001b[0m \u001b[0;34m=\u001b[0m \u001b[0mconstruct_layer\u001b[0m\u001b[0;34m(\u001b[0m\u001b[0mdataframe\u001b[0m\u001b[0;34m,\u001b[0m \u001b[0mkey\u001b[0m \u001b[0;34m=\u001b[0m \u001b[0mkeys\u001b[0m\u001b[0;34m,\u001b[0m \u001b[0mprio_key\u001b[0m \u001b[0;34m=\u001b[0m \u001b[0mprio_key\u001b[0m\u001b[0;34m)\u001b[0m\u001b[0;34m\u001b[0m\u001b[0;34m\u001b[0m\u001b[0m\n\u001b[0m\u001b[1;32m     69\u001b[0m     \u001b[0;32mreturn\u001b[0m \u001b[0marray\u001b[0m\u001b[0;34m\u001b[0m\u001b[0;34m\u001b[0m\u001b[0m\n\u001b[1;32m     70\u001b[0m \u001b[0;34m\u001b[0m\u001b[0m\n",
      "\u001b[0;32m<ipython-input-3-516aac89f192>\u001b[0m in \u001b[0;36mconstruct_layer\u001b[0;34m(dataframe, key, prio_key, debug)\u001b[0m\n\u001b[1;32m     27\u001b[0m     \u001b[0mprio_grid\u001b[0m \u001b[0;34m=\u001b[0m \u001b[0mdataframe\u001b[0m\u001b[0;34m[\u001b[0m\u001b[0mprio_key\u001b[0m\u001b[0;34m]\u001b[0m\u001b[0;34m\u001b[0m\u001b[0;34m\u001b[0m\u001b[0m\n\u001b[1;32m     28\u001b[0m     \u001b[0;32mfor\u001b[0m \u001b[0mi\u001b[0m \u001b[0;32min\u001b[0m \u001b[0mrange\u001b[0m\u001b[0;34m(\u001b[0m\u001b[0mlen\u001b[0m\u001b[0;34m(\u001b[0m\u001b[0mprio_grid\u001b[0m\u001b[0;34m)\u001b[0m\u001b[0;34m)\u001b[0m\u001b[0;34m:\u001b[0m\u001b[0;34m\u001b[0m\u001b[0;34m\u001b[0m\u001b[0m\n\u001b[0;32m---> 29\u001b[0;31m         \u001b[0mj\u001b[0m \u001b[0;34m=\u001b[0m \u001b[0mprio_grid\u001b[0m\u001b[0;34m.\u001b[0m\u001b[0miloc\u001b[0m\u001b[0;34m[\u001b[0m\u001b[0mi\u001b[0m\u001b[0;34m]\u001b[0m \u001b[0;34m-\u001b[0m \u001b[0;36m1\u001b[0m\u001b[0;34m\u001b[0m\u001b[0;34m\u001b[0m\u001b[0m\n\u001b[0m\u001b[1;32m     30\u001b[0m         \u001b[0;34m\"\"\"change the below to only be in the case it isnt nan\"\"\"\u001b[0m \u001b[0;31m# will this cause problems?\u001b[0m\u001b[0;34m\u001b[0m\u001b[0;34m\u001b[0m\u001b[0m\n\u001b[1;32m     31\u001b[0m         \u001b[0marray\u001b[0m\u001b[0;34m[\u001b[0m\u001b[0mj\u001b[0m\u001b[0;34m]\u001b[0m \u001b[0;34m+=\u001b[0m \u001b[0mdataframe\u001b[0m\u001b[0;34m[\u001b[0m\u001b[0mkey\u001b[0m\u001b[0;34m]\u001b[0m\u001b[0;34m.\u001b[0m\u001b[0miloc\u001b[0m\u001b[0;34m[\u001b[0m\u001b[0mi\u001b[0m\u001b[0;34m]\u001b[0m\u001b[0;34m\u001b[0m\u001b[0;34m\u001b[0m\u001b[0m\n",
      "\u001b[0;32m/apps/jupyterhub/2019-04-29/miniconda/lib/python3.6/site-packages/pandas/core/indexing.py\u001b[0m in \u001b[0;36m__getitem__\u001b[0;34m(self, key)\u001b[0m\n\u001b[1;32m   1498\u001b[0m \u001b[0;34m\u001b[0m\u001b[0m\n\u001b[1;32m   1499\u001b[0m             \u001b[0mmaybe_callable\u001b[0m \u001b[0;34m=\u001b[0m \u001b[0mcom\u001b[0m\u001b[0;34m.\u001b[0m\u001b[0mapply_if_callable\u001b[0m\u001b[0;34m(\u001b[0m\u001b[0mkey\u001b[0m\u001b[0;34m,\u001b[0m \u001b[0mself\u001b[0m\u001b[0;34m.\u001b[0m\u001b[0mobj\u001b[0m\u001b[0;34m)\u001b[0m\u001b[0;34m\u001b[0m\u001b[0;34m\u001b[0m\u001b[0m\n\u001b[0;32m-> 1500\u001b[0;31m             \u001b[0;32mreturn\u001b[0m \u001b[0mself\u001b[0m\u001b[0;34m.\u001b[0m\u001b[0m_getitem_axis\u001b[0m\u001b[0;34m(\u001b[0m\u001b[0mmaybe_callable\u001b[0m\u001b[0;34m,\u001b[0m \u001b[0maxis\u001b[0m\u001b[0;34m=\u001b[0m\u001b[0maxis\u001b[0m\u001b[0;34m)\u001b[0m\u001b[0;34m\u001b[0m\u001b[0;34m\u001b[0m\u001b[0m\n\u001b[0m\u001b[1;32m   1501\u001b[0m \u001b[0;34m\u001b[0m\u001b[0m\n\u001b[1;32m   1502\u001b[0m     \u001b[0;32mdef\u001b[0m \u001b[0m_is_scalar_access\u001b[0m\u001b[0;34m(\u001b[0m\u001b[0mself\u001b[0m\u001b[0;34m,\u001b[0m \u001b[0mkey\u001b[0m\u001b[0;34m)\u001b[0m\u001b[0;34m:\u001b[0m\u001b[0;34m\u001b[0m\u001b[0;34m\u001b[0m\u001b[0m\n",
      "\u001b[0;32m/apps/jupyterhub/2019-04-29/miniconda/lib/python3.6/site-packages/pandas/core/indexing.py\u001b[0m in \u001b[0;36m_getitem_axis\u001b[0;34m(self, key, axis)\u001b[0m\n\u001b[1;32m   2213\u001b[0m             \u001b[0mkey\u001b[0m \u001b[0;34m=\u001b[0m \u001b[0mnp\u001b[0m\u001b[0;34m.\u001b[0m\u001b[0masarray\u001b[0m\u001b[0;34m(\u001b[0m\u001b[0mkey\u001b[0m\u001b[0;34m)\u001b[0m\u001b[0;34m\u001b[0m\u001b[0;34m\u001b[0m\u001b[0m\n\u001b[1;32m   2214\u001b[0m \u001b[0;34m\u001b[0m\u001b[0m\n\u001b[0;32m-> 2215\u001b[0;31m         \u001b[0;32mif\u001b[0m \u001b[0mcom\u001b[0m\u001b[0;34m.\u001b[0m\u001b[0mis_bool_indexer\u001b[0m\u001b[0;34m(\u001b[0m\u001b[0mkey\u001b[0m\u001b[0;34m)\u001b[0m\u001b[0;34m:\u001b[0m\u001b[0;34m\u001b[0m\u001b[0;34m\u001b[0m\u001b[0m\n\u001b[0m\u001b[1;32m   2216\u001b[0m             \u001b[0mself\u001b[0m\u001b[0;34m.\u001b[0m\u001b[0m_validate_key\u001b[0m\u001b[0;34m(\u001b[0m\u001b[0mkey\u001b[0m\u001b[0;34m,\u001b[0m \u001b[0maxis\u001b[0m\u001b[0;34m)\u001b[0m\u001b[0;34m\u001b[0m\u001b[0;34m\u001b[0m\u001b[0m\n\u001b[1;32m   2217\u001b[0m             \u001b[0;32mreturn\u001b[0m \u001b[0mself\u001b[0m\u001b[0;34m.\u001b[0m\u001b[0m_getbool_axis\u001b[0m\u001b[0;34m(\u001b[0m\u001b[0mkey\u001b[0m\u001b[0;34m,\u001b[0m \u001b[0maxis\u001b[0m\u001b[0;34m=\u001b[0m\u001b[0maxis\u001b[0m\u001b[0;34m)\u001b[0m\u001b[0;34m\u001b[0m\u001b[0;34m\u001b[0m\u001b[0m\n",
      "\u001b[0;32m/apps/jupyterhub/2019-04-29/miniconda/lib/python3.6/site-packages/pandas/core/common.py\u001b[0m in \u001b[0;36mis_bool_indexer\u001b[0;34m(key)\u001b[0m\n\u001b[1;32m    116\u001b[0m     \u001b[0mna_msg\u001b[0m \u001b[0;34m=\u001b[0m \u001b[0;34m'cannot index with vector containing NA / NaN values'\u001b[0m\u001b[0;34m\u001b[0m\u001b[0;34m\u001b[0m\u001b[0m\n\u001b[1;32m    117\u001b[0m     if (isinstance(key, (ABCSeries, np.ndarray, ABCIndex)) or\n\u001b[0;32m--> 118\u001b[0;31m             (is_array_like(key) and is_extension_array_dtype(key.dtype))):\n\u001b[0m\u001b[1;32m    119\u001b[0m         \u001b[0;32mif\u001b[0m \u001b[0mkey\u001b[0m\u001b[0;34m.\u001b[0m\u001b[0mdtype\u001b[0m \u001b[0;34m==\u001b[0m \u001b[0mnp\u001b[0m\u001b[0;34m.\u001b[0m\u001b[0mobject_\u001b[0m\u001b[0;34m:\u001b[0m\u001b[0;34m\u001b[0m\u001b[0;34m\u001b[0m\u001b[0m\n\u001b[1;32m    120\u001b[0m             \u001b[0mkey\u001b[0m \u001b[0;34m=\u001b[0m \u001b[0mnp\u001b[0m\u001b[0;34m.\u001b[0m\u001b[0masarray\u001b[0m\u001b[0;34m(\u001b[0m\u001b[0mvalues_from_object\u001b[0m\u001b[0;34m(\u001b[0m\u001b[0mkey\u001b[0m\u001b[0;34m)\u001b[0m\u001b[0;34m)\u001b[0m\u001b[0;34m\u001b[0m\u001b[0;34m\u001b[0m\u001b[0m\n",
      "\u001b[0;32m/apps/jupyterhub/2019-04-29/miniconda/lib/python3.6/site-packages/pandas/core/dtypes/inference.py\u001b[0m in \u001b[0;36mis_array_like\u001b[0;34m(obj)\u001b[0m\n\u001b[1;32m    332\u001b[0m     \"\"\"\n\u001b[1;32m    333\u001b[0m \u001b[0;34m\u001b[0m\u001b[0m\n\u001b[0;32m--> 334\u001b[0;31m     \u001b[0;32mreturn\u001b[0m \u001b[0mis_list_like\u001b[0m\u001b[0;34m(\u001b[0m\u001b[0mobj\u001b[0m\u001b[0;34m)\u001b[0m \u001b[0;32mand\u001b[0m \u001b[0mhasattr\u001b[0m\u001b[0;34m(\u001b[0m\u001b[0mobj\u001b[0m\u001b[0;34m,\u001b[0m \u001b[0;34m\"dtype\"\u001b[0m\u001b[0;34m)\u001b[0m\u001b[0;34m\u001b[0m\u001b[0;34m\u001b[0m\u001b[0m\n\u001b[0m\u001b[1;32m    335\u001b[0m \u001b[0;34m\u001b[0m\u001b[0m\n\u001b[1;32m    336\u001b[0m \u001b[0;34m\u001b[0m\u001b[0m\n",
      "\u001b[0;32m/apps/jupyterhub/2019-04-29/miniconda/lib/python3.6/site-packages/pandas/core/dtypes/inference.py\u001b[0m in \u001b[0;36mis_list_like\u001b[0;34m(obj, allow_sets)\u001b[0m\n\u001b[1;32m    291\u001b[0m     \"\"\"\n\u001b[1;32m    292\u001b[0m \u001b[0;34m\u001b[0m\u001b[0m\n\u001b[0;32m--> 293\u001b[0;31m     return (isinstance(obj, compat.Iterable)\n\u001b[0m\u001b[1;32m    294\u001b[0m             \u001b[0;31m# we do not count strings/unicode/bytes as list-like\u001b[0m\u001b[0;34m\u001b[0m\u001b[0;34m\u001b[0m\u001b[0;34m\u001b[0m\u001b[0m\n\u001b[1;32m    295\u001b[0m             \u001b[0;32mand\u001b[0m \u001b[0;32mnot\u001b[0m \u001b[0misinstance\u001b[0m\u001b[0;34m(\u001b[0m\u001b[0mobj\u001b[0m\u001b[0;34m,\u001b[0m \u001b[0mstring_and_binary_types\u001b[0m\u001b[0;34m)\u001b[0m\u001b[0;34m\u001b[0m\u001b[0;34m\u001b[0m\u001b[0m\n",
      "\u001b[0;31mKeyboardInterrupt\u001b[0m: "
     ]
    }
   ],
   "source": [
    "# train_set = construct_combined_sequence(data_prio, data_ucdp, key_list_prio=key_list_prio, key_list_ucdp=key_list_ucdp, start=[1989,1,1], stop = '2012-01-01')#stop = [2012,1,1])\n",
    "\n",
    "# test_set = construct_combined_sequence(data_prio, data_ucdp, key_list_prio=key_list_prio, key_list_ucdp=key_list_ucdp, start=[2012,1,1], stop = '2014-01-01')#stop = [2014,1,1])"
   ]
  },
  {
   "cell_type": "code",
   "execution_count": null,
   "metadata": {},
   "outputs": [],
   "source": []
  },
  {
   "cell_type": "code",
   "execution_count": 18,
   "metadata": {
    "colab_type": "text",
    "id": "at14JdkSmO_4"
   },
   "outputs": [],
   "source": [
    "# np.save(\"train_array\", train_set)\n",
    "# np.save(\"test_array\", test_set)"
   ]
  },
  {
   "cell_type": "code",
   "execution_count": 147,
   "metadata": {},
   "outputs": [
    {
     "name": "stdout",
     "output_type": "stream",
     "text": [
      "/rdsgpfs/general/user/gcl15/home/masters_project\n"
     ]
    }
   ],
   "source": [
    "%pwd\n",
    "%cd .."
   ]
  },
  {
   "cell_type": "code",
   "execution_count": 148,
   "metadata": {
    "colab": {},
    "colab_type": "code",
    "id": "ErmEch2UmOfj"
   },
   "outputs": [],
   "source": [
    "# # np.save(\"array_4\", test)\n",
    "# test_set = np.load(\"test_array.npy\")\n",
    "# train_set = np.load(\"train_array.npy\")\n"
   ]
  },
  {
   "cell_type": "markdown",
   "metadata": {
    "colab_type": "text",
    "id": "duA3-ZxphgbK"
   },
   "source": [
    "correct test binary layer - by correcting the other layer\n"
   ]
  },
  {
   "cell_type": "code",
   "execution_count": 34,
   "metadata": {
    "colab": {
     "base_uri": "https://localhost:8080/",
     "height": 87
    },
    "colab_type": "code",
    "id": "S83jt2a8hlX0",
    "outputId": "a2af05da-26ed-40eb-d7e3-f0771d5a5d99"
   },
   "outputs": [],
   "source": [
    "# changed to 0 due to changing order of layers.\n",
    "\n",
    "#print(test_set[:,0].shape)\n",
    "#print(np.unique(test[:,0]))\n",
    "test_set[:,0][test_set[:,0] > 0] = 1\n",
    "# train_set[:,0][train_set[:,0] > 0] = 1\n",
    "# plt.figure(figsize = (50,10))\n",
    "# plt.imshow(test[199][1],vmin = 0, vmax = 1)"
   ]
  },
  {
   "cell_type": "code",
   "execution_count": 35,
   "metadata": {
    "colab": {
     "base_uri": "https://localhost:8080/",
     "height": 35
    },
    "colab_type": "code",
    "id": "kxcXOOd1jSjk",
    "outputId": "3aa98844-211f-450a-fcfc-a15d85688b01"
   },
   "outputs": [
    {
     "data": {
      "text/plain": [
       "array([0., 1.])"
      ]
     },
     "execution_count": 35,
     "metadata": {},
     "output_type": "execute_result"
    }
   ],
   "source": [
    "np.unique(test_set[:,0])\n",
    "# np.unique(train_set[:,0])"
   ]
  },
  {
   "cell_type": "code",
   "execution_count": 36,
   "metadata": {
    "colab": {
     "base_uri": "https://localhost:8080/",
     "height": 613
    },
    "colab_type": "code",
    "id": "9jjkUhXDjKpA",
    "outputId": "98d0ee90-0f25-4028-b309-9940cde4a9ac"
   },
   "outputs": [
    {
     "data": {
      "text/plain": [
       "<matplotlib.image.AxesImage at 0x2b5c888283c8>"
      ]
     },
     "execution_count": 36,
     "metadata": {},
     "output_type": "execute_result"
    },
    {
     "data": {
      "image/png": "[encoded data removed]",
      "text/plain": [
       "<Figure size 3600x720 with 1 Axes>"
      ]
     },
     "metadata": {
      "needs_background": "light"
     },
     "output_type": "display_data"
    }
   ],
   "source": [
    "plt.figure(figsize = (50,10))\n",
    "plt.imshow(test_set[11][0],vmin = 0, vmax = 1)"
   ]
  },
  {
   "cell_type": "code",
   "execution_count": 24,
   "metadata": {
    "colab": {
     "base_uri": "https://localhost:8080/",
     "height": 35
    },
    "colab_type": "code",
    "id": "EZxyTNQfds0U",
    "outputId": "cb8c6ff2-0b61-4d3e-8e24-d223078dceeb"
   },
   "outputs": [
    {
     "data": {
      "text/plain": [
       "array([0., 1.])"
      ]
     },
     "execution_count": 24,
     "metadata": {},
     "output_type": "execute_result"
    }
   ],
   "source": [
    "np.unique(test_set[0][0])"
   ]
  },
  {
   "cell_type": "markdown",
   "metadata": {
    "colab_type": "text",
    "id": "e7TspZujnGPy"
   },
   "source": [
    "now put this into our random selection."
   ]
  },
  {
   "cell_type": "code",
   "execution_count": 37,
   "metadata": {
    "colab": {
     "base_uri": "https://localhost:8080/",
     "height": 35
    },
    "colab_type": "code",
    "id": "tWTELI9pmexd",
    "outputId": "c82dbf12-cfcb-416f-cde4-e2ca4be92013"
   },
   "outputs": [
    {
     "data": {
      "text/plain": [
       "(24, 5, 360, 720)"
      ]
     },
     "execution_count": 37,
     "metadata": {},
     "output_type": "execute_result"
    }
   ],
   "source": [
    "test_set.shape\n"
   ]
  },
  {
   "cell_type": "code",
   "execution_count": 38,
   "metadata": {
    "colab": {},
    "colab_type": "code",
    "id": "N-pvjTDDmgpi"
   },
   "outputs": [],
   "source": [
    "def full_dataset_h5py(image, filename, key_list_prio, key_list_ucdp, chunk_size = 16, draws = 5, min_events = 25, debug = False):\n",
    "    \"\"\" dataset is too large to combine in 12gb of ram - need to combine in h5py\n",
    "    array. i.e lazy saving as well as lazy loading\"\"\"\n",
    "    \n",
    "    with h5py.File(filename + \".hdf5\", 'w') as f:\n",
    "        for i in range(11, len(image)):\n",
    "            print(i)\n",
    "            t1, t2 = random_grid_selection(image, i, min_events = min_events)\n",
    "            if i == 11:\n",
    "                # creat h5py file at first step.\n",
    "                f.create_dataset('predictor', data= t1, maxshape=(None,None, None, None,None)) # compression=\"gzip\", chunks=True, taken out\n",
    "                f.create_dataset(\"truth\", data= t2, maxshape=(None,None,None))\n",
    "        \n",
    "            else:\n",
    "                f[\"predictor\"].resize((f[\"predictor\"].shape[0] + t1.shape[0]), axis = 0) # expand dataset\n",
    "                f[\"truth\"].resize((f[\"truth\"].shape[0] + t2.shape[0]), axis = 0)\n",
    "            \n",
    "                f[\"predictor\"][-t1.shape[0]:] = t1 # place new data in expanded dataset\n",
    "                f[\"truth\"][-t2.shape[0]:] = t2\n",
    "        \n",
    "        f[\"predictor\"].attrs.create(\"key_prio\", np.string_(key_list_prio))\n",
    "        f[\"truth\"].attrs.create(\"key_ucdp\", np.string_(key_list_ucdp))\n",
    "        \n",
    "        \n",
    "    \n",
    "#     f.close()\n",
    "        "
   ]
  },
  {
   "cell_type": "code",
   "execution_count": 75,
   "metadata": {},
   "outputs": [
    {
     "data": {
      "text/plain": [
       "(100, 5, 360, 720)"
      ]
     },
     "execution_count": 75,
     "metadata": {},
     "output_type": "execute_result"
    }
   ],
   "source": [
    "train_set[:100].shape"
   ]
  },
  {
   "cell_type": "code",
   "execution_count": 69,
   "metadata": {},
   "outputs": [
    {
     "data": {
      "text/plain": [
       "(24, 5, 360, 720)"
      ]
     },
     "execution_count": 69,
     "metadata": {},
     "output_type": "execute_result"
    }
   ],
   "source": [
    "test_set.shape"
   ]
  },
  {
   "cell_type": "code",
   "execution_count": 39,
   "metadata": {
    "colab": {
     "base_uri": "https://localhost:8080/",
     "height": 1000
    },
    "colab_type": "code",
    "id": "5Ui6KeUhnD76",
    "outputId": "9ac6f2cc-299d-44fa-b728-23d785ca96a6"
   },
   "outputs": [
    {
     "name": "stdout",
     "output_type": "stream",
     "text": [
      "11\n",
      "Image shape is: (24, 5, 360, 720)\n",
      "(89,)\n",
      "12\n",
      "Image shape is: (24, 5, 360, 720)\n",
      "(109,)\n",
      "13\n",
      "Image shape is: (24, 5, 360, 720)\n",
      "(92,)\n",
      "14\n",
      "Image shape is: (24, 5, 360, 720)\n",
      "(82,)\n",
      "15\n",
      "Image shape is: (24, 5, 360, 720)\n",
      "(89,)\n",
      "16\n",
      "Image shape is: (24, 5, 360, 720)\n",
      "(99,)\n",
      "17\n",
      "Image shape is: (24, 5, 360, 720)\n",
      "(101,)\n",
      "18\n",
      "Image shape is: (24, 5, 360, 720)\n",
      "(98,)\n",
      "19\n",
      "Image shape is: (24, 5, 360, 720)\n",
      "(103,)\n",
      "20\n",
      "Image shape is: (24, 5, 360, 720)\n",
      "(98,)\n",
      "21\n",
      "Image shape is: (24, 5, 360, 720)\n",
      "(106,)\n",
      "22\n",
      "Image shape is: (24, 5, 360, 720)\n",
      "(102,)\n",
      "23\n",
      "Image shape is: (24, 5, 360, 720)\n",
      "(110,)\n"
     ]
    }
   ],
   "source": [
    "# a, b = full_dataset_numpy(test)\n",
    "# full_dataset_h5py(train_set, \"train_fixed_25\",key_list_prio, key_list_ucdp)\n",
    "# why does this only work with array > 105???????????\n",
    "full_dataset_h5py(test_set, \"emerg_25\",key_list_prio, key_list_ucdp)\n",
    "\n"
   ]
  },
  {
   "cell_type": "code",
   "execution_count": 113,
   "metadata": {
    "colab": {},
    "colab_type": "code",
    "id": "Fx6RkdVjnZt8"
   },
   "outputs": [
    {
     "data": {
      "text/plain": [
       "'/rdsgpfs/general/user/gcl15/home/masters_project/data'"
      ]
     },
     "execution_count": 113,
     "metadata": {},
     "output_type": "execute_result"
    }
   ],
   "source": [
    "\n",
    "%pwd\n",
    "# %cd data\n",
    "\n",
    "# \n"
   ]
  },
  {
   "cell_type": "code",
   "execution_count": 155,
   "metadata": {},
   "outputs": [],
   "source": [
    "f = h5py.File(\"train_fixed_25.hdf5\", 'r')\n"
   ]
  },
  {
   "cell_type": "code",
   "execution_count": 156,
   "metadata": {
    "colab": {
     "base_uri": "https://localhost:8080/",
     "height": 35
    },
    "colab_type": "code",
    "id": "SHMz3mykg5sg",
    "outputId": "c38e1fcc-4899-4241-fee4-d7fcf6abd119"
   },
   "outputs": [
    {
     "data": {
      "text/plain": [
       "(56413, 10, 5, 16, 16)"
      ]
     },
     "execution_count": 156,
     "metadata": {},
     "output_type": "execute_result"
    }
   ],
   "source": [
    "f['predictor'].shape"
   ]
  },
  {
   "cell_type": "code",
   "execution_count": 59,
   "metadata": {},
   "outputs": [
    {
     "data": {
      "text/plain": [
       "173.33333333333334"
      ]
     },
     "execution_count": 59,
     "metadata": {},
     "output_type": "execute_result"
    }
   ],
   "source": []
  },
  {
   "cell_type": "code",
   "execution_count": 162,
   "metadata": {
    "colab": {},
    "colab_type": "code",
    "id": "yK5SkYh3Ge_e"
   },
   "outputs": [],
   "source": [
    "k = f['predictor'][333]\n",
    "a = f['truth'][333]\n"
   ]
  },
  {
   "cell_type": "code",
   "execution_count": 158,
   "metadata": {},
   "outputs": [
    {
     "data": {
      "text/plain": [
       "array([0., 1.])"
      ]
     },
     "execution_count": 158,
     "metadata": {},
     "output_type": "execute_result"
    }
   ],
   "source": [
    "np.unique(k[:,0])"
   ]
  },
  {
   "cell_type": "code",
   "execution_count": 126,
   "metadata": {
    "colab": {},
    "colab_type": "code",
    "id": "pYYeFBb8IpB7"
   },
   "outputs": [
    {
     "data": {
      "text/plain": [
       "(16, 16)"
      ]
     },
     "execution_count": 126,
     "metadata": {},
     "output_type": "execute_result"
    }
   ],
   "source": [
    "a.shape"
   ]
  },
  {
   "cell_type": "code",
   "execution_count": 163,
   "metadata": {},
   "outputs": [
    {
     "data": {
      "text/plain": [
       "<matplotlib.image.AxesImage at 0x2ae93d86cda0>"
      ]
     },
     "execution_count": 163,
     "metadata": {},
     "output_type": "execute_result"
    },
    {
     "data": {
      "image/png": "[encoded data removed]",
      "text/plain": [
       "<Figure size 432x288 with 1 Axes>"
      ]
     },
     "metadata": {
      "needs_background": "light"
     },
     "output_type": "display_data"
    },
    {
     "data": {
      "image/png": "[encoded data removed]",
      "text/plain": [
       "<Figure size 432x288 with 1 Axes>"
      ]
     },
     "metadata": {
      "needs_background": "light"
     },
     "output_type": "display_data"
    },
    {
     "data": {
      "image/png": "[encoded data removed]",
      "text/plain": [
       "<Figure size 432x288 with 1 Axes>"
      ]
     },
     "metadata": {
      "needs_background": "light"
     },
     "output_type": "display_data"
    },
    {
     "data": {
      "image/png": "[encoded data removed]",
      "text/plain": [
       "<Figure size 432x288 with 1 Axes>"
      ]
     },
     "metadata": {
      "needs_background": "light"
     },
     "output_type": "display_data"
    },
    {
     "data": {
      "image/png": "[encoded data removed]",
      "text/plain": [
       "<Figure size 432x288 with 1 Axes>"
      ]
     },
     "metadata": {
      "needs_background": "light"
     },
     "output_type": "display_data"
    },
    {
     "data": {
      "image/png": "[encoded data removed]",
      "text/plain": [
       "<Figure size 432x288 with 1 Axes>"
      ]
     },
     "metadata": {
      "needs_background": "light"
     },
     "output_type": "display_data"
    },
    {
     "data": {
      "image/png": "[encoded data removed]",
      "text/plain": [
       "<Figure size 432x288 with 1 Axes>"
      ]
     },
     "metadata": {
      "needs_background": "light"
     },
     "output_type": "display_data"
    },
    {
     "data": {
      "image/png": "[encoded data removed]",
      "text/plain": [
       "<Figure size 432x288 with 1 Axes>"
      ]
     },
     "metadata": {
      "needs_background": "light"
     },
     "output_type": "display_data"
    },
    {
     "data": {
      "image/png": "[encoded data removed]",
      "text/plain": [
       "<Figure size 432x288 with 1 Axes>"
      ]
     },
     "metadata": {
      "needs_background": "light"
     },
     "output_type": "display_data"
    },
    {
     "data": {
      "image/png": "[encoded data removed]",
      "text/plain": [
       "<Figure size 432x288 with 1 Axes>"
      ]
     },
     "metadata": {
      "needs_background": "light"
     },
     "output_type": "display_data"
    },
    {
     "data": {
      "image/png": "[encoded data removed]",
      "text/plain": [
       "<Figure size 432x288 with 1 Axes>"
      ]
     },
     "metadata": {
      "needs_background": "light"
     },
     "output_type": "display_data"
    }
   ],
   "source": [
    "for i in range(10):\n",
    "    plt.figure()\n",
    "    plt.imshow(k[i,0])\n",
    "    \n",
    "plt.figure()\n",
    "plt.imshow(a)"
   ]
  },
  {
   "cell_type": "code",
   "execution_count": null,
   "metadata": {},
   "outputs": [],
   "source": []
  },
  {
   "cell_type": "code",
   "execution_count": null,
   "metadata": {
    "colab": {},
    "colab_type": "code",
    "id": "OUrJW2vBHEKr"
   },
   "outputs": [],
   "source": [
    "\n",
    "val  = k[0:10000,:,0]"
   ]
  },
  {
   "cell_type": "code",
   "execution_count": null,
   "metadata": {
    "colab": {},
    "colab_type": "code",
    "id": "gxOSzYQsITxw"
   },
   "outputs": [],
   "source": [
    "# # print(np.average(val))\n",
    "# # print(np.average(k[10000:20000,:,0]))\n",
    "\n",
    "# for i in range(7):\n",
    "#     print(np.std(k[i * 10000:(i+1)*10000, :, 0]))\n",
    "   \n",
    "\n",
    "# print(np.std(k[80000:84485, :, 0]))\n",
    "\n"
   ]
  },
  {
   "cell_type": "code",
   "execution_count": null,
   "metadata": {
    "colab": {},
    "colab_type": "code",
    "id": "6UmwMeyrOl0G"
   },
   "outputs": [],
   "source": []
  },
  {
   "cell_type": "code",
   "execution_count": null,
   "metadata": {
    "colab": {},
    "colab_type": "code",
    "id": "yHgTmJqOJMF8"
   },
   "outputs": [],
   "source": []
  },
  {
   "cell_type": "code",
   "execution_count": null,
   "metadata": {
    "colab": {},
    "colab_type": "code",
    "id": "wuCvXTmEHFj_"
   },
   "outputs": [],
   "source": [
    "f['predictor'].shape\n"
   ]
  },
  {
   "cell_type": "code",
   "execution_count": null,
   "metadata": {
    "colab": {},
    "colab_type": "code",
    "id": "Tyb9RRXjHlpw"
   },
   "outputs": [],
   "source": [
    "f['truth'].shape\n"
   ]
  },
  {
   "cell_type": "code",
   "execution_count": null,
   "metadata": {
    "colab": {},
    "colab_type": "code",
    "id": "t__yhKfhtf0P"
   },
   "outputs": [],
   "source": [
    "f[\"predictor\"].shape\n",
    "\n"
   ]
  },
  {
   "cell_type": "code",
   "execution_count": null,
   "metadata": {
    "colab": {},
    "colab_type": "code",
    "id": "uaAPLJ7AbjFk"
   },
   "outputs": [],
   "source": [
    "f[\"predictor\"][21000][0][2]"
   ]
  },
  {
   "cell_type": "code",
   "execution_count": null,
   "metadata": {
    "colab": {},
    "colab_type": "code",
    "id": "Iu6Z80fLtuN6"
   },
   "outputs": [],
   "source": [
    "f[\"predictor\"].shape\n",
    "\n",
    "for i in range(10):\n",
    "    plt.figure()\n",
    "    plt.imshow(f[\"predictor\"][21000][i][0])\n",
    "    "
   ]
  },
  {
   "cell_type": "code",
   "execution_count": null,
   "metadata": {
    "colab": {},
    "colab_type": "code",
    "id": "46NHJR9i2xHn"
   },
   "outputs": [],
   "source": [
    "f[\"predictor\"].shape\n",
    "k = 0\n",
    "for i in range(248580):\n",
    "    k +=1\n",
    "print(\"done\")\n"
   ]
  },
  {
   "cell_type": "code",
   "execution_count": null,
   "metadata": {
    "colab": {},
    "colab_type": "code",
    "id": "gW4M0YkrDblm"
   },
   "outputs": [],
   "source": [
    "# len(np.where(f[\"predictor\"][100000][:,0] > 0)[0])\n",
    "# f[\"predictor\"][100000][:,0]\n",
    "# plt.imshow(f[\"predictor\"][100000][:,0][0])\n",
    "len([])"
   ]
  },
  {
   "cell_type": "code",
   "execution_count": null,
   "metadata": {
    "colab": {
     "base_uri": "https://localhost:8080/",
     "height": 936
    },
    "colab_type": "code",
    "id": "8En8z9VL3uKA",
    "outputId": "8a9a71d6-1731-4a63-9404-ea2dd911977e"
   },
   "outputs": [],
   "source": [
    "\n",
    "def data_set_analysis(dataset):\n",
    "    dat = np.zeros(len(dataset[\"predictor\"]))\n",
    "    for i in range(len(dataset[\"predictor\"])):\n",
    "        dat[i] = len(np.where(f[\"predictor\"][i][:,0] > 0)[0])\n",
    "        if (i % 1000) == 0:\n",
    "            print(i)\n",
    "    return dat\n",
    "\n",
    "dats = data_set_analysis(f)\n",
    "np.save(\"distribution_min_25\", dats)"
   ]
  },
  {
   "cell_type": "code",
   "execution_count": null,
   "metadata": {
    "colab": {},
    "colab_type": "code",
    "id": "ELhdQd4BCfjy"
   },
   "outputs": [],
   "source": [
    "# np.save(\"dats_saved\", dats)"
   ]
  },
  {
   "cell_type": "code",
   "execution_count": null,
   "metadata": {
    "colab": {},
    "colab_type": "code",
    "id": "cFlE86e8Co5m"
   },
   "outputs": [],
   "source": [
    "# np.unique(dats)"
   ]
  },
  {
   "cell_type": "code",
   "execution_count": null,
   "metadata": {
    "colab": {
     "base_uri": "https://localhost:8080/",
     "height": 269
    },
    "colab_type": "code",
    "id": "JtGK9LexQXXv",
    "outputId": "861e36af-395c-4d33-e154-91f23ed85c0b"
   },
   "outputs": [],
   "source": [
    "# plot = sns.distplot(dats)"
   ]
  },
  {
   "cell_type": "code",
   "execution_count": null,
   "metadata": {
    "colab": {},
    "colab_type": "code",
    "id": "vcImFZYhQ18D"
   },
   "outputs": [],
   "source": [
    "# figure = plot.get_figure()"
   ]
  },
  {
   "cell_type": "code",
   "execution_count": null,
   "metadata": {
    "colab": {},
    "colab_type": "code",
    "id": "EtVXvcc7RZQB"
   },
   "outputs": [],
   "source": [
    "# figure.savefig(\"min_events_25.pdf\")"
   ]
  },
  {
   "cell_type": "code",
   "execution_count": null,
   "metadata": {
    "colab": {},
    "colab_type": "code",
    "id": "gi7dl5t-3nYe"
   },
   "outputs": [],
   "source": [
    "f[\"predictor\"][0][:,0][0].shape\n",
    "plt.imshow(f[\"predictor\"][1000][:,1][0])"
   ]
  },
  {
   "cell_type": "code",
   "execution_count": null,
   "metadata": {
    "colab": {},
    "colab_type": "code",
    "id": "Z0FC6D9chM72"
   },
   "outputs": [],
   "source": [
    "# f.close()"
   ]
  },
  {
   "cell_type": "code",
   "execution_count": null,
   "metadata": {
    "colab": {},
    "colab_type": "code",
    "id": "QCiK2FF9hOP_"
   },
   "outputs": [],
   "source": [
    "f\n"
   ]
  },
  {
   "cell_type": "markdown",
   "metadata": {
    "colab_type": "text",
    "id": "KW6581pRhHoR"
   },
   "source": [
    "# AVERAGING FUNCTION"
   ]
  },
  {
   "cell_type": "code",
   "execution_count": 164,
   "metadata": {
    "colab": {},
    "colab_type": "code",
    "id": "zGCwGx7XhG4b"
   },
   "outputs": [],
   "source": [
    "def find_avg_lazy_load(data):\n",
    "    # file name is name of hdf5 file\n",
    "#     data = h5py.File(filename, 'r')\n",
    "    predictor = data[\"predictor\"]\n",
    "    channel_num = predictor.shape[2]\n",
    "    avg = np.zeros(channel_num)\n",
    "    std = np.zeros_like(avg)\n",
    "    for i in range(channel_num):\n",
    "        # batching as cant fit into ram\n",
    "        \n",
    "        batch_avg = 0\n",
    "        batch_std = 0\n",
    "        for j in range(5):\n",
    "            batch_avg += np.average(predictor[j * 10000: (j+1)*10000,:,i])\n",
    "            print(batch_avg)\n",
    "            batch_std += np.std(predictor[j * 10000: (j+1)*10000,:,i])\n",
    "            \n",
    "        batch_avg += np.average(predictor[50000: 52109,:,i])\n",
    "        batch_std += np.std(predictor[50000: 52109,:,i])\n",
    "        \n",
    "        batch_avg /= 6\n",
    "        batch_std /= 6\n",
    "        \n",
    "        avg[i] = batch_avg\n",
    "        std[i] = batch_std\n",
    "        \n",
    "        \n",
    "    return avg, std\n"
   ]
  },
  {
   "cell_type": "code",
   "execution_count": 167,
   "metadata": {},
   "outputs": [
    {
     "data": {
      "text/plain": [
       "(56413, 10, 5, 16, 16)"
      ]
     },
     "execution_count": 167,
     "metadata": {},
     "output_type": "execute_result"
    }
   ],
   "source": [
    "f['predictor'].shape"
   ]
  },
  {
   "cell_type": "code",
   "execution_count": 168,
   "metadata": {
    "colab": {
     "base_uri": "https://localhost:8080/",
     "height": 451
    },
    "colab_type": "code",
    "id": "b6GYQRt4jJE3",
    "outputId": "7646297e-e5fb-41ac-b8db-6dc8699ed339"
   },
   "outputs": [
    {
     "name": "stdout",
     "output_type": "stream",
     "text": [
      "0.0250096484375\n",
      "0.051279609375\n",
      "0.0772212109375\n",
      "0.103593359375\n",
      "0.1287201953125\n",
      "0.94412484375\n",
      "6.0410237109375\n",
      "6.9111809375\n",
      "7.667873515625001\n",
      "8.1584108203125\n",
      "0.0575387109375\n",
      "0.14551515625\n",
      "0.2025262890625\n",
      "0.24711984375\n",
      "0.24711984375\n",
      "0.10463546875\n",
      "0.1599125\n",
      "0.22007988281250002\n",
      "0.250988359375\n",
      "0.250988359375\n",
      "567.0120052630915\n",
      "1329.2920465371344\n",
      "2190.2449309617764\n",
      "2871.364469529292\n",
      "3505.1791955059834\n"
     ]
    }
   ],
   "source": [
    "\n",
    "\n",
    "avg, std = find_avg_lazy_load(f)"
   ]
  },
  {
   "cell_type": "code",
   "execution_count": 169,
   "metadata": {
    "colab": {},
    "colab_type": "code",
    "id": "c_SKKLKEXDfd"
   },
   "outputs": [],
   "source": [
    "np.save(\"fixed_25_avg\", avg)"
   ]
  },
  {
   "cell_type": "code",
   "execution_count": 170,
   "metadata": {
    "colab": {},
    "colab_type": "code",
    "id": "RxCCUHRxXJJW"
   },
   "outputs": [],
   "source": [
    "np.save(\"fixed_25_std\", std)"
   ]
  },
  {
   "cell_type": "code",
   "execution_count": 172,
   "metadata": {
    "colab": {},
    "colab_type": "code",
    "id": "QzU_ixs4XMcI"
   },
   "outputs": [
    {
     "data": {
      "text/plain": [
       "(56413, 10, 5, 16, 16)"
      ]
     },
     "execution_count": 172,
     "metadata": {},
     "output_type": "execute_result"
    }
   ],
   "source": [
    "f['predictor'].shape"
   ]
  },
  {
   "cell_type": "code",
   "execution_count": 171,
   "metadata": {
    "colab": {},
    "colab_type": "code",
    "id": "7OVBI8BmjRhw"
   },
   "outputs": [],
   "source": [
    "# avg, std = find_avg_lazy_load(\"data_prio_run_test4.hdf5\")"
   ]
  }
 ],
 "metadata": {
  "colab": {
   "collapsed_sections": [],
   "include_colab_link": true,
   "name": "dataset_construction.ipynb",
   "provenance": [],
   "version": "0.3.2"
  },
  "kernelspec": {
   "display_name": "Python 3",
   "language": "python",
   "name": "python3"
  },
  "language_info": {
   "codemirror_mode": {
    "name": "ipython",
    "version": 3
   },
   "file_extension": ".py",
   "mimetype": "text/x-python",
   "name": "python",
   "nbconvert_exporter": "python",
   "pygments_lexer": "ipython3",
   "version": "3.6.8"
  }
 },
 "nbformat": 4,
 "nbformat_minor": 2
}
