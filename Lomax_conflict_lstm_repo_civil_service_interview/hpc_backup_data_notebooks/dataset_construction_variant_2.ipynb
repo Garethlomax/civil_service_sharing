{
 "cells": [
  {
   "cell_type": "markdown",
   "metadata": {
    "colab_type": "text",
    "id": "view-in-github"
   },
   "source": [
    "<a href=\"https://colab.research.google.com/github/msc-acse/acse-9-independent-research-project-Garethlomax/blob/data_curation/dataset_construction.ipynb\" target=\"_parent\"><img src=\"https://colab.research.google.com/assets/colab-badge.svg\" alt=\"Open In Colab\"/></a>"
   ]
  },
  {
   "cell_type": "markdown",
   "metadata": {
    "colab_type": "text",
    "id": "ggKpljorcaJz"
   },
   "source": [
    "# IMPORTS\n",
    "We are constructing using the functions in the accompanying .py files as computer doesnt have enough ram to handle full dataset.\n"
   ]
  },
  {
   "cell_type": "code",
   "execution_count": 1,
   "metadata": {
    "colab": {
     "base_uri": "https://localhost:8080/",
     "height": 124
    },
    "colab_type": "code",
    "id": "nC7dWRZDg-To",
    "outputId": "06d6de7e-ee7f-4c7c-f852-7d0776a7cfd9"
   },
   "outputs": [],
   "source": [
    "#from google.colab import drive\n",
    "#drive.mount('/content/drive')"
   ]
  },
  {
   "cell_type": "code",
   "execution_count": 2,
   "metadata": {
    "colab": {},
    "colab_type": "code",
    "id": "joQx8rOZcK1q"
   },
   "outputs": [],
   "source": [
    "\n",
    "import numpy as np\n",
    "import matplotlib.pyplot as plt\n",
    "import pandas as pd\n",
    "#import seaborn as sns\n",
    "import h5py\n",
    "import random"
   ]
  },
  {
   "cell_type": "markdown",
   "metadata": {
    "colab_type": "text",
    "id": "nvT_wvBzfxhR"
   },
   "source": [
    "# FUNCTIONS"
   ]
  },
  {
   "cell_type": "code",
   "execution_count": 3,
   "metadata": {
    "colab": {},
    "colab_type": "code",
    "id": "-PhZpnw6fzH7"
   },
   "outputs": [],
   "source": [
    "def date_to_int_list(date):\n",
    "    # date is in format yyyy-mm-dd\n",
    "\n",
    "    y = int(date[0:4])\n",
    "    m = int(date[5:7])\n",
    "    d = int(date[8:10])\n",
    "\n",
    "#    print(\"date is:\")\n",
    "#    print(y, \" \",m, \" \", d)\n",
    "    return [y,m,d]\n",
    "\n",
    "def monotonic_date(date, baseline = [1989, 1, 1]):\n",
    "\n",
    "    date = date_to_int_list(date)\n",
    "#    print(type(date[0]))\n",
    "#    print(type(baseline[0]))\n",
    "    # turns date since baseline start date into a monotonic function based on\n",
    "    # year and months in line with pgm unit of analysis\n",
    "    return date[1] - baseline[1] + ((date[0] - baseline[0]) * 12)\n",
    "\n",
    "\n",
    "\n",
    "def construct_layer(dataframe, key, prio_key = \"gid\", debug = False):\n",
    "    # returns 360 720 grid layer for a given parameter\n",
    "    # should be given for one parameter per year.\n",
    "    array = np.zeros(360*720)\n",
    "    prio_grid = dataframe[prio_key]\n",
    "    for i in range(len(prio_grid)):\n",
    "        j = prio_grid.iloc[i] - 1\n",
    "        \"\"\"change the below to only be in the case it isnt nan\"\"\" # will this cause problems?\n",
    "        array[j] += dataframe[key].iloc[i]\n",
    "    array.resize(360,720)\n",
    "\n",
    "    return array\n",
    "\n",
    "def construct_combined_sequence(dataframe_prio, dataframe_ucdp, key_list_prio, key_list_ucdp, string_start, start = [1989, 1,1], stop = [2014,1,1]):\n",
    "    \"\"\"commented out the stop and start\"\"\"\n",
    "    #stop  = '2014-01-01'\n",
    "    # need to adapt ged and other year / month vs ged database for this.\n",
    "    # bool prio to add multiples of 12 to each year usin prio grid.\n",
    "    num_month = monotonic_date(stop, start)\n",
    "    print(num_month)\n",
    "    comb_channel_len = len(key_list_prio) + len(key_list_ucdp)\n",
    "    print(comb_channel_len)\n",
    "    array = np.zeros((num_month, comb_channel_len, 360,720))\n",
    "    \"\"\"commented out here aswell\"\"\"\n",
    "    stop = date_to_int_list(stop)\n",
    "\n",
    "    month = 0\n",
    "    extract_month = monotonic_date(string_start) ## changed.\n",
    "    for i in range(start[0], stop[0]):\n",
    "        for j in range(12): # for each month\n",
    "            # now fill in selected channels as requried.\n",
    "\n",
    "            array[month][:len(key_list_ucdp)] = construct_channels(dataframe_ucdp[dataframe_ucdp.mon_month == extract_month], key_list = key_list_ucdp, prio_key = \"priogrid_gid\")\n",
    "            array[month][len(key_list_ucdp):] = construct_channels(dataframe_prio[dataframe_prio.year == i], key_list = key_list_prio, prio_key = 'gid')\n",
    "            print(extract_month)\n",
    "\n",
    "            month += 1\n",
    "            extract_month +=1\n",
    "    del month\n",
    "    return array\n",
    "\n",
    "\n",
    "\n",
    "def construct_channels(dataframe, key_list, prio_key = \"gid\"):\n",
    "    # usually used for prio\n",
    "    array = np.zeros((len(key_list), 360, 720))\n",
    "    for i, keys in enumerate(key_list):\n",
    "        array[i] = construct_layer(dataframe, key = keys, prio_key = prio_key)\n",
    "    return array\n",
    "\n",
    "\n",
    "\"\"\"check how we are dealing with cases that go up to and including the final step\"\"\"\n",
    "\n",
    "def construct_sequence(dataframe, key_list, prio_key = 'gid', start = [1989, 1, 1], stop = [2014,1,1], prio = False):\n",
    "    stop  = '2014-01-01'\n",
    "    # need to adapt ged and other year / month vs ged database for this.\n",
    "    # bool prio to add multiples of 12 to each year usin prio grid.\n",
    "    num_month = monotonic_date(stop, start)\n",
    "\n",
    "\n",
    "\n",
    "\n",
    "    if prio == False:\n",
    "        # i.e if doing ucdp\n",
    "        # presumes adapted ucdp\n",
    "        # seq length, channels, height, width\n",
    "        array = np.zeros((num_month, len(key_list), 360, 720))\n",
    "\n",
    "        for month in range(num_month):\n",
    "            array[month] = construct_channels(dataframe[dataframe.mon_month == month], key_list = key_list, prio_key = \"priogrid_gid\")\n",
    "\n",
    "            # now for\n",
    "#            array[i] =\n",
    "    elif prio:\n",
    "        stop = [2014,1,1]\n",
    "        array = np.zeros((num_month, len(key_list), 360, 720))\n",
    "        # now for the prio grid data.\n",
    "        # need to make up remainder of start year,\n",
    "        # then multiples of 12 for each year\n",
    "        # then remainder of end year.\n",
    "\n",
    "        \"\"\"this presumes start dates @ start of year no more no less\"\"\"\n",
    "        # need to plus one at the end\n",
    "        month = 0\n",
    "        for i in range(start[0], stop[0]):\n",
    "            for j in range(12): # for each month\n",
    "                array[month] = construct_channels(dataframe[dataframe.year == i], key_list = key_list, prio_key = 'gid')\n",
    "                print(month)\n",
    "\n",
    "                month += 1\n",
    "        del month\n",
    "\n",
    "\n",
    "\n",
    "\n",
    "\n",
    "#        start_months = 13 - start[1] # i.e if its 1989,1,1 then there are 12 months left.\n",
    "#        years = stop[0] - start[0]  - 1 # -1 as due to method of making up start months. i.e\n",
    "#        # want [2013,1,1] [2014,1,1] to be dependant of start and stop months and have no year * 12 months additions\n",
    "#        finish_months = stop[1] # stop months\n",
    "#        months_interim = np.arange(start[0], stop[0]+1, 1)\n",
    "#\n",
    "#        ######\n",
    "#\n",
    "#        # now the start month multiples\n",
    "#        for i in range(start_months):\n",
    "#            array[i] = construct_channels(dataframe[dataframe.year == start[0]], key_list = key_list, prio_key = \"gid\")\n",
    "#        # double check prio yearly - try to get monthly values out.\n",
    "#\n",
    "#        for i in range(years):\n",
    "#            for j in range(i *12, (i+1)* 12):\n",
    "#                array[j]\n",
    "\n",
    "\n",
    "    return array\n",
    "\n",
    "\n",
    "def date_column(dataframe, baseline = [1989,1,1]):\n",
    "    # puts new column on dataframe, no need to return.\n",
    "    # date start just as dummy atm\n",
    "#    dataframe = dataframe[\"date_start\"]\n",
    "    vals = dataframe[\"date_start\"].values\n",
    "    new_col = np.array([monotonic_date(string_date) for string_date in vals])\n",
    "    dataframe[\"mon_month\"] = new_col\n",
    "\n",
    "def h5py_conversion(data_array, filename, key_list_ucdp, key_list_prio):\n",
    "    # this is for saving the default 360:720 file to chop out of.\n",
    "    # lazy loading saves the day\n",
    "    # all day\n",
    "    # every day\n",
    "    f = h5py.File(\"{}.hdf5\".format(filename), \"w\")\n",
    "\n",
    "    f.create_dataset(\"data_combined\", data = data_array)\n",
    "\n",
    "    f.close()\n",
    "\n",
    "\n",
    "\n",
    "    csv = open(name + \"_config.csv\", 'w')\n",
    "    csv.write(\"Included data UCDP:\\n\")\n",
    "    for key in key_list_ucdp:\n",
    "        csv.write(key + \"\\n\")\n",
    "\n",
    "    csv.write(\"Included data PRIO:\\n\")\n",
    "    for key in key_list_prio:\n",
    "        csv.write(key + \"\\n\")\n",
    "    csv.close()\n"
   ]
  },
  {
   "cell_type": "code",
   "execution_count": 4,
   "metadata": {
    "colab": {},
    "colab_type": "code",
    "id": "AdH8e_Alf5r7"
   },
   "outputs": [],
   "source": [
    "def raster_test(input_data, chunk_size = 16):\n",
    "    # to overcome edge sizes can make selection large if we just reject the training data for outside africa\n",
    "    # although we do not necessarily need to do this\n",
    "    # i.e expand box and allow less sampled box to sampel others more frequently.\n",
    "\n",
    "    # step size is always 1\n",
    "    # assuming image is a cutout of globe\n",
    "    # this is for single step, single channel as a test.\n",
    "    step = 1\n",
    "    height = input_data.shape[-2]\n",
    "    width = input_data.shape[-1]\n",
    "    for i in range(height - chunk_size + 1):\n",
    "        for j in range(width - chunk_size+1):\n",
    "            print(input_data[:,i:i+chunk_size,j:j + chunk_size])\n",
    "            print(\".\")\n",
    "\n",
    "#    plt.imshow(input_data)\n",
    "\n",
    "def raster_selection(input_data, chunk_size = 16):\n",
    "    # here input_data is sequence step.\n",
    "    # data should be of dimensions seq, channels, height, width.\n",
    "    # to overcome edge sizes can make selection large if we just reject the training data for outside africa\n",
    "    # although we do not necessarily need to do this\n",
    "    # i.e expand box and allow less sampled box to sampel others more frequently.\n",
    "\n",
    "    # step size is always 1\n",
    "    # assuming image is a cutout of globe\n",
    "    # this is for single step, single channel as a test.\n",
    "    step = 1\n",
    "    height = input_data.shape[-2]\n",
    "    width = input_data.shape[-1]\n",
    "    # this is not efficient.\n",
    "    for i in range(height - chunk_size + 1):\n",
    "        for j in range(width - chunk_size+1):\n",
    "            input_data[0][i:i+chunk_size,j:j + chunk_size]\n",
    "\n",
    "    plt.imshow(input_data)\n",
    "\n",
    "\n",
    "def random_pixel_bounds(i, j, chunk_size = 16):\n",
    "    # returns the bounds of the image to select with a random pixel size.\n",
    "\n",
    "    height = random.randint(0, chunk_size-1)\n",
    "    width = random.randint(0, chunk_size-1)\n",
    "    # this randomly generates a of the image for where the pixel may be located\n",
    "    # randomly in the cut out image.\n",
    "    i_lower = i - height\n",
    "    i_upper = i + (chunk_size - height)\n",
    "\n",
    "    j_lower = j - width\n",
    "    j_upper = j + (chunk_size - width)\n",
    "\n",
    "    return [i_lower, i_upper, j_lower, j_upper]\n",
    "\n",
    "def random_selection(image, i, j, chunk_size = 16):\n",
    "\n",
    "    i_lower, i_upper, j_lower, j_upper = random_pixel_bounds(i, j, chunk_size = chunk_size)\n",
    "\n",
    "    print(image[i_lower:i_upper,j_lower:j_upper])\n",
    "\n",
    "def random_grid_selection(image, sequence_step, chunk_size= 16, draws = 5, debug = True):\n",
    "    if debug:\n",
    "        print(\"Image shape is:\" , image.shape)\n",
    "\n",
    "\n",
    "    # decide if this is going to be h5py loaded.\n",
    "\n",
    "    # decide what sequence step is going to be like and how to return it\n",
    "\n",
    "    # image is seq, channels, height, width\n",
    "\n",
    "    # here we are using a seq length of 10. - could use 12 but atm we go for 10.\n",
    "\n",
    "    # sequence step is the step at which the TRUTH is being extracted. the predictor sequence\n",
    "    # is extracted from the 10 preceding steps. be careful to send in from i > 11\n",
    "    assert sequence_step > 10, (\"This function selects the datapoints from this test set that contain\"\n",
    "                                \"a conflict event and then selects predictor data from the 10 preceding steps\"\n",
    "                                \" as a result i > 10 must be true\")\n",
    "    # for sequence step, 0th layer - i.e fatalities\n",
    "    y, x = np.where(image[sequence_step][0] >= 1)\n",
    "\n",
    "    if debug:\n",
    "        print(x.shape)\n",
    "\n",
    "    truth_list = []\n",
    "    predictor_list = []\n",
    "\n",
    "    # re arange for loops for speed?\n",
    "    for i,j in zip(y, x): # now over sites where fatalities have occured\n",
    "        for _ in range(draws):\n",
    "            i_lower, i_upper, j_lower, j_upper = random_pixel_bounds(i, j, chunk_size=chunk_size)\n",
    "\n",
    "            # now need to work out how to store these. how to stack ontop ect.\n",
    "            truth = image[sequence_step][0,i_lower:i_upper,j_lower:j_upper]\n",
    "            # check these dimensions\n",
    "            \"\"\"FIXED BELOW \"\"\"\n",
    "            predictors = image[sequence_step-10:sequence_step, :,i_lower:i_upper,j_lower:j_upper]\n",
    "\n",
    "            truth_list.append(truth)\n",
    "            predictor_list.append(predictors)\n",
    "\n",
    "    # finally we combine the previous arrays.\n",
    "\n",
    "    return np.stack(predictor_list, axis= 0), np.stack(truth_list, axis = 0)\n",
    "\n",
    "\n",
    "def full_dataset_numpy(image, chunk_size = 16, draws = 5, debug = False):\n",
    "    # image is seq, channels, height, width\n",
    "    predictor_list = []\n",
    "    truth_list = []\n",
    "    for i in range(11, len(image)):\n",
    "        t1, t2 = random_grid_selection(image, i)\n",
    "        predictor_list.append(t1)\n",
    "        truth_list.append(t2)\n",
    "\n",
    "    truth_np = np.concatenate(truth_list, axis = 0)\n",
    "    predictor_np = np.concatenate(predictor_list, axis =0)\n",
    "    return predictor_np, truth_np\n",
    "\n",
    "def quick_dataset(data, name):\n",
    "    f = h5py.File(name + \".hdf5\", \"w\")\n",
    "    f.create_dataset(\"main\", data = data)\n",
    "#    f.create_dataset(\"truth\", data = truth)\n",
    "    f.close()\n",
    "\n",
    "\n",
    "\n",
    "\n",
    "#data = pd.read_csv(\"data/ged191.csv\")\n",
    "\n",
    "def debug_func1(dataframe, month):\n",
    "    a = dataframe[dataframe.mon_month == month]\n",
    "    print(len(a[a.best >0]))\n"
   ]
  },
  {
   "cell_type": "code",
   "execution_count": 5,
   "metadata": {
    "colab": {},
    "colab_type": "code",
    "id": "4WG8VQ4Of_A7"
   },
   "outputs": [],
   "source": [
    "def raster_test(input_data, chunk_size = 16):\n",
    "    # to overcome edge sizes can make selection large if we just reject the training data for outside africa\n",
    "    # although we do not necessarily need to do this\n",
    "    # i.e expand box and allow less sampled box to sampel others more frequently.\n",
    "\n",
    "    # step size is always 1\n",
    "    # assuming image is a cutout of globe\n",
    "    # this is for single step, single channel as a test.\n",
    "    step = 1\n",
    "    height = input_data.shape[-2]\n",
    "    width = input_data.shape[-1]\n",
    "    for i in range(height - chunk_size + 1):\n",
    "        for j in range(width - chunk_size+1):\n",
    "            print(input_data[:,i:i+chunk_size,j:j + chunk_size])\n",
    "            print(\".\")\n",
    "\n",
    "#    plt.imshow(input_data)\n",
    "\n",
    "def raster_selection(input_data, chunk_size = 16):\n",
    "    # here input_data is sequence step.\n",
    "    # data should be of dimensions seq, channels, height, width.\n",
    "    # to overcome edge sizes can make selection large if we just reject the training data for outside africa\n",
    "    # although we do not necessarily need to do this\n",
    "    # i.e expand box and allow less sampled box to sampel others more frequently.\n",
    "\n",
    "    # step size is always 1\n",
    "    # assuming image is a cutout of globe\n",
    "    # this is for single step, single channel as a test.\n",
    "    step = 1\n",
    "    height = input_data.shape[-2]\n",
    "    width = input_data.shape[-1]\n",
    "    # this is not efficient.\n",
    "    for i in range(height - chunk_size + 1):\n",
    "        for j in range(width - chunk_size+1):\n",
    "            input_data[0][i:i+chunk_size,j:j + chunk_size]\n",
    "\n",
    "    plt.imshow(input_data)\n",
    "\n",
    "\n",
    "def random_pixel_bounds(i, j, chunk_size = 16):\n",
    "    # returns the bounds of the image to select with a random pixel size.\n",
    "\n",
    "    height = random.randint(0, chunk_size-1)\n",
    "    width = random.randint(0, chunk_size-1)\n",
    "    # this randomly generates a of the image for where the pixel may be located\n",
    "    # randomly in the cut out image.\n",
    "    i_lower = i - height\n",
    "    i_upper = i + (chunk_size - height)\n",
    "\n",
    "    j_lower = j - width\n",
    "    j_upper = j + (chunk_size - width)\n",
    "\n",
    "    return [i_lower, i_upper, j_lower, j_upper]\n",
    "\n",
    "def random_selection(image, i, j, chunk_size = 16):\n",
    "\n",
    "    i_lower, i_upper, j_lower, j_upper = random_pixel_bounds(i, j, chunk_size = chunk_size)\n",
    "\n",
    "    print(image[i_lower:i_upper,j_lower:j_upper])\n",
    "\n",
    "def random_grid_selection(image, sequence_step, chunk_size= 16, draws = 5, cluster = False, min_events = 0, debug = True):\n",
    "    if debug:\n",
    "        print(\"Image shape is:\" , image.shape)\n",
    "\n",
    "\n",
    "    # decide if this is going to be h5py loaded.\n",
    "\n",
    "    # decide what sequence step is going to be like and how to return it\n",
    "\n",
    "    # image is seq, channels, height, width\n",
    "\n",
    "    # here we are using a seq length of 10. - could use 12 but atm we go for 10.\n",
    "\n",
    "    # sequence step is the step at which the TRUTH is being extracted. the predictor sequence\n",
    "    # is extracted from the 10 preceding steps. be careful to send in from i > 11\n",
    "    assert sequence_step > 10, (\"This function selects the datapoints from this test set that contain\"\n",
    "                                \"a conflict event and then selects predictor data from the 10 preceding steps\"\n",
    "                                \" as a result i > 10 must be true\")\n",
    "    # for sequence step, 0th layer - i.e fatalities\n",
    "    y, x = np.where(image[sequence_step][0] >= 1)\n",
    "#     print(y)\n",
    "#     print(x)\n",
    "    \n",
    "    \n",
    "    \n",
    "    \"\"\"INCLUDE CLUSTERING IN HERE?????\"\"\"\n",
    "    if cluster:\n",
    "        clf = LocalOutlierFactor(n_neighbors=5, contamination= 0.05)\n",
    "        pred = clf.fit_predict(X)\n",
    "        # correct this but answer is this shape\n",
    "        np.hstack((a.reshape((-1,1)), b.reshape((-1,1))))\n",
    "        \n",
    "    \n",
    "    if debug:\n",
    "        print(x.shape)\n",
    "\n",
    "    truth_list = []\n",
    "    predictor_list = []\n",
    "\n",
    "    # re arange for loops for speed?\n",
    "    for i,j in zip(y, x): # now over sites where fatalities have occured\n",
    "        for _ in range(draws):\n",
    "            i_lower, i_upper, j_lower, j_upper = random_pixel_bounds(i, j, chunk_size=chunk_size)\n",
    "\n",
    "            # now need to work out how to store these. how to stack ontop ect.\n",
    "            truth = image[sequence_step][0,i_lower:i_upper,j_lower:j_upper]\n",
    "            # check these dimensions\n",
    "            \"\"\"fixed here\"\"\"\n",
    "            predictors = image[sequence_step-10:sequence_step, :,i_lower:i_upper,j_lower:j_upper]\n",
    "            \n",
    "            # if statement here to decide whether will be appended to full list\n",
    "            # i.e if it reaches the cutoff for acceptable level of conflict.\n",
    "#             print(np.count_nonzero(predictors[:,0]))\n",
    "#             print(sequence_step)\n",
    "#             print(predictors.shape)\n",
    "            if (np.count_nonzero(predictors[:,0]) >= min_events):\n",
    "                truth_list.append(truth)\n",
    "                predictor_list.append(predictors)\n",
    "\n",
    "    # finally we combine the previous arrays.\n",
    "\n",
    "    return np.stack(predictor_list, axis= 0), np.stack(truth_list, axis = 0)\n",
    "\n",
    "\n",
    "def full_dataset_numpy(image, chunk_size = 16, draws = 5, min_events = 0, debug = False):\n",
    "    # image is seq, channels, height, width\n",
    "    predictor_list = []\n",
    "    truth_list = []\n",
    "    for i in range(11, len(image)):\n",
    "        t1, t2 = random_grid_selection(image, i, min_events = min_events)\n",
    "        predictor_list.append(t1)\n",
    "        truth_list.append(t2)\n",
    "\n",
    "    truth_np = np.concatenate(truth_list, axis = 0)\n",
    "    predictor_np = np.concatenate(predictor_list, axis =0)\n",
    "    return predictor_np, truth_np\n",
    "\n",
    "def quick_dataset(data, name):\n",
    "    f = h5py.File(name + \".hdf5\", \"w\")\n",
    "    f.create_dataset(\"main\", data = data)\n",
    "#    f.create_dataset(\"truth\", data = truth)\n",
    "    f.close()\n",
    "\n",
    "\n",
    "\n",
    "\n",
    "#data = pd.read_csv(\"data/ged191.csv\")\n",
    "\n",
    "def debug_func1(dataframe, month):\n",
    "    a = dataframe[dataframe.mon_month == month]\n",
    "    print(len(a[a.best >0]))\n"
   ]
  },
  {
   "cell_type": "code",
   "execution_count": 6,
   "metadata": {
    "colab": {},
    "colab_type": "code",
    "id": "YfrOf9qBMADY"
   },
   "outputs": [],
   "source": [
    "def binary_event_column(dataframe):\n",
    "    \"\"\" as it is hard to encode categorical information about battles when\n",
    "    battle deaths = 0, we then encode a binary - 0, 1 layer pertaining to\n",
    "    whether an event took place\"\"\"\n",
    "    new_col = np.ones(len(dataframe))\n",
    "    dataframe[\"binary_event\"] = new_col\n",
    "\n",
    "def nan_to_one(dataframe, key):\n",
    "    \"\"\"takes column from dataframe\"\"\"\n",
    "    dataframe[key] = dataframe[key].fillna(0)"
   ]
  },
  {
   "cell_type": "code",
   "execution_count": 7,
   "metadata": {},
   "outputs": [],
   "source": [
    "def pop_hyd_impute(data):\n",
    "    \"\"\"has data for 1990,1995,2000,2005.\n",
    "\n",
    "    for 1989 do 1990\n",
    "    1990 - 1994\n",
    "    1995 - 1999\n",
    "    2000 - 2004\n",
    "    2005 - 2014\n",
    "    \"\"\"\n",
    "    for i in range(1989, 1990):\n",
    "        data.loc[data.year == i, 'pop_hyd_sum'] = np.array(data.loc[data.year == 1990, 'pop_hyd_sum'])\n",
    "    for i in range(1991, 2000):\n",
    "        data.loc[data.year == i, 'pop_hyd_sum'] = np.array(data.loc[data.year == 1990, 'pop_hyd_sum'])\n",
    "    for i in range(2000,2005):\n",
    "        data.loc[data.year == i, 'pop_hyd_sum'] = np.array(data.loc[data.year == 2000, 'pop_hyd_sum'])\n",
    "    for i in range(2006,2015):\n",
    "        data.loc[data.year == i, 'pop_hyd_sum'] = np.array(data.loc[data.year == 2005, 'pop_hyd_sum'])\n",
    "\n"
   ]
  },
  {
   "cell_type": "markdown",
   "metadata": {
    "colab_type": "text",
    "id": "Xlgt1oO5J14F"
   },
   "source": []
  },
  {
   "cell_type": "markdown",
   "metadata": {
    "colab_type": "text",
    "id": "t14HJK9Pgk0E"
   },
   "source": [
    "# LOADING DATA AND FUNCTION"
   ]
  },
  {
   "cell_type": "code",
   "execution_count": 8,
   "metadata": {
    "colab": {
     "base_uri": "https://localhost:8080/",
     "height": 35
    },
    "colab_type": "code",
    "id": "8JDVKJ6UhCcU",
    "outputId": "6fbf27fd-e3b0-4844-9096-4b6b02365077"
   },
   "outputs": [
    {
     "data": {
      "text/plain": [
       "'/rdsgpfs/general/user/gcl15/home/masters_project/data'"
      ]
     },
     "execution_count": 8,
     "metadata": {},
     "output_type": "execute_result"
    }
   ],
   "source": [
    "%pwd"
   ]
  },
  {
   "cell_type": "code",
   "execution_count": 12,
   "metadata": {
    "colab": {
     "base_uri": "https://localhost:8080/",
     "height": 35
    },
    "colab_type": "code",
    "id": "KexhPxtxkUTD",
    "outputId": "545161da-329f-46fc-e00a-3edc7859ff5e"
   },
   "outputs": [
    {
     "name": "stdout",
     "output_type": "stream",
     "text": [
      "/rdsgpfs/general/user/gcl15/home/masters_project\n"
     ]
    }
   ],
   "source": [
    "%cd masters_project/\n"
   ]
  },
  {
   "cell_type": "markdown",
   "metadata": {
    "colab_type": "text",
    "id": "WHrgYmVdlK8q"
   },
   "source": [
    "load in data"
   ]
  },
  {
   "cell_type": "code",
   "execution_count": 13,
   "metadata": {
    "colab": {},
    "colab_type": "code",
    "id": "rEibi2zhgrbk"
   },
   "outputs": [],
   "source": [
    "\n",
    "data_prio = pd.read_csv(\"data/PRIO-GRID Yearly Variables for 1946-2014 - 2019-07-26.csv\")\n",
    "data_ucdp = pd.read_csv(\"data/ged191.csv\")\n",
    "\n"
   ]
  },
  {
   "cell_type": "code",
   "execution_count": 14,
   "metadata": {
    "colab": {
     "base_uri": "https://localhost:8080/",
     "height": 1000
    },
    "colab_type": "code",
    "id": "w7baPUX5sn0j",
    "outputId": "2abe0e29-9ded-4959-a2d3-d652a44495d3"
   },
   "outputs": [],
   "source": [
    "#data_prio"
   ]
  },
  {
   "cell_type": "markdown",
   "metadata": {
    "colab_type": "text",
    "id": "GeDqDYZRFaXa"
   },
   "source": [
    "sub selecting only the african region - just to test for simplicity - compare training on both at a later date"
   ]
  },
  {
   "cell_type": "code",
   "execution_count": 15,
   "metadata": {
    "colab": {},
    "colab_type": "code",
    "id": "Soxg4jfzFiOk"
   },
   "outputs": [],
   "source": [
    "north = 37.32\n",
    "south = -34.5115\n",
    "west = -17.3113\n",
    "east = 51.2752\n",
    "\n",
    "data_ucdp = data_ucdp[(data_ucdp.latitude >= south) & (data_ucdp.latitude <= north) & (data_ucdp.longitude >= west) & (east >= data_ucdp.longitude)]\n",
    "# data = dummy"
   ]
  },
  {
   "cell_type": "markdown",
   "metadata": {
    "colab_type": "text",
    "id": "vyXn5extlKDV"
   },
   "source": [
    "add monotonic month column to the ucdp data, turn nans into 1s for petroleum and drugs"
   ]
  },
  {
   "cell_type": "code",
   "execution_count": 16,
   "metadata": {
    "colab": {},
    "colab_type": "code",
    "id": "NjBSL8xNgycL"
   },
   "outputs": [],
   "source": [
    "date_column(data_ucdp)\n",
    "binary_event_column(data_ucdp)\n",
    "nan_to_one(data_prio, \"petroleum_y\")\n",
    "nan_to_one(data_prio, \"drug_y\")\n",
    "pop_hyd_impute(data_prio)\n",
    "nan_to_one(data_prio, \"pop_hyd_sum\")\n",
    "nan_to_one(data_prio, \"capdist\")\n",
    "\n",
    "\n"
   ]
  },
  {
   "cell_type": "code",
   "execution_count": 17,
   "metadata": {
    "colab": {
     "base_uri": "https://localhost:8080/",
     "height": 35
    },
    "colab_type": "code",
    "id": "UK6uwb6M9T6Y",
    "outputId": "5296aead-6efd-415f-d778-878fad3b903d"
   },
   "outputs": [],
   "source": [
    "#data_prio.drug_y.unique()\n"
   ]
  },
  {
   "cell_type": "code",
   "execution_count": 18,
   "metadata": {
    "colab": {
     "base_uri": "https://localhost:8080/",
     "height": 35
    },
    "colab_type": "code",
    "id": "Edz9RKCB9Yq0",
    "outputId": "7c0c9fc8-1dde-4958-ea07-f10aa9b90e82"
   },
   "outputs": [],
   "source": [
    "#data_prio.petroleum_y.unique()"
   ]
  },
  {
   "cell_type": "code",
   "execution_count": 19,
   "metadata": {
    "colab": {
     "base_uri": "https://localhost:8080/",
     "height": 35
    },
    "colab_type": "code",
    "id": "Kn7sl3W3dZ7A",
    "outputId": "03afcb65-6bd6-411b-920a-915cb382fd68"
   },
   "outputs": [],
   "source": [
    "#data_prio.drug_y.unique()"
   ]
  },
  {
   "cell_type": "markdown",
   "metadata": {
    "colab_type": "text",
    "id": "OWId5IE1lPVf"
   },
   "source": [
    "construct full image sequence"
   ]
  },
  {
   "cell_type": "code",
   "execution_count": 20,
   "metadata": {
    "colab": {},
    "colab_type": "code",
    "id": "lYxGEKVANpJg"
   },
   "outputs": [],
   "source": [
    "key_list_prio = [\"pop_hyd_sum\",\"capdist\", \"prec_gpcp\"] # not temp - needs better imputation\n",
    "# excluded also useful - talk to nils about exclusion.\n",
    "#gcp_ppp also not included.\n",
    "#\n",
    "#\n",
    "#\n",
    "#\n",
    "#\n",
    "#\n",
    "#\n",
    "#\n",
    "\n",
    "# no mountainous regions so far\n",
    "# key_list_ucdp = [\"best\", \"binary_event\"]\n",
    "key_list_ucdp = ['binary_event', 'best']\n",
    "\n"
   ]
  },
  {
   "cell_type": "code",
   "execution_count": 21,
   "metadata": {},
   "outputs": [
    {
     "data": {
      "text/plain": [
       "276"
      ]
     },
     "execution_count": 21,
     "metadata": {},
     "output_type": "execute_result"
    }
   ],
   "source": [
    "monotonic_date('2012-01-01')"
   ]
  },
  {
   "cell_type": "code",
   "execution_count": 22,
   "metadata": {},
   "outputs": [],
   "source": [
    "# train_set = construct_combined_sequence(data_prio, data_ucdp, key_list_prio=key_list_prio, key_list_ucdp=key_list_ucdp, string_start='1989-01-01',start=[1989,1,1], stop = '2012-01-01')#stop = [2012,1,1])\n",
    "# test_set = construct_combined_sequence(data_prio, data_ucdp, key_list_prio=key_list_prio, key_list_ucdp=key_list_ucdp, string_start= '2012-01-01',start=[2012,1,1], stop = '2014-01-01')#stop = [2014,1,1])"
   ]
  },
  {
   "cell_type": "code",
   "execution_count": 23,
   "metadata": {},
   "outputs": [
    {
     "ename": "NameError",
     "evalue": "name 'train_set' is not defined",
     "output_type": "error",
     "traceback": [
      "\u001b[0;31m---------------------------------------------------------------------------\u001b[0m",
      "\u001b[0;31mNameError\u001b[0m                                 Traceback (most recent call last)",
      "\u001b[0;32m<ipython-input-23-bda6ae4aab92>\u001b[0m in \u001b[0;36m<module>\u001b[0;34m\u001b[0m\n\u001b[0;32m----> 1\u001b[0;31m \u001b[0mtrain_set\u001b[0m\u001b[0;34m.\u001b[0m\u001b[0mshape\u001b[0m\u001b[0;34m\u001b[0m\u001b[0;34m\u001b[0m\u001b[0m\n\u001b[0m",
      "\u001b[0;31mNameError\u001b[0m: name 'train_set' is not defined"
     ]
    }
   ],
   "source": [
    "# train_set.shape"
   ]
  },
  {
   "cell_type": "code",
   "execution_count": null,
   "metadata": {},
   "outputs": [],
   "source": [
    "test_set.shape"
   ]
  },
  {
   "cell_type": "code",
   "execution_count": null,
   "metadata": {},
   "outputs": [],
   "source": [
    "(test_set[0,0] == train_set[0,0]).all()"
   ]
  },
  {
   "cell_type": "code",
   "execution_count": 43,
   "metadata": {},
   "outputs": [
    {
     "name": "stdout",
     "output_type": "stream",
     "text": [
      "/rdsgpfs/general/user/gcl15/home/masters_project\n"
     ]
    }
   ],
   "source": [
    "%pwd\n",
    "%cd masters_project/"
   ]
  },
  {
   "cell_type": "code",
   "execution_count": 44,
   "metadata": {},
   "outputs": [],
   "source": [
    "# np.save(\"map_new_test\", test_set)\n",
    "# np.save(\"map_new_train\", train_set)\n",
    "test_set = np.load(\"map_new_test.npy\")\n",
    "train_set = np.load(\"map_new_train.npy\")"
   ]
  },
  {
   "cell_type": "code",
   "execution_count": 45,
   "metadata": {
    "colab": {},
    "colab_type": "code",
    "id": "NWa9_B-qnD4g"
   },
   "outputs": [],
   "source": [
    "# train_set = construct_combined_sequence(data_prio, data_ucdp, key_list_prio=key_list_prio, key_list_ucdp=key_list_ucdp, start=[1989,1,1], stop = '2012-01-01')#stop = [2012,1,1])\n",
    "\n",
    "# test_set = construct_combined_sequence(data_prio, data_ucdp, key_list_prio=key_list_prio, key_list_ucdp=key_list_ucdp, start=[2012,1,1], stop = '2014-01-01')#stop = [2014,1,1])"
   ]
  },
  {
   "cell_type": "code",
   "execution_count": null,
   "metadata": {},
   "outputs": [],
   "source": []
  },
  {
   "cell_type": "code",
   "execution_count": 46,
   "metadata": {
    "colab_type": "text",
    "id": "at14JdkSmO_4"
   },
   "outputs": [],
   "source": [
    "# np.save(\"train_array\", train_set)\n",
    "# np.save(\"test_array\", test_set)"
   ]
  },
  {
   "cell_type": "code",
   "execution_count": 47,
   "metadata": {},
   "outputs": [
    {
     "name": "stdout",
     "output_type": "stream",
     "text": [
      "/rdsgpfs/general/user/gcl15/home\n"
     ]
    }
   ],
   "source": [
    "%pwd\n",
    "%cd .."
   ]
  },
  {
   "cell_type": "code",
   "execution_count": 48,
   "metadata": {
    "colab": {},
    "colab_type": "code",
    "id": "ErmEch2UmOfj"
   },
   "outputs": [],
   "source": [
    "# # np.save(\"array_4\", test)\n",
    "# test_set = np.load(\"test_array.npy\")\n",
    "# train_set = np.load(\"train_array.npy\")\n"
   ]
  },
  {
   "cell_type": "markdown",
   "metadata": {
    "colab_type": "text",
    "id": "duA3-ZxphgbK"
   },
   "source": [
    "correct test binary layer - by correcting the other layer\n"
   ]
  },
  {
   "cell_type": "code",
   "execution_count": 49,
   "metadata": {
    "colab": {
     "base_uri": "https://localhost:8080/",
     "height": 87
    },
    "colab_type": "code",
    "id": "S83jt2a8hlX0",
    "outputId": "a2af05da-26ed-40eb-d7e3-f0771d5a5d99"
   },
   "outputs": [],
   "source": [
    "# changed to 0 due to changing order of layers.\n",
    "\n",
    "#print(test_set[:,0].shape)\n",
    "#print(np.unique(test[:,0]))\n",
    "test_set[:,0][test_set[:,0] > 0] = 1\n",
    "train_set[:,0][train_set[:,0] > 0] = 1\n",
    "# plt.figure(figsize = (50,10))\n",
    "# plt.imshow(test[199][1],vmin = 0, vmax = 1)"
   ]
  },
  {
   "cell_type": "code",
   "execution_count": 50,
   "metadata": {
    "colab": {
     "base_uri": "https://localhost:8080/",
     "height": 35
    },
    "colab_type": "code",
    "id": "kxcXOOd1jSjk",
    "outputId": "3aa98844-211f-450a-fcfc-a15d85688b01"
   },
   "outputs": [
    {
     "data": {
      "text/plain": [
       "array([0., 1.])"
      ]
     },
     "execution_count": 50,
     "metadata": {},
     "output_type": "execute_result"
    }
   ],
   "source": [
    "np.unique(test_set[:,0])\n",
    "np.unique(train_set[:,0])"
   ]
  },
  {
   "cell_type": "code",
   "execution_count": 51,
   "metadata": {
    "colab": {
     "base_uri": "https://localhost:8080/",
     "height": 613
    },
    "colab_type": "code",
    "id": "9jjkUhXDjKpA",
    "outputId": "98d0ee90-0f25-4028-b309-9940cde4a9ac"
   },
   "outputs": [
    {
     "data": {
      "text/plain": [
       "<matplotlib.image.AxesImage at 0x2b6b4337abe0>"
      ]
     },
     "execution_count": 51,
     "metadata": {},
     "output_type": "execute_result"
    },
    {
     "data": {
      "image/png": "[encoded data removed]",
      "text/plain": [
       "<Figure size 3600x720 with 1 Axes>"
      ]
     },
     "metadata": {
      "needs_background": "light"
     },
     "output_type": "display_data"
    }
   ],
   "source": [
    "plt.figure(figsize = (50,10))\n",
    "plt.imshow(test_set[11][0],vmin = 0, vmax = 1)"
   ]
  },
  {
   "cell_type": "code",
   "execution_count": 52,
   "metadata": {
    "colab": {
     "base_uri": "https://localhost:8080/",
     "height": 35
    },
    "colab_type": "code",
    "id": "EZxyTNQfds0U",
    "outputId": "cb8c6ff2-0b61-4d3e-8e24-d223078dceeb"
   },
   "outputs": [
    {
     "data": {
      "text/plain": [
       "array([0., 1.])"
      ]
     },
     "execution_count": 52,
     "metadata": {},
     "output_type": "execute_result"
    }
   ],
   "source": [
    "np.unique(test_set[0][0])"
   ]
  },
  {
   "cell_type": "markdown",
   "metadata": {
    "colab_type": "text",
    "id": "e7TspZujnGPy"
   },
   "source": [
    "now put this into our random selection."
   ]
  },
  {
   "cell_type": "code",
   "execution_count": 53,
   "metadata": {
    "colab": {
     "base_uri": "https://localhost:8080/",
     "height": 35
    },
    "colab_type": "code",
    "id": "tWTELI9pmexd",
    "outputId": "c82dbf12-cfcb-416f-cde4-e2ca4be92013"
   },
   "outputs": [
    {
     "data": {
      "text/plain": [
       "(24, 5, 360, 720)"
      ]
     },
     "execution_count": 53,
     "metadata": {},
     "output_type": "execute_result"
    }
   ],
   "source": [
    "test_set.shape\n"
   ]
  },
  {
   "cell_type": "code",
   "execution_count": 54,
   "metadata": {
    "colab": {},
    "colab_type": "code",
    "id": "N-pvjTDDmgpi"
   },
   "outputs": [],
   "source": [
    "def full_dataset_h5py(image, filename, key_list_prio, key_list_ucdp, chunk_size = 16, draws = 5, min_events = 25, debug = False):\n",
    "    \"\"\" dataset is too large to combine in 12gb of ram - need to combine in h5py\n",
    "    array. i.e lazy saving as well as lazy loading\"\"\"\n",
    "    \n",
    "    with h5py.File(filename + \".hdf5\", 'w') as f:\n",
    "        for i in range(11, len(image)):\n",
    "            print(i)\n",
    "            t1, t2 = random_grid_selection(image, i, min_events = min_events)\n",
    "            if i == 11:\n",
    "                # creat h5py file at first step.\n",
    "                f.create_dataset('predictor', data= t1, maxshape=(None,None, None, None,None)) # compression=\"gzip\", chunks=True, taken out\n",
    "                f.create_dataset(\"truth\", data= t2, maxshape=(None,None,None))\n",
    "        \n",
    "            else:\n",
    "                f[\"predictor\"].resize((f[\"predictor\"].shape[0] + t1.shape[0]), axis = 0) # expand dataset\n",
    "                f[\"truth\"].resize((f[\"truth\"].shape[0] + t2.shape[0]), axis = 0)\n",
    "            \n",
    "                f[\"predictor\"][-t1.shape[0]:] = t1 # place new data in expanded dataset\n",
    "                f[\"truth\"][-t2.shape[0]:] = t2\n",
    "        \n",
    "        f[\"predictor\"].attrs.create(\"key_prio\", np.string_(key_list_prio))\n",
    "        f[\"truth\"].attrs.create(\"key_ucdp\", np.string_(key_list_ucdp))\n",
    "        \n",
    "        \n",
    "    \n",
    "#     f.close()\n",
    "        "
   ]
  },
  {
   "cell_type": "code",
   "execution_count": 55,
   "metadata": {},
   "outputs": [
    {
     "data": {
      "text/plain": [
       "(100, 5, 360, 720)"
      ]
     },
     "execution_count": 55,
     "metadata": {},
     "output_type": "execute_result"
    }
   ],
   "source": [
    "train_set[:100].shape"
   ]
  },
  {
   "cell_type": "code",
   "execution_count": 56,
   "metadata": {},
   "outputs": [
    {
     "data": {
      "text/plain": [
       "(24, 5, 360, 720)"
      ]
     },
     "execution_count": 56,
     "metadata": {},
     "output_type": "execute_result"
    }
   ],
   "source": [
    "test_set.shape"
   ]
  },
  {
   "cell_type": "code",
   "execution_count": 57,
   "metadata": {},
   "outputs": [
    {
     "data": {
      "text/plain": [
       "'/rdsgpfs/general/user/gcl15/home'"
      ]
     },
     "execution_count": 57,
     "metadata": {},
     "output_type": "execute_result"
    }
   ],
   "source": [
    "%pwd"
   ]
  },
  {
   "cell_type": "code",
   "execution_count": 58,
   "metadata": {
    "colab": {
     "base_uri": "https://localhost:8080/",
     "height": 1000
    },
    "colab_type": "code",
    "id": "5Ui6KeUhnD76",
    "outputId": "9ac6f2cc-299d-44fa-b728-23d785ca96a6"
   },
   "outputs": [
    {
     "name": "stdout",
     "output_type": "stream",
     "text": [
      "11\n",
      "Image shape is: (276, 5, 360, 720)\n",
      "(49,)\n",
      "12\n",
      "Image shape is: (276, 5, 360, 720)\n",
      "(84,)\n",
      "13\n",
      "Image shape is: (276, 5, 360, 720)\n",
      "(61,)\n",
      "14\n",
      "Image shape is: (276, 5, 360, 720)\n",
      "(70,)\n",
      "15\n",
      "Image shape is: (276, 5, 360, 720)\n",
      "(76,)\n",
      "16\n",
      "Image shape is: (276, 5, 360, 720)\n",
      "(68,)\n",
      "17\n",
      "Image shape is: (276, 5, 360, 720)\n",
      "(54,)\n",
      "18\n",
      "Image shape is: (276, 5, 360, 720)\n",
      "(56,)\n",
      "19\n",
      "Image shape is: (276, 5, 360, 720)\n",
      "(59,)\n",
      "20\n",
      "Image shape is: (276, 5, 360, 720)\n",
      "(65,)\n",
      "21\n",
      "Image shape is: (276, 5, 360, 720)\n",
      "(56,)\n",
      "22\n",
      "Image shape is: (276, 5, 360, 720)\n",
      "(51,)\n",
      "23\n",
      "Image shape is: (276, 5, 360, 720)\n",
      "(49,)\n",
      "24\n",
      "Image shape is: (276, 5, 360, 720)\n",
      "(68,)\n",
      "25\n",
      "Image shape is: (276, 5, 360, 720)\n",
      "(57,)\n",
      "26\n",
      "Image shape is: (276, 5, 360, 720)\n",
      "(65,)\n",
      "27\n",
      "Image shape is: (276, 5, 360, 720)\n",
      "(60,)\n",
      "28\n",
      "Image shape is: (276, 5, 360, 720)\n",
      "(56,)\n",
      "29\n",
      "Image shape is: (276, 5, 360, 720)\n",
      "(30,)\n",
      "30\n",
      "Image shape is: (276, 5, 360, 720)\n",
      "(37,)\n",
      "31\n",
      "Image shape is: (276, 5, 360, 720)\n",
      "(32,)\n",
      "32\n",
      "Image shape is: (276, 5, 360, 720)\n",
      "(36,)\n",
      "33\n",
      "Image shape is: (276, 5, 360, 720)\n",
      "(41,)\n",
      "34\n",
      "Image shape is: (276, 5, 360, 720)\n",
      "(43,)\n",
      "35\n",
      "Image shape is: (276, 5, 360, 720)\n",
      "(47,)\n",
      "36\n",
      "Image shape is: (276, 5, 360, 720)\n",
      "(66,)\n",
      "37\n",
      "Image shape is: (276, 5, 360, 720)\n",
      "(56,)\n",
      "38\n",
      "Image shape is: (276, 5, 360, 720)\n",
      "(64,)\n",
      "39\n",
      "Image shape is: (276, 5, 360, 720)\n",
      "(52,)\n",
      "40\n",
      "Image shape is: (276, 5, 360, 720)\n",
      "(52,)\n",
      "41\n",
      "Image shape is: (276, 5, 360, 720)\n",
      "(60,)\n",
      "42\n",
      "Image shape is: (276, 5, 360, 720)\n",
      "(54,)\n",
      "43\n",
      "Image shape is: (276, 5, 360, 720)\n",
      "(62,)\n",
      "44\n",
      "Image shape is: (276, 5, 360, 720)\n",
      "(46,)\n",
      "45\n",
      "Image shape is: (276, 5, 360, 720)\n",
      "(75,)\n",
      "46\n",
      "Image shape is: (276, 5, 360, 720)\n",
      "(54,)\n",
      "47\n",
      "Image shape is: (276, 5, 360, 720)\n",
      "(66,)\n",
      "48\n",
      "Image shape is: (276, 5, 360, 720)\n",
      "(99,)\n",
      "49\n",
      "Image shape is: (276, 5, 360, 720)\n",
      "(72,)\n",
      "50\n",
      "Image shape is: (276, 5, 360, 720)\n",
      "(73,)\n",
      "51\n",
      "Image shape is: (276, 5, 360, 720)\n",
      "(60,)\n",
      "52\n",
      "Image shape is: (276, 5, 360, 720)\n",
      "(86,)\n",
      "53\n",
      "Image shape is: (276, 5, 360, 720)\n",
      "(67,)\n",
      "54\n",
      "Image shape is: (276, 5, 360, 720)\n",
      "(79,)\n",
      "55\n",
      "Image shape is: (276, 5, 360, 720)\n",
      "(76,)\n",
      "56\n",
      "Image shape is: (276, 5, 360, 720)\n",
      "(71,)\n",
      "57\n",
      "Image shape is: (276, 5, 360, 720)\n",
      "(69,)\n",
      "58\n",
      "Image shape is: (276, 5, 360, 720)\n",
      "(83,)\n",
      "59\n",
      "Image shape is: (276, 5, 360, 720)\n",
      "(76,)\n",
      "60\n",
      "Image shape is: (276, 5, 360, 720)\n",
      "(100,)\n",
      "61\n",
      "Image shape is: (276, 5, 360, 720)\n",
      "(96,)\n",
      "62\n",
      "Image shape is: (276, 5, 360, 720)\n",
      "(88,)\n",
      "63\n",
      "Image shape is: (276, 5, 360, 720)\n",
      "(91,)\n",
      "64\n",
      "Image shape is: (276, 5, 360, 720)\n",
      "(86,)\n",
      "65\n",
      "Image shape is: (276, 5, 360, 720)\n",
      "(95,)\n",
      "66\n",
      "Image shape is: (276, 5, 360, 720)\n",
      "(73,)\n",
      "67\n",
      "Image shape is: (276, 5, 360, 720)\n",
      "(65,)\n",
      "68\n",
      "Image shape is: (276, 5, 360, 720)\n",
      "(63,)\n",
      "69\n",
      "Image shape is: (276, 5, 360, 720)\n",
      "(92,)\n",
      "70\n",
      "Image shape is: (276, 5, 360, 720)\n",
      "(66,)\n",
      "71\n",
      "Image shape is: (276, 5, 360, 720)\n",
      "(63,)\n",
      "72\n",
      "Image shape is: (276, 5, 360, 720)\n",
      "(86,)\n",
      "73\n",
      "Image shape is: (276, 5, 360, 720)\n",
      "(58,)\n",
      "74\n",
      "Image shape is: (276, 5, 360, 720)\n",
      "(99,)\n",
      "75\n",
      "Image shape is: (276, 5, 360, 720)\n",
      "(63,)\n",
      "76\n",
      "Image shape is: (276, 5, 360, 720)\n",
      "(64,)\n",
      "77\n",
      "Image shape is: (276, 5, 360, 720)\n",
      "(64,)\n",
      "78\n",
      "Image shape is: (276, 5, 360, 720)\n",
      "(75,)\n",
      "79\n",
      "Image shape is: (276, 5, 360, 720)\n",
      "(61,)\n",
      "80\n",
      "Image shape is: (276, 5, 360, 720)\n",
      "(55,)\n",
      "81\n",
      "Image shape is: (276, 5, 360, 720)\n",
      "(64,)\n",
      "82\n",
      "Image shape is: (276, 5, 360, 720)\n",
      "(62,)\n",
      "83\n",
      "Image shape is: (276, 5, 360, 720)\n",
      "(58,)\n",
      "84\n",
      "Image shape is: (276, 5, 360, 720)\n",
      "(70,)\n",
      "85\n",
      "Image shape is: (276, 5, 360, 720)\n",
      "(52,)\n",
      "86\n",
      "Image shape is: (276, 5, 360, 720)\n",
      "(42,)\n",
      "87\n",
      "Image shape is: (276, 5, 360, 720)\n",
      "(47,)\n",
      "88\n",
      "Image shape is: (276, 5, 360, 720)\n",
      "(60,)\n",
      "89\n",
      "Image shape is: (276, 5, 360, 720)\n",
      "(57,)\n",
      "90\n",
      "Image shape is: (276, 5, 360, 720)\n",
      "(37,)\n",
      "91\n",
      "Image shape is: (276, 5, 360, 720)\n",
      "(43,)\n",
      "92\n",
      "Image shape is: (276, 5, 360, 720)\n",
      "(55,)\n",
      "93\n",
      "Image shape is: (276, 5, 360, 720)\n",
      "(53,)\n",
      "94\n",
      "Image shape is: (276, 5, 360, 720)\n",
      "(56,)\n",
      "95\n",
      "Image shape is: (276, 5, 360, 720)\n",
      "(48,)\n",
      "96\n",
      "Image shape is: (276, 5, 360, 720)\n",
      "(75,)\n",
      "97\n",
      "Image shape is: (276, 5, 360, 720)\n",
      "(43,)\n",
      "98\n",
      "Image shape is: (276, 5, 360, 720)\n",
      "(62,)\n",
      "99\n",
      "Image shape is: (276, 5, 360, 720)\n",
      "(43,)\n",
      "100\n",
      "Image shape is: (276, 5, 360, 720)\n",
      "(69,)\n",
      "101\n",
      "Image shape is: (276, 5, 360, 720)\n",
      "(44,)\n",
      "102\n",
      "Image shape is: (276, 5, 360, 720)\n",
      "(44,)\n",
      "103\n",
      "Image shape is: (276, 5, 360, 720)\n",
      "(58,)\n",
      "104\n",
      "Image shape is: (276, 5, 360, 720)\n",
      "(57,)\n",
      "105\n",
      "Image shape is: (276, 5, 360, 720)\n",
      "(62,)\n",
      "106\n",
      "Image shape is: (276, 5, 360, 720)\n",
      "(52,)\n",
      "107\n",
      "Image shape is: (276, 5, 360, 720)\n",
      "(54,)\n",
      "108\n",
      "Image shape is: (276, 5, 360, 720)\n",
      "(71,)\n",
      "109\n",
      "Image shape is: (276, 5, 360, 720)\n",
      "(70,)\n",
      "110\n",
      "Image shape is: (276, 5, 360, 720)\n",
      "(74,)\n",
      "111\n",
      "Image shape is: (276, 5, 360, 720)\n",
      "(72,)\n",
      "112\n",
      "Image shape is: (276, 5, 360, 720)\n",
      "(88,)\n",
      "113\n",
      "Image shape is: (276, 5, 360, 720)\n",
      "(73,)\n",
      "114\n",
      "Image shape is: (276, 5, 360, 720)\n",
      "(69,)\n",
      "115\n",
      "Image shape is: (276, 5, 360, 720)\n",
      "(85,)\n",
      "116\n",
      "Image shape is: (276, 5, 360, 720)\n",
      "(85,)\n",
      "117\n",
      "Image shape is: (276, 5, 360, 720)\n",
      "(69,)\n",
      "118\n",
      "Image shape is: (276, 5, 360, 720)\n",
      "(71,)\n",
      "119\n",
      "Image shape is: (276, 5, 360, 720)\n",
      "(73,)\n",
      "120\n",
      "Image shape is: (276, 5, 360, 720)\n",
      "(106,)\n",
      "121\n",
      "Image shape is: (276, 5, 360, 720)\n",
      "(68,)\n",
      "122\n",
      "Image shape is: (276, 5, 360, 720)\n",
      "(66,)\n",
      "123\n",
      "Image shape is: (276, 5, 360, 720)\n",
      "(77,)\n",
      "124\n",
      "Image shape is: (276, 5, 360, 720)\n",
      "(91,)\n",
      "125\n",
      "Image shape is: (276, 5, 360, 720)\n",
      "(77,)\n",
      "126\n",
      "Image shape is: (276, 5, 360, 720)\n",
      "(104,)\n",
      "127\n",
      "Image shape is: (276, 5, 360, 720)\n",
      "(66,)\n",
      "128\n",
      "Image shape is: (276, 5, 360, 720)\n",
      "(61,)\n",
      "129\n",
      "Image shape is: (276, 5, 360, 720)\n",
      "(41,)\n",
      "130\n",
      "Image shape is: (276, 5, 360, 720)\n",
      "(47,)\n",
      "131\n",
      "Image shape is: (276, 5, 360, 720)\n",
      "(42,)\n",
      "132\n",
      "Image shape is: (276, 5, 360, 720)\n",
      "(75,)\n",
      "133\n",
      "Image shape is: (276, 5, 360, 720)\n",
      "(66,)\n",
      "134\n",
      "Image shape is: (276, 5, 360, 720)\n",
      "(78,)\n",
      "135\n",
      "Image shape is: (276, 5, 360, 720)\n",
      "(56,)\n",
      "136\n",
      "Image shape is: (276, 5, 360, 720)\n",
      "(89,)\n",
      "137\n",
      "Image shape is: (276, 5, 360, 720)\n",
      "(62,)\n",
      "138\n",
      "Image shape is: (276, 5, 360, 720)\n",
      "(93,)\n",
      "139\n",
      "Image shape is: (276, 5, 360, 720)\n",
      "(62,)\n",
      "140\n",
      "Image shape is: (276, 5, 360, 720)\n",
      "(63,)\n",
      "141\n",
      "Image shape is: (276, 5, 360, 720)\n",
      "(50,)\n",
      "142\n",
      "Image shape is: (276, 5, 360, 720)\n",
      "(64,)\n",
      "143\n",
      "Image shape is: (276, 5, 360, 720)\n",
      "(65,)\n",
      "144\n",
      "Image shape is: (276, 5, 360, 720)\n",
      "(87,)\n",
      "145\n",
      "Image shape is: (276, 5, 360, 720)\n",
      "(54,)\n",
      "146\n",
      "Image shape is: (276, 5, 360, 720)\n",
      "(51,)\n",
      "147\n",
      "Image shape is: (276, 5, 360, 720)\n",
      "(56,)\n",
      "148\n",
      "Image shape is: (276, 5, 360, 720)\n",
      "(66,)\n",
      "149\n",
      "Image shape is: (276, 5, 360, 720)\n",
      "(51,)\n",
      "150\n",
      "Image shape is: (276, 5, 360, 720)\n",
      "(41,)\n",
      "151\n",
      "Image shape is: (276, 5, 360, 720)\n",
      "(32,)\n",
      "152\n",
      "Image shape is: (276, 5, 360, 720)\n",
      "(51,)\n",
      "153\n",
      "Image shape is: (276, 5, 360, 720)\n",
      "(53,)\n",
      "154\n",
      "Image shape is: (276, 5, 360, 720)\n",
      "(40,)\n",
      "155\n",
      "Image shape is: (276, 5, 360, 720)\n",
      "(40,)\n",
      "156\n",
      "Image shape is: (276, 5, 360, 720)\n",
      "(71,)\n",
      "157\n",
      "Image shape is: (276, 5, 360, 720)\n",
      "(59,)\n",
      "158\n",
      "Image shape is: (276, 5, 360, 720)\n",
      "(67,)\n",
      "159\n",
      "Image shape is: (276, 5, 360, 720)\n",
      "(63,)\n",
      "160\n",
      "Image shape is: (276, 5, 360, 720)\n",
      "(69,)\n",
      "161\n",
      "Image shape is: (276, 5, 360, 720)\n",
      "(74,)\n",
      "162\n",
      "Image shape is: (276, 5, 360, 720)\n",
      "(67,)\n",
      "163\n",
      "Image shape is: (276, 5, 360, 720)\n",
      "(56,)\n",
      "164\n",
      "Image shape is: (276, 5, 360, 720)\n",
      "(68,)\n",
      "165\n",
      "Image shape is: (276, 5, 360, 720)\n",
      "(79,)\n",
      "166\n",
      "Image shape is: (276, 5, 360, 720)\n",
      "(60,)\n",
      "167\n",
      "Image shape is: (276, 5, 360, 720)\n",
      "(70,)\n",
      "168\n",
      "Image shape is: (276, 5, 360, 720)\n",
      "(71,)\n",
      "169\n",
      "Image shape is: (276, 5, 360, 720)\n",
      "(55,)\n",
      "170\n",
      "Image shape is: (276, 5, 360, 720)\n",
      "(69,)\n",
      "171\n",
      "Image shape is: (276, 5, 360, 720)\n",
      "(88,)\n",
      "172\n",
      "Image shape is: (276, 5, 360, 720)\n",
      "(57,)\n",
      "173\n",
      "Image shape is: (276, 5, 360, 720)\n",
      "(57,)\n",
      "174\n",
      "Image shape is: (276, 5, 360, 720)\n",
      "(46,)\n",
      "175\n",
      "Image shape is: (276, 5, 360, 720)\n",
      "(61,)\n",
      "176\n",
      "Image shape is: (276, 5, 360, 720)\n",
      "(45,)\n",
      "177\n",
      "Image shape is: (276, 5, 360, 720)\n",
      "(59,)\n",
      "178\n",
      "Image shape is: (276, 5, 360, 720)\n",
      "(58,)\n",
      "179\n",
      "Image shape is: (276, 5, 360, 720)\n",
      "(51,)\n",
      "180\n",
      "Image shape is: (276, 5, 360, 720)\n",
      "(73,)\n",
      "181\n",
      "Image shape is: (276, 5, 360, 720)\n",
      "(76,)\n",
      "182\n",
      "Image shape is: (276, 5, 360, 720)\n",
      "(84,)\n",
      "183\n",
      "Image shape is: (276, 5, 360, 720)\n",
      "(75,)\n",
      "184\n",
      "Image shape is: (276, 5, 360, 720)\n",
      "(74,)\n",
      "185\n",
      "Image shape is: (276, 5, 360, 720)\n",
      "(84,)\n",
      "186\n",
      "Image shape is: (276, 5, 360, 720)\n",
      "(54,)\n",
      "187\n",
      "Image shape is: (276, 5, 360, 720)\n",
      "(71,)\n",
      "188\n",
      "Image shape is: (276, 5, 360, 720)\n",
      "(60,)\n",
      "189\n",
      "Image shape is: (276, 5, 360, 720)\n",
      "(62,)\n",
      "190\n",
      "Image shape is: (276, 5, 360, 720)\n",
      "(69,)\n",
      "191\n",
      "Image shape is: (276, 5, 360, 720)\n",
      "(50,)\n",
      "192\n",
      "Image shape is: (276, 5, 360, 720)\n",
      "(70,)\n",
      "193\n",
      "Image shape is: (276, 5, 360, 720)\n",
      "(46,)\n",
      "194\n",
      "Image shape is: (276, 5, 360, 720)\n",
      "(60,)\n",
      "195\n",
      "Image shape is: (276, 5, 360, 720)\n",
      "(72,)\n",
      "196\n",
      "Image shape is: (276, 5, 360, 720)\n",
      "(53,)\n",
      "197\n",
      "Image shape is: (276, 5, 360, 720)\n",
      "(58,)\n",
      "198\n",
      "Image shape is: (276, 5, 360, 720)\n",
      "(51,)\n",
      "199\n",
      "Image shape is: (276, 5, 360, 720)\n",
      "(51,)\n",
      "200\n",
      "Image shape is: (276, 5, 360, 720)\n",
      "(53,)\n",
      "201\n",
      "Image shape is: (276, 5, 360, 720)\n",
      "(60,)\n",
      "202\n",
      "Image shape is: (276, 5, 360, 720)\n",
      "(50,)\n",
      "203\n",
      "Image shape is: (276, 5, 360, 720)\n",
      "(51,)\n",
      "204\n",
      "Image shape is: (276, 5, 360, 720)\n",
      "(70,)\n",
      "205\n",
      "Image shape is: (276, 5, 360, 720)\n",
      "(51,)\n",
      "206\n",
      "Image shape is: (276, 5, 360, 720)\n",
      "(58,)\n",
      "207\n",
      "Image shape is: (276, 5, 360, 720)\n",
      "(76,)\n",
      "208\n",
      "Image shape is: (276, 5, 360, 720)\n",
      "(82,)\n",
      "209\n",
      "Image shape is: (276, 5, 360, 720)\n",
      "(71,)\n",
      "210\n",
      "Image shape is: (276, 5, 360, 720)\n",
      "(71,)\n",
      "211\n",
      "Image shape is: (276, 5, 360, 720)\n",
      "(57,)\n",
      "212\n",
      "Image shape is: (276, 5, 360, 720)\n",
      "(53,)\n",
      "213\n",
      "Image shape is: (276, 5, 360, 720)\n",
      "(58,)\n",
      "214\n",
      "Image shape is: (276, 5, 360, 720)\n",
      "(64,)\n",
      "215\n",
      "Image shape is: (276, 5, 360, 720)\n",
      "(55,)\n",
      "216\n",
      "Image shape is: (276, 5, 360, 720)\n",
      "(82,)\n",
      "217\n",
      "Image shape is: (276, 5, 360, 720)\n",
      "(59,)\n",
      "218\n",
      "Image shape is: (276, 5, 360, 720)\n",
      "(70,)\n",
      "219\n",
      "Image shape is: (276, 5, 360, 720)\n",
      "(55,)\n",
      "220\n",
      "Image shape is: (276, 5, 360, 720)\n",
      "(69,)\n",
      "221\n",
      "Image shape is: (276, 5, 360, 720)\n",
      "(70,)\n",
      "222\n",
      "Image shape is: (276, 5, 360, 720)\n",
      "(64,)\n",
      "223\n",
      "Image shape is: (276, 5, 360, 720)\n",
      "(53,)\n",
      "224\n",
      "Image shape is: (276, 5, 360, 720)\n",
      "(74,)\n",
      "225\n",
      "Image shape is: (276, 5, 360, 720)\n",
      "(66,)\n",
      "226\n",
      "Image shape is: (276, 5, 360, 720)\n",
      "(53,)\n",
      "227\n",
      "Image shape is: (276, 5, 360, 720)\n",
      "(64,)\n",
      "228\n",
      "Image shape is: (276, 5, 360, 720)\n",
      "(74,)\n",
      "229\n",
      "Image shape is: (276, 5, 360, 720)\n",
      "(63,)\n",
      "230\n",
      "Image shape is: (276, 5, 360, 720)\n",
      "(85,)\n",
      "231\n",
      "Image shape is: (276, 5, 360, 720)\n",
      "(58,)\n",
      "232\n",
      "Image shape is: (276, 5, 360, 720)\n",
      "(80,)\n",
      "233\n",
      "Image shape is: (276, 5, 360, 720)\n",
      "(67,)\n",
      "234\n",
      "Image shape is: (276, 5, 360, 720)\n",
      "(45,)\n",
      "235\n",
      "Image shape is: (276, 5, 360, 720)\n",
      "(46,)\n",
      "236\n",
      "Image shape is: (276, 5, 360, 720)\n",
      "(45,)\n",
      "237\n",
      "Image shape is: (276, 5, 360, 720)\n",
      "(47,)\n",
      "238\n",
      "Image shape is: (276, 5, 360, 720)\n",
      "(29,)\n",
      "239\n",
      "Image shape is: (276, 5, 360, 720)\n",
      "(52,)\n",
      "240\n",
      "Image shape is: (276, 5, 360, 720)\n",
      "(86,)\n",
      "241\n",
      "Image shape is: (276, 5, 360, 720)\n",
      "(65,)\n",
      "242\n",
      "Image shape is: (276, 5, 360, 720)\n",
      "(83,)\n",
      "243\n",
      "Image shape is: (276, 5, 360, 720)\n",
      "(64,)\n",
      "244\n",
      "Image shape is: (276, 5, 360, 720)\n",
      "(75,)\n",
      "245\n",
      "Image shape is: (276, 5, 360, 720)\n",
      "(56,)\n",
      "246\n",
      "Image shape is: (276, 5, 360, 720)\n",
      "(84,)\n",
      "247\n",
      "Image shape is: (276, 5, 360, 720)\n",
      "(65,)\n",
      "248\n",
      "Image shape is: (276, 5, 360, 720)\n",
      "(69,)\n",
      "249\n",
      "Image shape is: (276, 5, 360, 720)\n",
      "(72,)\n",
      "250\n",
      "Image shape is: (276, 5, 360, 720)\n",
      "(44,)\n",
      "251\n",
      "Image shape is: (276, 5, 360, 720)\n",
      "(43,)\n",
      "252\n",
      "Image shape is: (276, 5, 360, 720)\n",
      "(58,)\n",
      "253\n",
      "Image shape is: (276, 5, 360, 720)\n",
      "(48,)\n",
      "254\n",
      "Image shape is: (276, 5, 360, 720)\n",
      "(52,)\n",
      "255\n",
      "Image shape is: (276, 5, 360, 720)\n",
      "(63,)\n",
      "256\n",
      "Image shape is: (276, 5, 360, 720)\n",
      "(53,)\n",
      "257\n",
      "Image shape is: (276, 5, 360, 720)\n",
      "(56,)\n",
      "258\n",
      "Image shape is: (276, 5, 360, 720)\n",
      "(55,)\n",
      "259\n",
      "Image shape is: (276, 5, 360, 720)\n",
      "(52,)\n",
      "260\n",
      "Image shape is: (276, 5, 360, 720)\n",
      "(48,)\n",
      "261\n",
      "Image shape is: (276, 5, 360, 720)\n",
      "(43,)\n",
      "262\n",
      "Image shape is: (276, 5, 360, 720)\n",
      "(57,)\n",
      "263\n",
      "Image shape is: (276, 5, 360, 720)\n",
      "(44,)\n",
      "264\n",
      "Image shape is: (276, 5, 360, 720)\n",
      "(72,)\n",
      "265\n",
      "Image shape is: (276, 5, 360, 720)\n",
      "(82,)\n",
      "266\n",
      "Image shape is: (276, 5, 360, 720)\n",
      "(100,)\n",
      "267\n",
      "Image shape is: (276, 5, 360, 720)\n",
      "(103,)\n",
      "268\n",
      "Image shape is: (276, 5, 360, 720)\n",
      "(93,)\n",
      "269\n",
      "Image shape is: (276, 5, 360, 720)\n",
      "(102,)\n",
      "270\n",
      "Image shape is: (276, 5, 360, 720)\n",
      "(64,)\n",
      "271\n",
      "Image shape is: (276, 5, 360, 720)\n",
      "(83,)\n",
      "272\n",
      "Image shape is: (276, 5, 360, 720)\n",
      "(76,)\n",
      "273\n",
      "Image shape is: (276, 5, 360, 720)\n",
      "(74,)\n",
      "274\n",
      "Image shape is: (276, 5, 360, 720)\n",
      "(76,)\n",
      "275\n",
      "Image shape is: (276, 5, 360, 720)\n",
      "(83,)\n",
      "11\n",
      "Image shape is: (24, 5, 360, 720)\n",
      "(89,)\n",
      "12\n",
      "Image shape is: (24, 5, 360, 720)\n",
      "(109,)\n",
      "13\n",
      "Image shape is: (24, 5, 360, 720)\n",
      "(92,)\n",
      "14\n",
      "Image shape is: (24, 5, 360, 720)\n",
      "(82,)\n",
      "15\n",
      "Image shape is: (24, 5, 360, 720)\n",
      "(89,)\n",
      "16\n",
      "Image shape is: (24, 5, 360, 720)\n",
      "(99,)\n",
      "17\n",
      "Image shape is: (24, 5, 360, 720)\n",
      "(101,)\n",
      "18\n",
      "Image shape is: (24, 5, 360, 720)\n",
      "(98,)\n",
      "19\n",
      "Image shape is: (24, 5, 360, 720)\n",
      "(103,)\n",
      "20\n",
      "Image shape is: (24, 5, 360, 720)\n",
      "(98,)\n",
      "21\n",
      "Image shape is: (24, 5, 360, 720)\n",
      "(106,)\n",
      "22\n",
      "Image shape is: (24, 5, 360, 720)\n",
      "(102,)\n",
      "23\n",
      "Image shape is: (24, 5, 360, 720)\n",
      "(110,)\n"
     ]
    }
   ],
   "source": [
    "# a, b = full_dataset_numpy(test)\n",
    "full_dataset_h5py(train_set, \"new_train_set\",key_list_prio, key_list_ucdp)\n",
    "# why does this only work with array > 105???????????\n",
    "full_dataset_h5py(test_set, \"new_test_set\",key_list_prio, key_list_ucdp)\n",
    "\n"
   ]
  },
  {
   "cell_type": "code",
   "execution_count": 59,
   "metadata": {
    "colab": {},
    "colab_type": "code",
    "id": "Fx6RkdVjnZt8"
   },
   "outputs": [
    {
     "data": {
      "text/plain": [
       "'/rdsgpfs/general/user/gcl15/home'"
      ]
     },
     "execution_count": 59,
     "metadata": {},
     "output_type": "execute_result"
    }
   ],
   "source": [
    "\n",
    "%pwd\n",
    "# %cd data\n",
    "\n",
    "# \n"
   ]
  },
  {
   "cell_type": "code",
   "execution_count": 60,
   "metadata": {},
   "outputs": [],
   "source": [
    "f = h5py.File(\"new_train_set.hdf5\", 'r')\n"
   ]
  },
  {
   "cell_type": "code",
   "execution_count": 61,
   "metadata": {
    "colab": {
     "base_uri": "https://localhost:8080/",
     "height": 35
    },
    "colab_type": "code",
    "id": "SHMz3mykg5sg",
    "outputId": "c38e1fcc-4899-4241-fee4-d7fcf6abd119"
   },
   "outputs": [
    {
     "data": {
      "text/plain": [
       "(56374, 10, 5, 16, 16)"
      ]
     },
     "execution_count": 61,
     "metadata": {},
     "output_type": "execute_result"
    }
   ],
   "source": [
    "f['predictor'].shape"
   ]
  },
  {
   "cell_type": "code",
   "execution_count": null,
   "metadata": {},
   "outputs": [],
   "source": []
  },
  {
   "cell_type": "code",
   "execution_count": 62,
   "metadata": {
    "colab": {},
    "colab_type": "code",
    "id": "yK5SkYh3Ge_e"
   },
   "outputs": [],
   "source": [
    "k = f['predictor'][333]\n",
    "a = f['truth'][333]\n"
   ]
  },
  {
   "cell_type": "code",
   "execution_count": 63,
   "metadata": {},
   "outputs": [
    {
     "data": {
      "text/plain": [
       "array([0., 1.])"
      ]
     },
     "execution_count": 63,
     "metadata": {},
     "output_type": "execute_result"
    }
   ],
   "source": [
    "np.unique(k[:,0])"
   ]
  },
  {
   "cell_type": "code",
   "execution_count": 64,
   "metadata": {
    "colab": {},
    "colab_type": "code",
    "id": "pYYeFBb8IpB7"
   },
   "outputs": [
    {
     "data": {
      "text/plain": [
       "(16, 16)"
      ]
     },
     "execution_count": 64,
     "metadata": {},
     "output_type": "execute_result"
    }
   ],
   "source": [
    "a.shape"
   ]
  },
  {
   "cell_type": "code",
   "execution_count": 65,
   "metadata": {},
   "outputs": [
    {
     "data": {
      "text/plain": [
       "<matplotlib.image.AxesImage at 0x2b6b470c09b0>"
      ]
     },
     "execution_count": 65,
     "metadata": {},
     "output_type": "execute_result"
    },
    {
     "data": {
      "image/png": "[encoded data removed]",
      "text/plain": [
       "<Figure size 432x288 with 1 Axes>"
      ]
     },
     "metadata": {
      "needs_background": "light"
     },
     "output_type": "display_data"
    },
    {
     "data": {
      "image/png": "[encoded data removed]",
      "text/plain": [
       "<Figure size 432x288 with 1 Axes>"
      ]
     },
     "metadata": {
      "needs_background": "light"
     },
     "output_type": "display_data"
    },
    {
     "data": {
      "image/png": "[encoded data removed]",
      "text/plain": [
       "<Figure size 432x288 with 1 Axes>"
      ]
     },
     "metadata": {
      "needs_background": "light"
     },
     "output_type": "display_data"
    },
    {
     "data": {
      "image/png": "[encoded data removed]",
      "text/plain": [
       "<Figure size 432x288 with 1 Axes>"
      ]
     },
     "metadata": {
      "needs_background": "light"
     },
     "output_type": "display_data"
    },
    {
     "data": {
      "image/png": "[encoded data removed]",
      "text/plain": [
       "<Figure size 432x288 with 1 Axes>"
      ]
     },
     "metadata": {
      "needs_background": "light"
     },
     "output_type": "display_data"
    },
    {
     "data": {
      "image/png": "[encoded data removed]",
      "text/plain": [
       "<Figure size 432x288 with 1 Axes>"
      ]
     },
     "metadata": {
      "needs_background": "light"
     },
     "output_type": "display_data"
    },
    {
     "data": {
      "image/png": "[encoded data removed]",
      "text/plain": [
       "<Figure size 432x288 with 1 Axes>"
      ]
     },
     "metadata": {
      "needs_background": "light"
     },
     "output_type": "display_data"
    },
    {
     "data": {
      "image/png": "[encoded data removed]",
      "text/plain": [
       "<Figure size 432x288 with 1 Axes>"
      ]
     },
     "metadata": {
      "needs_background": "light"
     },
     "output_type": "display_data"
    },
    {
     "data": {
      "image/png": "[encoded data removed]",
      "text/plain": [
       "<Figure size 432x288 with 1 Axes>"
      ]
     },
     "metadata": {
      "needs_background": "light"
     },
     "output_type": "display_data"
    },
    {
     "data": {
      "image/png": "[encoded data removed]",
      "text/plain": [
       "<Figure size 432x288 with 1 Axes>"
      ]
     },
     "metadata": {
      "needs_background": "light"
     },
     "output_type": "display_data"
    },
    {
     "data": {
      "image/png": "[encoded data removed]",
      "text/plain": [
       "<Figure size 432x288 with 1 Axes>"
      ]
     },
     "metadata": {
      "needs_background": "light"
     },
     "output_type": "display_data"
    }
   ],
   "source": [
    "for i in range(10):\n",
    "    plt.figure()\n",
    "    plt.imshow(k[i,0])\n",
    "    \n",
    "plt.figure()\n",
    "plt.imshow(a)"
   ]
  },
  {
   "cell_type": "code",
   "execution_count": null,
   "metadata": {},
   "outputs": [],
   "source": []
  },
  {
   "cell_type": "code",
   "execution_count": 66,
   "metadata": {
    "colab": {},
    "colab_type": "code",
    "id": "OUrJW2vBHEKr"
   },
   "outputs": [],
   "source": [
    "\n",
    "val  = k[0:10000,:,0]"
   ]
  },
  {
   "cell_type": "code",
   "execution_count": 67,
   "metadata": {
    "colab": {},
    "colab_type": "code",
    "id": "gxOSzYQsITxw"
   },
   "outputs": [],
   "source": [
    "# # print(np.average(val))\n",
    "# # print(np.average(k[10000:20000,:,0]))\n",
    "\n",
    "# for i in range(7):\n",
    "#     print(np.std(k[i * 10000:(i+1)*10000, :, 0]))\n",
    "   \n",
    "\n",
    "# print(np.std(k[80000:84485, :, 0]))\n",
    "\n"
   ]
  },
  {
   "cell_type": "code",
   "execution_count": null,
   "metadata": {
    "colab": {},
    "colab_type": "code",
    "id": "6UmwMeyrOl0G"
   },
   "outputs": [],
   "source": []
  },
  {
   "cell_type": "code",
   "execution_count": null,
   "metadata": {
    "colab": {},
    "colab_type": "code",
    "id": "yHgTmJqOJMF8"
   },
   "outputs": [],
   "source": []
  },
  {
   "cell_type": "code",
   "execution_count": 68,
   "metadata": {
    "colab": {},
    "colab_type": "code",
    "id": "wuCvXTmEHFj_"
   },
   "outputs": [
    {
     "data": {
      "text/plain": [
       "(56374, 10, 5, 16, 16)"
      ]
     },
     "execution_count": 68,
     "metadata": {},
     "output_type": "execute_result"
    }
   ],
   "source": [
    "f['predictor'].shape\n"
   ]
  },
  {
   "cell_type": "code",
   "execution_count": 69,
   "metadata": {
    "colab": {},
    "colab_type": "code",
    "id": "Tyb9RRXjHlpw"
   },
   "outputs": [
    {
     "data": {
      "text/plain": [
       "(56374, 16, 16)"
      ]
     },
     "execution_count": 69,
     "metadata": {},
     "output_type": "execute_result"
    }
   ],
   "source": [
    "f['truth'].shape\n"
   ]
  },
  {
   "cell_type": "code",
   "execution_count": 70,
   "metadata": {
    "colab": {},
    "colab_type": "code",
    "id": "t__yhKfhtf0P"
   },
   "outputs": [
    {
     "data": {
      "text/plain": [
       "(56374, 10, 5, 16, 16)"
      ]
     },
     "execution_count": 70,
     "metadata": {},
     "output_type": "execute_result"
    }
   ],
   "source": [
    "f[\"predictor\"].shape\n",
    "\n"
   ]
  },
  {
   "cell_type": "code",
   "execution_count": 71,
   "metadata": {
    "colab": {},
    "colab_type": "code",
    "id": "uaAPLJ7AbjFk"
   },
   "outputs": [
    {
     "data": {
      "text/plain": [
       "array([[   4854.901,   28936.56 ,   39476.47 ,   29670.68 ,   28221.55 ,\n",
       "         113582.6  ,  179717.3  ,  869599.2  , 1146128.   ,  487956.8  ,\n",
       "         178117.5  ,   48276.45 ,   86047.3  ,  108677.   ,   94194.12 ,\n",
       "          85875.66 ],\n",
       "       [ 130214.5  ,   25164.78 ,   51165.18 ,   35078.25 ,   36182.32 ,\n",
       "          78485.12 ,  740690.6  ,  716219.8  , 1175862.   ,  748476.2  ,\n",
       "         117469.1  ,   71864.61 ,   72115.55 ,  138806.3  ,  137003.7  ,\n",
       "         144086.5  ],\n",
       "       [   3391.694,    3464.211,    9528.922,   24406.83 ,   25457.33 ,\n",
       "          69582.   ,  310569.9  ,  607330.1  , 1089037.   ,  686365.6  ,\n",
       "         332210.6  ,   73809.95 ,   44595.02 ,   15472.07 ,    2889.45 ,\n",
       "          86453.79 ],\n",
       "       [   7539.875,   12442.53 ,   13091.45 ,   15207.67 ,   15660.11 ,\n",
       "          40306.04 ,  324088.2  ,  776110.1  , 1369065.   , 1257820.   ,\n",
       "         153247.9  ,  112594.1  ,   96063.11 ,       0.   ,       0.   ,\n",
       "          44266.5  ],\n",
       "       [  17297.56 ,   16550.55 ,   12567.18 ,   10946.74 ,   19349.36 ,\n",
       "          25739.74 ,  348765.   ,  183088.4  ,  625580.3  ,  520049.9  ,\n",
       "         109580.2  ,  128025.8  ,   96877.09 ,       0.   ,       0.   ,\n",
       "              0.   ],\n",
       "       [   8278.308,   11368.17 ,   15984.24 ,    7050.368,    9693.868,\n",
       "          16055.59 ,   46452.42 ,  458814.3  ,  426570.9  ,  670391.1  ,\n",
       "         413479.6  ,  301451.3  ,  180904.5  ,       0.   ,       0.   ,\n",
       "              0.   ],\n",
       "       [  10466.33 ,    7279.527,    9925.237,    3223.159,    5859.292,\n",
       "          21691.38 ,   64545.86 ,  193975.3  ,  337899.9  ,  341665.4  ,\n",
       "         240212.6  ,  293139.1  ,  577512.6  ,   14969.82 ,       0.   ,\n",
       "              0.   ],\n",
       "       [  12211.76 ,    4355.389,    2056.315,    5353.863,    4613.338,\n",
       "          50126.96 ,   76929.49 ,  492280.4  ,  185249.6  ,  382020.2  ,\n",
       "         186548.   ,  217451.5  ,  343417.6  ,  486033.   , 1264061.   ,\n",
       "         297631.3  ],\n",
       "       [   5032.131,    6203.397,    4580.267,    7924.939,   10064.07 ,\n",
       "          28793.7  ,   21599.54 ,  132112.9  ,  173034.6  ,  274019.1  ,\n",
       "         220497.   ,  141200.8  ,  185402.8  ,  205862.1  ,  525048.5  ,\n",
       "         607408.4  ],\n",
       "       [   6809.857,    3537.591,    3219.561,   11640.98 ,   13227.52 ,\n",
       "           7008.478,    8888.581,   16467.29 ,   91244.48 ,  251634.4  ,\n",
       "          84479.17 ,  265333.6  ,  121702.6  ,  128808.8  ,  134456.   ,\n",
       "         211580.7  ],\n",
       "       [  14868.12 ,   13427.91 ,    5187.173,   21583.47 ,   30943.66 ,\n",
       "          13770.98 ,    4924.104,    8139.623,   34525.73 ,  209530.5  ,\n",
       "         281132.3  ,  156061.7  ,  109918.2  ,  139450.5  ,  131375.4  ,\n",
       "         198881.4  ],\n",
       "       [  11274.08 ,    8524.721,    2468.2  ,   22665.86 ,   96358.6  ,\n",
       "          91727.13 ,   14469.12 ,    6041.092,   28962.29 ,   98096.55 ,\n",
       "         345988.3  ,  293305.5  ,   47083.04 ,  113721.   ,  347442.3  ,\n",
       "         203875.8  ],\n",
       "       [  18538.41 ,   22017.79 ,   12073.3  ,   32114.68 ,  161975.5  ,\n",
       "          43802.04 ,   28226.89 ,   24282.34 ,   27732.64 ,  106687.5  ,\n",
       "         296996.2  ,  114694.   ,   36579.47 ,  174949.   ,  110244.   ,\n",
       "         116792.4  ],\n",
       "       [  42542.77 ,   25781.52 ,   31373.27 ,   20266.61 ,   31132.41 ,\n",
       "          15653.83 ,   11929.47 ,   25593.18 ,   57288.73 ,   48564.78 ,\n",
       "         408149.5  ,  198463.   ,   79279.13 ,   79218.52 ,   64807.96 ,\n",
       "          87738.77 ],\n",
       "       [  18912.88 ,   21950.81 ,   33552.43 ,   15422.32 ,   36346.88 ,\n",
       "          16977.21 ,   27195.91 ,   12028.67 ,   47145.39 ,   50946.41 ,\n",
       "         116277.1  ,  135246.2  ,  168654.3  ,   50414.24 ,   31269.96 ,\n",
       "          58442.95 ],\n",
       "       [   3851.669,    4480.951,    5487.722,    9844.497,   13063.19 ,\n",
       "          14516.86 ,   11702.77 ,   11755.16 ,   24806.51 ,  117036.3  ,\n",
       "         241686.4  ,   77020.93 ,   35082.61 ,   46450.11 ,   38888.73 ,\n",
       "          46614.7  ]])"
      ]
     },
     "execution_count": 71,
     "metadata": {},
     "output_type": "execute_result"
    }
   ],
   "source": [
    "f[\"predictor\"][21000][0][2]"
   ]
  },
  {
   "cell_type": "code",
   "execution_count": 72,
   "metadata": {
    "colab": {},
    "colab_type": "code",
    "id": "Iu6Z80fLtuN6"
   },
   "outputs": [
    {
     "data": {
      "image/png": "[encoded data removed]",
      "text/plain": [
       "<Figure size 432x288 with 1 Axes>"
      ]
     },
     "metadata": {
      "needs_background": "light"
     },
     "output_type": "display_data"
    },
    {
     "data": {
      "image/png": "[encoded data removed]",
      "text/plain": [
       "<Figure size 432x288 with 1 Axes>"
      ]
     },
     "metadata": {
      "needs_background": "light"
     },
     "output_type": "display_data"
    },
    {
     "data": {
      "image/png": "[encoded data removed]",
      "text/plain": [
       "<Figure size 432x288 with 1 Axes>"
      ]
     },
     "metadata": {
      "needs_background": "light"
     },
     "output_type": "display_data"
    },
    {
     "data": {
      "image/png": "[encoded data removed]",
      "text/plain": [
       "<Figure size 432x288 with 1 Axes>"
      ]
     },
     "metadata": {
      "needs_background": "light"
     },
     "output_type": "display_data"
    },
    {
     "data": {
      "image/png": "[encoded data removed]",
      "text/plain": [
       "<Figure size 432x288 with 1 Axes>"
      ]
     },
     "metadata": {
      "needs_background": "light"
     },
     "output_type": "display_data"
    },
    {
     "data": {
      "image/png": "[encoded data removed]",
      "text/plain": [
       "<Figure size 432x288 with 1 Axes>"
      ]
     },
     "metadata": {
      "needs_background": "light"
     },
     "output_type": "display_data"
    },
    {
     "data": {
      "image/png": "[encoded data removed]",
      "text/plain": [
       "<Figure size 432x288 with 1 Axes>"
      ]
     },
     "metadata": {
      "needs_background": "light"
     },
     "output_type": "display_data"
    },
    {
     "data": {
      "image/png": "[encoded data removed]",
      "text/plain": [
       "<Figure size 432x288 with 1 Axes>"
      ]
     },
     "metadata": {
      "needs_background": "light"
     },
     "output_type": "display_data"
    },
    {
     "data": {
      "image/png": "[encoded data removed]",
      "text/plain": [
       "<Figure size 432x288 with 1 Axes>"
      ]
     },
     "metadata": {
      "needs_background": "light"
     },
     "output_type": "display_data"
    },
    {
     "data": {
      "image/png": "[encoded data removed]",
      "text/plain": [
       "<Figure size 432x288 with 1 Axes>"
      ]
     },
     "metadata": {
      "needs_background": "light"
     },
     "output_type": "display_data"
    }
   ],
   "source": [
    "f[\"predictor\"].shape\n",
    "\n",
    "for i in range(10):\n",
    "    plt.figure()\n",
    "    plt.imshow(f[\"predictor\"][21000][i][0])\n",
    "    "
   ]
  },
  {
   "cell_type": "code",
   "execution_count": 73,
   "metadata": {
    "colab": {},
    "colab_type": "code",
    "id": "46NHJR9i2xHn"
   },
   "outputs": [
    {
     "name": "stdout",
     "output_type": "stream",
     "text": [
      "done\n"
     ]
    }
   ],
   "source": [
    "f[\"predictor\"].shape\n",
    "k = 0\n",
    "for i in range(248580):\n",
    "    k +=1\n",
    "print(\"done\")\n"
   ]
  },
  {
   "cell_type": "code",
   "execution_count": 74,
   "metadata": {
    "colab": {},
    "colab_type": "code",
    "id": "gW4M0YkrDblm"
   },
   "outputs": [
    {
     "data": {
      "text/plain": [
       "0"
      ]
     },
     "execution_count": 74,
     "metadata": {},
     "output_type": "execute_result"
    }
   ],
   "source": [
    "# len(np.where(f[\"predictor\"][100000][:,0] > 0)[0])\n",
    "# f[\"predictor\"][100000][:,0]\n",
    "# plt.imshow(f[\"predictor\"][100000][:,0][0])\n",
    "len([])"
   ]
  },
  {
   "cell_type": "code",
   "execution_count": 75,
   "metadata": {
    "colab": {
     "base_uri": "https://localhost:8080/",
     "height": 936
    },
    "colab_type": "code",
    "id": "8En8z9VL3uKA",
    "outputId": "8a9a71d6-1731-4a63-9404-ea2dd911977e"
   },
   "outputs": [
    {
     "name": "stdout",
     "output_type": "stream",
     "text": [
      "0\n",
      "1000\n",
      "2000\n",
      "3000\n",
      "4000\n",
      "5000\n",
      "6000\n",
      "7000\n",
      "8000\n",
      "9000\n",
      "10000\n",
      "11000\n",
      "12000\n",
      "13000\n",
      "14000\n",
      "15000\n",
      "16000\n",
      "17000\n",
      "18000\n",
      "19000\n",
      "20000\n",
      "21000\n",
      "22000\n",
      "23000\n",
      "24000\n",
      "25000\n",
      "26000\n",
      "27000\n",
      "28000\n",
      "29000\n",
      "30000\n",
      "31000\n",
      "32000\n",
      "33000\n",
      "34000\n",
      "35000\n",
      "36000\n",
      "37000\n",
      "38000\n",
      "39000\n",
      "40000\n",
      "41000\n",
      "42000\n",
      "43000\n",
      "44000\n",
      "45000\n",
      "46000\n",
      "47000\n",
      "48000\n",
      "49000\n",
      "50000\n",
      "51000\n",
      "52000\n",
      "53000\n",
      "54000\n",
      "55000\n",
      "56000\n"
     ]
    }
   ],
   "source": [
    "\n",
    "def data_set_analysis(dataset):\n",
    "    dat = np.zeros(len(dataset[\"predictor\"]))\n",
    "    for i in range(len(dataset[\"predictor\"])):\n",
    "        dat[i] = len(np.where(f[\"predictor\"][i][:,0] > 0)[0])\n",
    "        if (i % 1000) == 0:\n",
    "            print(i)\n",
    "    return dat\n",
    "\n",
    "dats = data_set_analysis(f)\n",
    "np.save(\"distribution_min_25\", dats)"
   ]
  },
  {
   "cell_type": "code",
   "execution_count": 76,
   "metadata": {
    "colab": {},
    "colab_type": "code",
    "id": "ELhdQd4BCfjy"
   },
   "outputs": [],
   "source": [
    "# np.save(\"dats_saved\", dats)"
   ]
  },
  {
   "cell_type": "code",
   "execution_count": 77,
   "metadata": {
    "colab": {},
    "colab_type": "code",
    "id": "cFlE86e8Co5m"
   },
   "outputs": [],
   "source": [
    "# np.unique(dats)"
   ]
  },
  {
   "cell_type": "code",
   "execution_count": 78,
   "metadata": {
    "colab": {
     "base_uri": "https://localhost:8080/",
     "height": 269
    },
    "colab_type": "code",
    "id": "JtGK9LexQXXv",
    "outputId": "861e36af-395c-4d33-e154-91f23ed85c0b"
   },
   "outputs": [],
   "source": [
    "# plot = sns.distplot(dats)"
   ]
  },
  {
   "cell_type": "code",
   "execution_count": 79,
   "metadata": {
    "colab": {},
    "colab_type": "code",
    "id": "vcImFZYhQ18D"
   },
   "outputs": [],
   "source": [
    "# figure = plot.get_figure()"
   ]
  },
  {
   "cell_type": "code",
   "execution_count": 80,
   "metadata": {
    "colab": {},
    "colab_type": "code",
    "id": "EtVXvcc7RZQB"
   },
   "outputs": [],
   "source": [
    "# figure.savefig(\"min_events_25.pdf\")"
   ]
  },
  {
   "cell_type": "code",
   "execution_count": 81,
   "metadata": {
    "colab": {},
    "colab_type": "code",
    "id": "gi7dl5t-3nYe"
   },
   "outputs": [
    {
     "data": {
      "text/plain": [
       "<matplotlib.image.AxesImage at 0x2b6b470cdda0>"
      ]
     },
     "execution_count": 81,
     "metadata": {},
     "output_type": "execute_result"
    },
    {
     "data": {
      "image/png": "[encoded data removed]",
      "text/plain": [
       "<Figure size 432x288 with 1 Axes>"
      ]
     },
     "metadata": {
      "needs_background": "light"
     },
     "output_type": "display_data"
    }
   ],
   "source": [
    "f[\"predictor\"][0][:,0][0].shape\n",
    "plt.imshow(f[\"predictor\"][1000][:,1][0])"
   ]
  },
  {
   "cell_type": "code",
   "execution_count": 82,
   "metadata": {
    "colab": {},
    "colab_type": "code",
    "id": "Z0FC6D9chM72"
   },
   "outputs": [],
   "source": [
    "# f.close()"
   ]
  },
  {
   "cell_type": "code",
   "execution_count": 83,
   "metadata": {
    "colab": {},
    "colab_type": "code",
    "id": "QCiK2FF9hOP_"
   },
   "outputs": [
    {
     "data": {
      "text/plain": [
       "<HDF5 file \"new_train_set.hdf5\" (mode r)>"
      ]
     },
     "execution_count": 83,
     "metadata": {},
     "output_type": "execute_result"
    }
   ],
   "source": [
    "f\n"
   ]
  },
  {
   "cell_type": "markdown",
   "metadata": {
    "colab_type": "text",
    "id": "KW6581pRhHoR"
   },
   "source": [
    "# AVERAGING FUNCTION"
   ]
  },
  {
   "cell_type": "code",
   "execution_count": 84,
   "metadata": {
    "colab": {},
    "colab_type": "code",
    "id": "zGCwGx7XhG4b"
   },
   "outputs": [],
   "source": [
    "def find_avg_lazy_load(data):\n",
    "    # file name is name of hdf5 file\n",
    "#     data = h5py.File(filename, 'r')\n",
    "    predictor = data[\"predictor\"]\n",
    "    channel_num = predictor.shape[2]\n",
    "    avg = np.zeros(channel_num)\n",
    "    std = np.zeros_like(avg)\n",
    "    for i in range(channel_num):\n",
    "        # batching as cant fit into ram\n",
    "        \n",
    "        batch_avg = 0\n",
    "        batch_std = 0\n",
    "        for j in range(5):\n",
    "            batch_avg += np.average(predictor[j * 10000: (j+1)*10000,:,i])\n",
    "            print(batch_avg)\n",
    "            batch_std += np.std(predictor[j * 10000: (j+1)*10000,:,i])\n",
    "            \n",
    "        batch_avg += np.average(predictor[50000: 52109,:,i])\n",
    "        batch_std += np.std(predictor[50000: 52109,:,i])\n",
    "        \n",
    "        batch_avg /= 6\n",
    "        batch_std /= 6\n",
    "        \n",
    "        avg[i] = batch_avg\n",
    "        std[i] = batch_std\n",
    "        \n",
    "        \n",
    "    return avg, std\n"
   ]
  },
  {
   "cell_type": "code",
   "execution_count": 85,
   "metadata": {},
   "outputs": [
    {
     "data": {
      "text/plain": [
       "(56374, 10, 5, 16, 16)"
      ]
     },
     "execution_count": 85,
     "metadata": {},
     "output_type": "execute_result"
    }
   ],
   "source": [
    "f['predictor'].shape\n"
   ]
  },
  {
   "cell_type": "code",
   "execution_count": 86,
   "metadata": {
    "colab": {
     "base_uri": "https://localhost:8080/",
     "height": 451
    },
    "colab_type": "code",
    "id": "b6GYQRt4jJE3",
    "outputId": "7646297e-e5fb-41ac-b8db-6dc8699ed339"
   },
   "outputs": [],
   "source": [
    "\n",
    "\n",
    "# avg, std = find_avg_lazy_load(f)"
   ]
  },
  {
   "cell_type": "code",
   "execution_count": 87,
   "metadata": {
    "colab": {},
    "colab_type": "code",
    "id": "c_SKKLKEXDfd"
   },
   "outputs": [],
   "source": [
    "# np.save(\"new_avg\", avg)"
   ]
  },
  {
   "cell_type": "code",
   "execution_count": 88,
   "metadata": {
    "colab": {},
    "colab_type": "code",
    "id": "RxCCUHRxXJJW"
   },
   "outputs": [],
   "source": [
    "# np.save(\"new_std\", std)"
   ]
  },
  {
   "cell_type": "code",
   "execution_count": 89,
   "metadata": {
    "colab": {},
    "colab_type": "code",
    "id": "QzU_ixs4XMcI"
   },
   "outputs": [
    {
     "data": {
      "text/plain": [
       "(56374, 10, 5, 16, 16)"
      ]
     },
     "execution_count": 89,
     "metadata": {},
     "output_type": "execute_result"
    }
   ],
   "source": [
    "f['predictor'].shape"
   ]
  },
  {
   "cell_type": "code",
   "execution_count": 91,
   "metadata": {},
   "outputs": [],
   "source": [
    "f.close()"
   ]
  },
  {
   "cell_type": "code",
   "execution_count": 92,
   "metadata": {},
   "outputs": [
    {
     "data": {
      "text/plain": [
       "'/rdsgpfs/general/user/gcl15/home'"
      ]
     },
     "execution_count": 92,
     "metadata": {},
     "output_type": "execute_result"
    }
   ],
   "source": [
    "%pwd"
   ]
  },
  {
   "cell_type": "code",
   "execution_count": 93,
   "metadata": {},
   "outputs": [],
   "source": [
    "f.close()\n"
   ]
  },
  {
   "cell_type": "code",
   "execution_count": 90,
   "metadata": {
    "colab": {},
    "colab_type": "code",
    "id": "7OVBI8BmjRhw"
   },
   "outputs": [],
   "source": [
    "# avg, std = find_avg_lazy_load(\"data_prio_run_test4.hdf5\")"
   ]
  }
 ],
 "metadata": {
  "colab": {
   "collapsed_sections": [],
   "include_colab_link": true,
   "name": "dataset_construction.ipynb",
   "provenance": [],
   "version": "0.3.2"
  },
  "kernelspec": {
   "display_name": "Python 3",
   "language": "python",
   "name": "python3"
  },
  "language_info": {
   "codemirror_mode": {
    "name": "ipython",
    "version": 3
   },
   "file_extension": ".py",
   "mimetype": "text/x-python",
   "name": "python",
   "nbconvert_exporter": "python",
   "pygments_lexer": "ipython3",
   "version": "3.6.8"
  }
 },
 "nbformat": 4,
 "nbformat_minor": 2
}
