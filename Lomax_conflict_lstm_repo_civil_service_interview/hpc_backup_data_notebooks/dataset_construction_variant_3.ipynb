{
 "cells": [
  {
   "cell_type": "markdown",
   "metadata": {
    "colab_type": "text",
    "id": "view-in-github"
   },
   "source": [
    "<a href=\"https://colab.research.google.com/github/msc-acse/acse-9-independent-research-project-Garethlomax/blob/data_curation/dataset_construction.ipynb\" target=\"_parent\"><img src=\"https://colab.research.google.com/assets/colab-badge.svg\" alt=\"Open In Colab\"/></a>"
   ]
  },
  {
   "cell_type": "markdown",
   "metadata": {
    "colab_type": "text",
    "id": "ggKpljorcaJz"
   },
   "source": [
    "# IMPORTS\n",
    "We are constructing using the functions in the accompanying .py files as computer doesnt have enough ram to handle full dataset.\n"
   ]
  },
  {
   "cell_type": "code",
   "execution_count": 1,
   "metadata": {
    "colab": {
     "base_uri": "https://localhost:8080/",
     "height": 124
    },
    "colab_type": "code",
    "id": "nC7dWRZDg-To",
    "outputId": "06d6de7e-ee7f-4c7c-f852-7d0776a7cfd9"
   },
   "outputs": [],
   "source": [
    "#from google.colab import drive\n",
    "#drive.mount('/content/drive')"
   ]
  },
  {
   "cell_type": "code",
   "execution_count": 2,
   "metadata": {
    "colab": {},
    "colab_type": "code",
    "id": "joQx8rOZcK1q"
   },
   "outputs": [],
   "source": [
    "\n",
    "import numpy as np\n",
    "import matplotlib.pyplot as plt\n",
    "import pandas as pd\n",
    "#import seaborn as sns\n",
    "import h5py\n",
    "import random"
   ]
  },
  {
   "cell_type": "markdown",
   "metadata": {
    "colab_type": "text",
    "id": "nvT_wvBzfxhR"
   },
   "source": [
    "# FUNCTIONS"
   ]
  },
  {
   "cell_type": "code",
   "execution_count": 3,
   "metadata": {
    "colab": {},
    "colab_type": "code",
    "id": "-PhZpnw6fzH7"
   },
   "outputs": [],
   "source": [
    "def date_to_int_list(date):\n",
    "    # date is in format yyyy-mm-dd\n",
    "\n",
    "    y = int(date[0:4])\n",
    "    m = int(date[5:7])\n",
    "    d = int(date[8:10])\n",
    "\n",
    "#    print(\"date is:\")\n",
    "#    print(y, \" \",m, \" \", d)\n",
    "    return [y,m,d]\n",
    "\n",
    "def monotonic_date(date, baseline = [1989, 1, 1]):\n",
    "\n",
    "    date = date_to_int_list(date)\n",
    "#    print(type(date[0]))\n",
    "#    print(type(baseline[0]))\n",
    "    # turns date since baseline start date into a monotonic function based on\n",
    "    # year and months in line with pgm unit of analysis\n",
    "    return date[1] - baseline[1] + ((date[0] - baseline[0]) * 12)\n",
    "\n",
    "\n",
    "\n",
    "def construct_layer(dataframe, key, prio_key = \"gid\", debug = False):\n",
    "    # returns 360 720 grid layer for a given parameter\n",
    "    # should be given for one parameter per year.\n",
    "    array = np.zeros(360*720)\n",
    "    prio_grid = dataframe[prio_key]\n",
    "    for i in range(len(prio_grid)):\n",
    "        j = prio_grid.iloc[i] - 1\n",
    "        \"\"\"change the below to only be in the case it isnt nan\"\"\" # will this cause problems?\n",
    "        array[j] += dataframe[key].iloc[i]\n",
    "    array.resize(360,720)\n",
    "\n",
    "    return array\n",
    "\n",
    "def construct_combined_sequence(dataframe_prio, dataframe_ucdp, key_list_prio, key_list_ucdp, string_start, start = [1989, 1,1], stop = [2014,1,1]):\n",
    "    \"\"\"commented out the stop and start\"\"\"\n",
    "    #stop  = '2014-01-01'\n",
    "    # need to adapt ged and other year / month vs ged database for this.\n",
    "    # bool prio to add multiples of 12 to each year usin prio grid.\n",
    "    num_month = monotonic_date(stop, start)\n",
    "    print(num_month)\n",
    "    comb_channel_len = len(key_list_prio) + len(key_list_ucdp)\n",
    "    print(comb_channel_len)\n",
    "    array = np.zeros((num_month, comb_channel_len, 360,720))\n",
    "    \"\"\"commented out here aswell\"\"\"\n",
    "    stop = date_to_int_list(stop)\n",
    "\n",
    "    month = 0\n",
    "    extract_month = monotonic_date(string_start) ## changed.\n",
    "    for i in range(start[0], stop[0]):\n",
    "        for j in range(12): # for each month\n",
    "            # now fill in selected channels as requried.\n",
    "\n",
    "            array[month][:len(key_list_ucdp)] = construct_channels(dataframe_ucdp[dataframe_ucdp.mon_month == extract_month], key_list = key_list_ucdp, prio_key = \"priogrid_gid\")\n",
    "            array[month][len(key_list_ucdp):] = construct_channels(dataframe_prio[dataframe_prio.year == i], key_list = key_list_prio, prio_key = 'gid')\n",
    "            print(extract_month)\n",
    "\n",
    "            month += 1\n",
    "            extract_month +=1\n",
    "    del month\n",
    "    return array\n",
    "\n",
    "\n",
    "\n",
    "def construct_channels(dataframe, key_list, prio_key = \"gid\"):\n",
    "    # usually used for prio\n",
    "    array = np.zeros((len(key_list), 360, 720))\n",
    "    for i, keys in enumerate(key_list):\n",
    "        array[i] = construct_layer(dataframe, key = keys, prio_key = prio_key)\n",
    "    return array\n",
    "\n",
    "\n",
    "\"\"\"check how we are dealing with cases that go up to and including the final step\"\"\"\n",
    "\n",
    "def construct_sequence(dataframe, key_list, prio_key = 'gid', start = [1989, 1, 1], stop = [2014,1,1], prio = False):\n",
    "    stop  = '2014-01-01'\n",
    "    # need to adapt ged and other year / month vs ged database for this.\n",
    "    # bool prio to add multiples of 12 to each year usin prio grid.\n",
    "    num_month = monotonic_date(stop, start)\n",
    "\n",
    "\n",
    "\n",
    "\n",
    "    if prio == False:\n",
    "        # i.e if doing ucdp\n",
    "        # presumes adapted ucdp\n",
    "        # seq length, channels, height, width\n",
    "        array = np.zeros((num_month, len(key_list), 360, 720))\n",
    "\n",
    "        for month in range(num_month):\n",
    "            array[month] = construct_channels(dataframe[dataframe.mon_month == month], key_list = key_list, prio_key = \"priogrid_gid\")\n",
    "\n",
    "            # now for\n",
    "#            array[i] =\n",
    "    elif prio:\n",
    "        stop = [2014,1,1]\n",
    "        array = np.zeros((num_month, len(key_list), 360, 720))\n",
    "        # now for the prio grid data.\n",
    "        # need to make up remainder of start year,\n",
    "        # then multiples of 12 for each year\n",
    "        # then remainder of end year.\n",
    "\n",
    "        \"\"\"this presumes start dates @ start of year no more no less\"\"\"\n",
    "        # need to plus one at the end\n",
    "        month = 0\n",
    "        for i in range(start[0], stop[0]):\n",
    "            for j in range(12): # for each month\n",
    "                array[month] = construct_channels(dataframe[dataframe.year == i], key_list = key_list, prio_key = 'gid')\n",
    "                print(month)\n",
    "\n",
    "                month += 1\n",
    "        del month\n",
    "\n",
    "\n",
    "\n",
    "\n",
    "\n",
    "#        start_months = 13 - start[1] # i.e if its 1989,1,1 then there are 12 months left.\n",
    "#        years = stop[0] - start[0]  - 1 # -1 as due to method of making up start months. i.e\n",
    "#        # want [2013,1,1] [2014,1,1] to be dependant of start and stop months and have no year * 12 months additions\n",
    "#        finish_months = stop[1] # stop months\n",
    "#        months_interim = np.arange(start[0], stop[0]+1, 1)\n",
    "#\n",
    "#        ######\n",
    "#\n",
    "#        # now the start month multiples\n",
    "#        for i in range(start_months):\n",
    "#            array[i] = construct_channels(dataframe[dataframe.year == start[0]], key_list = key_list, prio_key = \"gid\")\n",
    "#        # double check prio yearly - try to get monthly values out.\n",
    "#\n",
    "#        for i in range(years):\n",
    "#            for j in range(i *12, (i+1)* 12):\n",
    "#                array[j]\n",
    "\n",
    "\n",
    "    return array\n",
    "\n",
    "\n",
    "def date_column(dataframe, baseline = [1989,1,1]):\n",
    "    # puts new column on dataframe, no need to return.\n",
    "    # date start just as dummy atm\n",
    "#    dataframe = dataframe[\"date_start\"]\n",
    "    vals = dataframe[\"date_start\"].values\n",
    "    new_col = np.array([monotonic_date(string_date) for string_date in vals])\n",
    "    dataframe[\"mon_month\"] = new_col\n",
    "\n",
    "def h5py_conversion(data_array, filename, key_list_ucdp, key_list_prio):\n",
    "    # this is for saving the default 360:720 file to chop out of.\n",
    "    # lazy loading saves the day\n",
    "    # all day\n",
    "    # every day\n",
    "    f = h5py.File(\"{}.hdf5\".format(filename), \"w\")\n",
    "\n",
    "    f.create_dataset(\"data_combined\", data = data_array)\n",
    "\n",
    "    f.close()\n",
    "\n",
    "\n",
    "\n",
    "    csv = open(name + \"_config.csv\", 'w')\n",
    "    csv.write(\"Included data UCDP:\\n\")\n",
    "    for key in key_list_ucdp:\n",
    "        csv.write(key + \"\\n\")\n",
    "\n",
    "    csv.write(\"Included data PRIO:\\n\")\n",
    "    for key in key_list_prio:\n",
    "        csv.write(key + \"\\n\")\n",
    "    csv.close()\n"
   ]
  },
  {
   "cell_type": "code",
   "execution_count": 4,
   "metadata": {
    "colab": {},
    "colab_type": "code",
    "id": "AdH8e_Alf5r7"
   },
   "outputs": [],
   "source": [
    "def raster_test(input_data, chunk_size = 16):\n",
    "    # to overcome edge sizes can make selection large if we just reject the training data for outside africa\n",
    "    # although we do not necessarily need to do this\n",
    "    # i.e expand box and allow less sampled box to sampel others more frequently.\n",
    "\n",
    "    # step size is always 1\n",
    "    # assuming image is a cutout of globe\n",
    "    # this is for single step, single channel as a test.\n",
    "    step = 1\n",
    "    height = input_data.shape[-2]\n",
    "    width = input_data.shape[-1]\n",
    "    for i in range(height - chunk_size + 1):\n",
    "        for j in range(width - chunk_size+1):\n",
    "            print(input_data[:,i:i+chunk_size,j:j + chunk_size])\n",
    "            print(\".\")\n",
    "\n",
    "#    plt.imshow(input_data)\n",
    "\n",
    "def raster_selection(input_data, chunk_size = 16):\n",
    "    # here input_data is sequence step.\n",
    "    # data should be of dimensions seq, channels, height, width.\n",
    "    # to overcome edge sizes can make selection large if we just reject the training data for outside africa\n",
    "    # although we do not necessarily need to do this\n",
    "    # i.e expand box and allow less sampled box to sampel others more frequently.\n",
    "\n",
    "    # step size is always 1\n",
    "    # assuming image is a cutout of globe\n",
    "    # this is for single step, single channel as a test.\n",
    "    step = 1\n",
    "    height = input_data.shape[-2]\n",
    "    width = input_data.shape[-1]\n",
    "    # this is not efficient.\n",
    "    for i in range(height - chunk_size + 1):\n",
    "        for j in range(width - chunk_size+1):\n",
    "            input_data[0][i:i+chunk_size,j:j + chunk_size]\n",
    "\n",
    "    plt.imshow(input_data)\n",
    "\n",
    "\n",
    "def random_pixel_bounds(i, j, chunk_size = 16):\n",
    "    # returns the bounds of the image to select with a random pixel size.\n",
    "\n",
    "    height = random.randint(0, chunk_size-1)\n",
    "    width = random.randint(0, chunk_size-1)\n",
    "    # this randomly generates a of the image for where the pixel may be located\n",
    "    # randomly in the cut out image.\n",
    "    i_lower = i - height\n",
    "    i_upper = i + (chunk_size - height)\n",
    "\n",
    "    j_lower = j - width\n",
    "    j_upper = j + (chunk_size - width)\n",
    "\n",
    "    return [i_lower, i_upper, j_lower, j_upper]\n",
    "\n",
    "def random_selection(image, i, j, chunk_size = 16):\n",
    "\n",
    "    i_lower, i_upper, j_lower, j_upper = random_pixel_bounds(i, j, chunk_size = chunk_size)\n",
    "\n",
    "    print(image[i_lower:i_upper,j_lower:j_upper])\n",
    "\n",
    "def random_grid_selection(image, sequence_step, chunk_size= 16, draws = 5, debug = True):\n",
    "    if debug:\n",
    "        print(\"Image shape is:\" , image.shape)\n",
    "\n",
    "\n",
    "    # decide if this is going to be h5py loaded.\n",
    "\n",
    "    # decide what sequence step is going to be like and how to return it\n",
    "\n",
    "    # image is seq, channels, height, width\n",
    "\n",
    "    # here we are using a seq length of 10. - could use 12 but atm we go for 10.\n",
    "\n",
    "    # sequence step is the step at which the TRUTH is being extracted. the predictor sequence\n",
    "    # is extracted from the 10 preceding steps. be careful to send in from i > 11\n",
    "    assert sequence_step > 10, (\"This function selects the datapoints from this test set that contain\"\n",
    "                                \"a conflict event and then selects predictor data from the 10 preceding steps\"\n",
    "                                \" as a result i > 10 must be true\")\n",
    "    # for sequence step, 0th layer - i.e fatalities\n",
    "    y, x = np.where(image[sequence_step][0] >= 1)\n",
    "\n",
    "    if debug:\n",
    "        print(x.shape)\n",
    "\n",
    "    truth_list = []\n",
    "    predictor_list = []\n",
    "\n",
    "    # re arange for loops for speed?\n",
    "    for i,j in zip(y, x): # now over sites where fatalities have occured\n",
    "        for _ in range(draws):\n",
    "            i_lower, i_upper, j_lower, j_upper = random_pixel_bounds(i, j, chunk_size=chunk_size)\n",
    "\n",
    "            # now need to work out how to store these. how to stack ontop ect.\n",
    "            truth = image[sequence_step][0,i_lower:i_upper,j_lower:j_upper]\n",
    "            # check these dimensions\n",
    "            \"\"\"FIXED BELOW \"\"\"\n",
    "            predictors = image[sequence_step-10:sequence_step, :,i_lower:i_upper,j_lower:j_upper]\n",
    "\n",
    "            truth_list.append(truth)\n",
    "            predictor_list.append(predictors)\n",
    "\n",
    "    # finally we combine the previous arrays.\n",
    "\n",
    "    return np.stack(predictor_list, axis= 0), np.stack(truth_list, axis = 0)\n",
    "\n",
    "\n",
    "def full_dataset_numpy(image, chunk_size = 16, draws = 5, debug = False):\n",
    "    # image is seq, channels, height, width\n",
    "    predictor_list = []\n",
    "    truth_list = []\n",
    "    for i in range(11, len(image)):\n",
    "        t1, t2 = random_grid_selection(image, i)\n",
    "        predictor_list.append(t1)\n",
    "        truth_list.append(t2)\n",
    "\n",
    "    truth_np = np.concatenate(truth_list, axis = 0)\n",
    "    predictor_np = np.concatenate(predictor_list, axis =0)\n",
    "    return predictor_np, truth_np\n",
    "\n",
    "def quick_dataset(data, name):\n",
    "    f = h5py.File(name + \".hdf5\", \"w\")\n",
    "    f.create_dataset(\"main\", data = data)\n",
    "#    f.create_dataset(\"truth\", data = truth)\n",
    "    f.close()\n",
    "\n",
    "\n",
    "\n",
    "\n",
    "#data = pd.read_csv(\"data/ged191.csv\")\n",
    "\n",
    "def debug_func1(dataframe, month):\n",
    "    a = dataframe[dataframe.mon_month == month]\n",
    "    print(len(a[a.best >0]))\n"
   ]
  },
  {
   "cell_type": "code",
   "execution_count": 5,
   "metadata": {
    "colab": {},
    "colab_type": "code",
    "id": "4WG8VQ4Of_A7"
   },
   "outputs": [],
   "source": [
    "def raster_test(input_data, chunk_size = 16):\n",
    "    # to overcome edge sizes can make selection large if we just reject the training data for outside africa\n",
    "    # although we do not necessarily need to do this\n",
    "    # i.e expand box and allow less sampled box to sampel others more frequently.\n",
    "\n",
    "    # step size is always 1\n",
    "    # assuming image is a cutout of globe\n",
    "    # this is for single step, single channel as a test.\n",
    "    step = 1\n",
    "    height = input_data.shape[-2]\n",
    "    width = input_data.shape[-1]\n",
    "    for i in range(height - chunk_size + 1):\n",
    "        for j in range(width - chunk_size+1):\n",
    "            print(input_data[:,i:i+chunk_size,j:j + chunk_size])\n",
    "            print(\".\")\n",
    "\n",
    "#    plt.imshow(input_data)\n",
    "\n",
    "def raster_selection(input_data, chunk_size = 16):\n",
    "    # here input_data is sequence step.\n",
    "    # data should be of dimensions seq, channels, height, width.\n",
    "    # to overcome edge sizes can make selection large if we just reject the training data for outside africa\n",
    "    # although we do not necessarily need to do this\n",
    "    # i.e expand box and allow less sampled box to sampel others more frequently.\n",
    "\n",
    "    # step size is always 1\n",
    "    # assuming image is a cutout of globe\n",
    "    # this is for single step, single channel as a test.\n",
    "    step = 1\n",
    "    height = input_data.shape[-2]\n",
    "    width = input_data.shape[-1]\n",
    "    # this is not efficient.\n",
    "    for i in range(height - chunk_size + 1):\n",
    "        for j in range(width - chunk_size+1):\n",
    "            input_data[0][i:i+chunk_size,j:j + chunk_size]\n",
    "\n",
    "    plt.imshow(input_data)\n",
    "\n",
    "\n",
    "def random_pixel_bounds(i, j, chunk_size = 16):\n",
    "    # returns the bounds of the image to select with a random pixel size.\n",
    "\n",
    "    height = random.randint(0, chunk_size-1)\n",
    "    width = random.randint(0, chunk_size-1)\n",
    "    # this randomly generates a of the image for where the pixel may be located\n",
    "    # randomly in the cut out image.\n",
    "    i_lower = i - height\n",
    "    i_upper = i + (chunk_size - height)\n",
    "\n",
    "    j_lower = j - width\n",
    "    j_upper = j + (chunk_size - width)\n",
    "\n",
    "    return [i_lower, i_upper, j_lower, j_upper]\n",
    "\n",
    "def random_selection(image, i, j, chunk_size = 16):\n",
    "\n",
    "    i_lower, i_upper, j_lower, j_upper = random_pixel_bounds(i, j, chunk_size = chunk_size)\n",
    "\n",
    "    print(image[i_lower:i_upper,j_lower:j_upper])\n",
    "\n",
    "def random_grid_selection(image, sequence_step, chunk_size= 16, draws = 5, cluster = False, min_events = 0, debug = True):\n",
    "    if debug:\n",
    "        print(\"Image shape is:\" , image.shape)\n",
    "\n",
    "\n",
    "    # decide if this is going to be h5py loaded.\n",
    "\n",
    "    # decide what sequence step is going to be like and how to return it\n",
    "\n",
    "    # image is seq, channels, height, width\n",
    "\n",
    "    # here we are using a seq length of 10. - could use 12 but atm we go for 10.\n",
    "\n",
    "    # sequence step is the step at which the TRUTH is being extracted. the predictor sequence\n",
    "    # is extracted from the 10 preceding steps. be careful to send in from i > 11\n",
    "    assert sequence_step > 10, (\"This function selects the datapoints from this test set that contain\"\n",
    "                                \"a conflict event and then selects predictor data from the 10 preceding steps\"\n",
    "                                \" as a result i > 10 must be true\")\n",
    "    # for sequence step, 0th layer - i.e fatalities\n",
    "    y, x = np.where(image[sequence_step][0] >= 1)\n",
    "#     print(y)\n",
    "#     print(x)\n",
    "    \n",
    "    \n",
    "    \n",
    "    \"\"\"INCLUDE CLUSTERING IN HERE?????\"\"\"\n",
    "    if cluster:\n",
    "        clf = LocalOutlierFactor(n_neighbors=5, contamination= 0.05)\n",
    "        pred = clf.fit_predict(X)\n",
    "        # correct this but answer is this shape\n",
    "        np.hstack((a.reshape((-1,1)), b.reshape((-1,1))))\n",
    "        \n",
    "    \n",
    "    if debug:\n",
    "        print(x.shape)\n",
    "\n",
    "    truth_list = []\n",
    "    predictor_list = []\n",
    "\n",
    "    # re arange for loops for speed?\n",
    "    for i,j in zip(y, x): # now over sites where fatalities have occured\n",
    "        for _ in range(draws):\n",
    "            i_lower, i_upper, j_lower, j_upper = random_pixel_bounds(i, j, chunk_size=chunk_size)\n",
    "\n",
    "            # now need to work out how to store these. how to stack ontop ect.\n",
    "            truth = image[sequence_step+1][0,i_lower:i_upper,j_lower:j_upper]\n",
    "            # check these dimensions\n",
    "            \"\"\"fixed here\"\"\"\n",
    "            predictors = image[sequence_step-9:sequence_step+1, :,i_lower:i_upper,j_lower:j_upper]\n",
    "            \n",
    "            # if statement here to decide whether will be appended to full list\n",
    "            # i.e if it reaches the cutoff for acceptable level of conflict.\n",
    "#             print(np.count_nonzero(predictors[:,0]))\n",
    "#             print(sequence_step)\n",
    "#             print(predictors.shape)\n",
    "            if (np.count_nonzero(predictors[:,0]) >= min_events):\n",
    "                truth_list.append(truth)\n",
    "                predictor_list.append(predictors)\n",
    "\n",
    "    # finally we combine the previous arrays.\n",
    "\n",
    "    return np.stack(predictor_list, axis= 0), np.stack(truth_list, axis = 0)\n",
    "\n",
    "\n",
    "def full_dataset_numpy(image, chunk_size = 16, draws = 5, min_events = 0, debug = False):\n",
    "    # image is seq, channels, height, width\n",
    "    predictor_list = []\n",
    "    truth_list = []\n",
    "    for i in range(11, len(image)):\n",
    "        t1, t2 = random_grid_selection(image, i, min_events = min_events)\n",
    "        predictor_list.append(t1)\n",
    "        truth_list.append(t2)\n",
    "\n",
    "    truth_np = np.concatenate(truth_list, axis = 0)\n",
    "    predictor_np = np.concatenate(predictor_list, axis =0)\n",
    "    return predictor_np, truth_np\n",
    "\n",
    "def quick_dataset(data, name):\n",
    "    f = h5py.File(name + \".hdf5\", \"w\")\n",
    "    f.create_dataset(\"main\", data = data)\n",
    "#    f.create_dataset(\"truth\", data = truth)\n",
    "    f.close()\n",
    "\n",
    "\n",
    "\n",
    "\n",
    "#data = pd.read_csv(\"data/ged191.csv\")\n",
    "\n",
    "def debug_func1(dataframe, month):\n",
    "    a = dataframe[dataframe.mon_month == month]\n",
    "    print(len(a[a.best >0]))\n"
   ]
  },
  {
   "cell_type": "code",
   "execution_count": 6,
   "metadata": {
    "colab": {},
    "colab_type": "code",
    "id": "YfrOf9qBMADY"
   },
   "outputs": [],
   "source": [
    "def binary_event_column(dataframe):\n",
    "    \"\"\" as it is hard to encode categorical information about battles when\n",
    "    battle deaths = 0, we then encode a binary - 0, 1 layer pertaining to\n",
    "    whether an event took place\"\"\"\n",
    "    new_col = np.ones(len(dataframe))\n",
    "    dataframe[\"binary_event\"] = new_col\n",
    "\n",
    "def nan_to_one(dataframe, key):\n",
    "    \"\"\"takes column from dataframe\"\"\"\n",
    "    dataframe[key] = dataframe[key].fillna(0)"
   ]
  },
  {
   "cell_type": "code",
   "execution_count": 7,
   "metadata": {},
   "outputs": [],
   "source": [
    "def pop_hyd_impute(data):\n",
    "    \"\"\"has data for 1990,1995,2000,2005.\n",
    "\n",
    "    for 1989 do 1990\n",
    "    1990 - 1994\n",
    "    1995 - 1999\n",
    "    2000 - 2004\n",
    "    2005 - 2014\n",
    "    \"\"\"\n",
    "    for i in range(1989, 1990):\n",
    "        data.loc[data.year == i, 'pop_hyd_sum'] = np.array(data.loc[data.year == 1990, 'pop_hyd_sum'])\n",
    "    for i in range(1991, 2000):\n",
    "        data.loc[data.year == i, 'pop_hyd_sum'] = np.array(data.loc[data.year == 1990, 'pop_hyd_sum'])\n",
    "    for i in range(2000,2005):\n",
    "        data.loc[data.year == i, 'pop_hyd_sum'] = np.array(data.loc[data.year == 2000, 'pop_hyd_sum'])\n",
    "    for i in range(2006,2015):\n",
    "        data.loc[data.year == i, 'pop_hyd_sum'] = np.array(data.loc[data.year == 2005, 'pop_hyd_sum'])\n",
    "\n"
   ]
  },
  {
   "cell_type": "markdown",
   "metadata": {
    "colab_type": "text",
    "id": "Xlgt1oO5J14F"
   },
   "source": []
  },
  {
   "cell_type": "markdown",
   "metadata": {
    "colab_type": "text",
    "id": "t14HJK9Pgk0E"
   },
   "source": [
    "# LOADING DATA AND FUNCTION"
   ]
  },
  {
   "cell_type": "code",
   "execution_count": 8,
   "metadata": {
    "colab": {
     "base_uri": "https://localhost:8080/",
     "height": 35
    },
    "colab_type": "code",
    "id": "8JDVKJ6UhCcU",
    "outputId": "6fbf27fd-e3b0-4844-9096-4b6b02365077"
   },
   "outputs": [
    {
     "data": {
      "text/plain": [
       "'/rdsgpfs/general/user/gcl15/home/masters_project/data'"
      ]
     },
     "execution_count": 8,
     "metadata": {},
     "output_type": "execute_result"
    }
   ],
   "source": [
    "%pwd"
   ]
  },
  {
   "cell_type": "code",
   "execution_count": 9,
   "metadata": {
    "colab": {
     "base_uri": "https://localhost:8080/",
     "height": 35
    },
    "colab_type": "code",
    "id": "KexhPxtxkUTD",
    "outputId": "545161da-329f-46fc-e00a-3edc7859ff5e"
   },
   "outputs": [
    {
     "name": "stdout",
     "output_type": "stream",
     "text": [
      "[Errno 2] No such file or directory: 'masters_project/'\n",
      "/rdsgpfs/general/user/gcl15/home/masters_project/data\n"
     ]
    }
   ],
   "source": [
    "%cd masters_project/\n"
   ]
  },
  {
   "cell_type": "code",
   "execution_count": 12,
   "metadata": {},
   "outputs": [
    {
     "name": "stdout",
     "output_type": "stream",
     "text": [
      "/rdsgpfs/general/user/gcl15/home/masters_project\n"
     ]
    }
   ],
   "source": [
    "%cd .."
   ]
  },
  {
   "cell_type": "markdown",
   "metadata": {
    "colab_type": "text",
    "id": "WHrgYmVdlK8q"
   },
   "source": [
    "load in data"
   ]
  },
  {
   "cell_type": "code",
   "execution_count": 13,
   "metadata": {
    "colab": {},
    "colab_type": "code",
    "id": "rEibi2zhgrbk"
   },
   "outputs": [],
   "source": [
    "\n",
    "data_prio = pd.read_csv(\"data/PRIO-GRID Yearly Variables for 1946-2014 - 2019-07-26.csv\")\n",
    "data_ucdp = pd.read_csv(\"data/ged191.csv\")\n",
    "\n"
   ]
  },
  {
   "cell_type": "code",
   "execution_count": null,
   "metadata": {
    "colab": {
     "base_uri": "https://localhost:8080/",
     "height": 1000
    },
    "colab_type": "code",
    "id": "w7baPUX5sn0j",
    "outputId": "2abe0e29-9ded-4959-a2d3-d652a44495d3"
   },
   "outputs": [],
   "source": [
    "#data_prio"
   ]
  },
  {
   "cell_type": "markdown",
   "metadata": {
    "colab_type": "text",
    "id": "GeDqDYZRFaXa"
   },
   "source": [
    "sub selecting only the african region - just to test for simplicity - compare training on both at a later date"
   ]
  },
  {
   "cell_type": "code",
   "execution_count": 14,
   "metadata": {
    "colab": {},
    "colab_type": "code",
    "id": "Soxg4jfzFiOk"
   },
   "outputs": [],
   "source": [
    "north = 37.32\n",
    "south = -34.5115\n",
    "west = -17.3113\n",
    "east = 51.2752\n",
    "\n",
    "data_ucdp = data_ucdp[(data_ucdp.latitude >= south) & (data_ucdp.latitude <= north) & (data_ucdp.longitude >= west) & (east >= data_ucdp.longitude)]\n",
    "# data = dummy"
   ]
  },
  {
   "cell_type": "markdown",
   "metadata": {
    "colab_type": "text",
    "id": "vyXn5extlKDV"
   },
   "source": [
    "add monotonic month column to the ucdp data, turn nans into 1s for petroleum and drugs"
   ]
  },
  {
   "cell_type": "code",
   "execution_count": 15,
   "metadata": {
    "colab": {},
    "colab_type": "code",
    "id": "NjBSL8xNgycL"
   },
   "outputs": [],
   "source": [
    "date_column(data_ucdp)\n",
    "binary_event_column(data_ucdp)\n",
    "nan_to_one(data_prio, \"petroleum_y\")\n",
    "nan_to_one(data_prio, \"drug_y\")\n",
    "pop_hyd_impute(data_prio)\n",
    "nan_to_one(data_prio, \"pop_hyd_sum\")\n",
    "nan_to_one(data_prio, \"capdist\")\n",
    "\n",
    "\n"
   ]
  },
  {
   "cell_type": "code",
   "execution_count": 16,
   "metadata": {
    "colab": {
     "base_uri": "https://localhost:8080/",
     "height": 35
    },
    "colab_type": "code",
    "id": "UK6uwb6M9T6Y",
    "outputId": "5296aead-6efd-415f-d778-878fad3b903d"
   },
   "outputs": [],
   "source": [
    "#data_prio.drug_y.unique()\n"
   ]
  },
  {
   "cell_type": "code",
   "execution_count": 17,
   "metadata": {
    "colab": {
     "base_uri": "https://localhost:8080/",
     "height": 35
    },
    "colab_type": "code",
    "id": "Edz9RKCB9Yq0",
    "outputId": "7c0c9fc8-1dde-4958-ea07-f10aa9b90e82"
   },
   "outputs": [],
   "source": [
    "#data_prio.petroleum_y.unique()"
   ]
  },
  {
   "cell_type": "code",
   "execution_count": 18,
   "metadata": {
    "colab": {
     "base_uri": "https://localhost:8080/",
     "height": 35
    },
    "colab_type": "code",
    "id": "Kn7sl3W3dZ7A",
    "outputId": "03afcb65-6bd6-411b-920a-915cb382fd68"
   },
   "outputs": [],
   "source": [
    "#data_prio.drug_y.unique()"
   ]
  },
  {
   "cell_type": "markdown",
   "metadata": {
    "colab_type": "text",
    "id": "OWId5IE1lPVf"
   },
   "source": [
    "construct full image sequence"
   ]
  },
  {
   "cell_type": "code",
   "execution_count": 19,
   "metadata": {
    "colab": {},
    "colab_type": "code",
    "id": "lYxGEKVANpJg"
   },
   "outputs": [],
   "source": [
    "key_list_prio = [\"pop_hyd_sum\",\"capdist\", \"prec_gpcp\"] # not temp - needs better imputation\n",
    "# excluded also useful - talk to nils about exclusion.\n",
    "#gcp_ppp also not included.\n",
    "#\n",
    "#\n",
    "#\n",
    "#\n",
    "#\n",
    "#\n",
    "#\n",
    "#\n",
    "\n",
    "# no mountainous regions so far\n",
    "# key_list_ucdp = [\"best\", \"binary_event\"]\n",
    "key_list_ucdp = ['binary_event', 'best']\n",
    "\n"
   ]
  },
  {
   "cell_type": "code",
   "execution_count": 20,
   "metadata": {},
   "outputs": [
    {
     "data": {
      "text/plain": [
       "276"
      ]
     },
     "execution_count": 20,
     "metadata": {},
     "output_type": "execute_result"
    }
   ],
   "source": [
    "monotonic_date('2012-01-01')"
   ]
  },
  {
   "cell_type": "code",
   "execution_count": 21,
   "metadata": {},
   "outputs": [],
   "source": [
    "# train_set = construct_combined_sequence(data_prio, data_ucdp, key_list_prio=key_list_prio, key_list_ucdp=key_list_ucdp, string_start='1989-01-01',start=[1989,1,1], stop = '2012-01-01')#stop = [2012,1,1])\n",
    "# test_set = construct_combined_sequence(data_prio, data_ucdp, key_list_prio=key_list_prio, key_list_ucdp=key_list_ucdp, string_start= '2012-01-01',start=[2012,1,1], stop = '2014-01-01')#stop = [2014,1,1])"
   ]
  },
  {
   "cell_type": "code",
   "execution_count": 22,
   "metadata": {},
   "outputs": [],
   "source": [
    "# train_set.shape"
   ]
  },
  {
   "cell_type": "code",
   "execution_count": 23,
   "metadata": {},
   "outputs": [
    {
     "ename": "NameError",
     "evalue": "name 'test_set' is not defined",
     "output_type": "error",
     "traceback": [
      "\u001b[0;31m---------------------------------------------------------------------------\u001b[0m",
      "\u001b[0;31mNameError\u001b[0m                                 Traceback (most recent call last)",
      "\u001b[0;32m<ipython-input-23-62a05e0a198f>\u001b[0m in \u001b[0;36m<module>\u001b[0;34m\u001b[0m\n\u001b[0;32m----> 1\u001b[0;31m \u001b[0mtest_set\u001b[0m\u001b[0;34m.\u001b[0m\u001b[0mshape\u001b[0m\u001b[0;34m\u001b[0m\u001b[0;34m\u001b[0m\u001b[0m\n\u001b[0m",
      "\u001b[0;31mNameError\u001b[0m: name 'test_set' is not defined"
     ]
    }
   ],
   "source": [
    "# test_set.shape"
   ]
  },
  {
   "cell_type": "code",
   "execution_count": null,
   "metadata": {},
   "outputs": [],
   "source": [
    "# (test_set[0,0] == train_set[0,0]).all()"
   ]
  },
  {
   "cell_type": "code",
   "execution_count": 24,
   "metadata": {},
   "outputs": [
    {
     "name": "stdout",
     "output_type": "stream",
     "text": [
      "[Errno 2] No such file or directory: 'masters_project/'\n",
      "/rdsgpfs/general/user/gcl15/home/masters_project\n"
     ]
    }
   ],
   "source": [
    "%pwd\n",
    "%cd masters_project/"
   ]
  },
  {
   "cell_type": "code",
   "execution_count": 25,
   "metadata": {},
   "outputs": [],
   "source": [
    "# np.save(\"map_new_test\", test_set)\n",
    "# np.save(\"map_new_train\", train_set)\n",
    "test_set = np.load(\"map_new_test.npy\")\n",
    "train_set = np.load(\"map_new_train.npy\")"
   ]
  },
  {
   "cell_type": "code",
   "execution_count": 26,
   "metadata": {
    "colab": {},
    "colab_type": "code",
    "id": "NWa9_B-qnD4g"
   },
   "outputs": [],
   "source": [
    "# train_set = construct_combined_sequence(data_prio, data_ucdp, key_list_prio=key_list_prio, key_list_ucdp=key_list_ucdp, start=[1989,1,1], stop = '2012-01-01')#stop = [2012,1,1])\n",
    "\n",
    "# test_set = construct_combined_sequence(data_prio, data_ucdp, key_list_prio=key_list_prio, key_list_ucdp=key_list_ucdp, start=[2012,1,1], stop = '2014-01-01')#stop = [2014,1,1])"
   ]
  },
  {
   "cell_type": "code",
   "execution_count": null,
   "metadata": {},
   "outputs": [],
   "source": []
  },
  {
   "cell_type": "code",
   "execution_count": 27,
   "metadata": {
    "colab_type": "text",
    "id": "at14JdkSmO_4"
   },
   "outputs": [],
   "source": [
    "# np.save(\"train_array\", train_set)\n",
    "# np.save(\"test_array\", test_set)"
   ]
  },
  {
   "cell_type": "code",
   "execution_count": 28,
   "metadata": {},
   "outputs": [
    {
     "name": "stdout",
     "output_type": "stream",
     "text": [
      "/rdsgpfs/general/user/gcl15/home\n"
     ]
    }
   ],
   "source": [
    "%pwd\n",
    "%cd .."
   ]
  },
  {
   "cell_type": "code",
   "execution_count": 29,
   "metadata": {
    "colab": {},
    "colab_type": "code",
    "id": "ErmEch2UmOfj"
   },
   "outputs": [],
   "source": [
    "# # np.save(\"array_4\", test)\n",
    "# test_set = np.load(\"test_array.npy\")\n",
    "# train_set = np.load(\"train_array.npy\")\n"
   ]
  },
  {
   "cell_type": "markdown",
   "metadata": {
    "colab_type": "text",
    "id": "duA3-ZxphgbK"
   },
   "source": [
    "correct test binary layer - by correcting the other layer\n"
   ]
  },
  {
   "cell_type": "code",
   "execution_count": 30,
   "metadata": {
    "colab": {
     "base_uri": "https://localhost:8080/",
     "height": 87
    },
    "colab_type": "code",
    "id": "S83jt2a8hlX0",
    "outputId": "a2af05da-26ed-40eb-d7e3-f0771d5a5d99"
   },
   "outputs": [],
   "source": [
    "# changed to 0 due to changing order of layers.\n",
    "\n",
    "#print(test_set[:,0].shape)\n",
    "#print(np.unique(test[:,0]))\n",
    "test_set[:,0][test_set[:,0] > 0] = 1\n",
    "train_set[:,0][train_set[:,0] > 0] = 1\n",
    "# plt.figure(figsize = (50,10))\n",
    "# plt.imshow(test[199][1],vmin = 0, vmax = 1)"
   ]
  },
  {
   "cell_type": "code",
   "execution_count": 31,
   "metadata": {
    "colab": {
     "base_uri": "https://localhost:8080/",
     "height": 35
    },
    "colab_type": "code",
    "id": "kxcXOOd1jSjk",
    "outputId": "3aa98844-211f-450a-fcfc-a15d85688b01"
   },
   "outputs": [
    {
     "data": {
      "text/plain": [
       "array([0., 1.])"
      ]
     },
     "execution_count": 31,
     "metadata": {},
     "output_type": "execute_result"
    }
   ],
   "source": [
    "np.unique(test_set[:,0])\n",
    "np.unique(train_set[:,0])"
   ]
  },
  {
   "cell_type": "code",
   "execution_count": 32,
   "metadata": {
    "colab": {
     "base_uri": "https://localhost:8080/",
     "height": 613
    },
    "colab_type": "code",
    "id": "9jjkUhXDjKpA",
    "outputId": "98d0ee90-0f25-4028-b309-9940cde4a9ac"
   },
   "outputs": [
    {
     "data": {
      "text/plain": [
       "<matplotlib.image.AxesImage at 0x2b8e5c97ee48>"
      ]
     },
     "execution_count": 32,
     "metadata": {},
     "output_type": "execute_result"
    },
    {
     "data": {
      "image/png": "[encoded data removed]",
      "text/plain": [
       "<Figure size 3600x720 with 1 Axes>"
      ]
     },
     "metadata": {
      "needs_background": "light"
     },
     "output_type": "display_data"
    }
   ],
   "source": [
    "plt.figure(figsize = (50,10))\n",
    "plt.imshow(test_set[11][0],vmin = 0, vmax = 1)"
   ]
  },
  {
   "cell_type": "code",
   "execution_count": 33,
   "metadata": {
    "colab": {
     "base_uri": "https://localhost:8080/",
     "height": 35
    },
    "colab_type": "code",
    "id": "EZxyTNQfds0U",
    "outputId": "cb8c6ff2-0b61-4d3e-8e24-d223078dceeb"
   },
   "outputs": [
    {
     "data": {
      "text/plain": [
       "array([0., 1.])"
      ]
     },
     "execution_count": 33,
     "metadata": {},
     "output_type": "execute_result"
    }
   ],
   "source": [
    "np.unique(test_set[0][0])"
   ]
  },
  {
   "cell_type": "markdown",
   "metadata": {
    "colab_type": "text",
    "id": "e7TspZujnGPy"
   },
   "source": [
    "now put this into our random selection."
   ]
  },
  {
   "cell_type": "code",
   "execution_count": 34,
   "metadata": {
    "colab": {
     "base_uri": "https://localhost:8080/",
     "height": 35
    },
    "colab_type": "code",
    "id": "tWTELI9pmexd",
    "outputId": "c82dbf12-cfcb-416f-cde4-e2ca4be92013"
   },
   "outputs": [
    {
     "data": {
      "text/plain": [
       "(24, 5, 360, 720)"
      ]
     },
     "execution_count": 34,
     "metadata": {},
     "output_type": "execute_result"
    }
   ],
   "source": [
    "test_set.shape\n"
   ]
  },
  {
   "cell_type": "code",
   "execution_count": 35,
   "metadata": {
    "colab": {},
    "colab_type": "code",
    "id": "N-pvjTDDmgpi"
   },
   "outputs": [],
   "source": [
    "def full_dataset_h5py(image, filename, key_list_prio, key_list_ucdp, chunk_size = 16, draws = 5, min_events = 25, debug = False):\n",
    "    \"\"\" dataset is too large to combine in 12gb of ram - need to combine in h5py\n",
    "    array. i.e lazy saving as well as lazy loading\"\"\"\n",
    "    \n",
    "    with h5py.File(filename + \".hdf5\", 'w') as f:\n",
    "        for i in range(11, len(image)-1):\n",
    "            print(i)\n",
    "            t1, t2 = random_grid_selection(image, i, min_events = min_events)\n",
    "            if i == 11:\n",
    "                # creat h5py file at first step.\n",
    "                f.create_dataset('predictor', data= t1, maxshape=(None,None, None, None,None)) # compression=\"gzip\", chunks=True, taken out\n",
    "                f.create_dataset(\"truth\", data= t2, maxshape=(None,None,None))\n",
    "        \n",
    "            else:\n",
    "                f[\"predictor\"].resize((f[\"predictor\"].shape[0] + t1.shape[0]), axis = 0) # expand dataset\n",
    "                f[\"truth\"].resize((f[\"truth\"].shape[0] + t2.shape[0]), axis = 0)\n",
    "            \n",
    "                f[\"predictor\"][-t1.shape[0]:] = t1 # place new data in expanded dataset\n",
    "                f[\"truth\"][-t2.shape[0]:] = t2\n",
    "        \n",
    "        f[\"predictor\"].attrs.create(\"key_prio\", np.string_(key_list_prio))\n",
    "        f[\"truth\"].attrs.create(\"key_ucdp\", np.string_(key_list_ucdp))\n",
    "        \n",
    "        \n",
    "    \n",
    "#     f.close()\n",
    "        "
   ]
  },
  {
   "cell_type": "code",
   "execution_count": 36,
   "metadata": {},
   "outputs": [
    {
     "data": {
      "text/plain": [
       "(100, 5, 360, 720)"
      ]
     },
     "execution_count": 36,
     "metadata": {},
     "output_type": "execute_result"
    }
   ],
   "source": [
    "train_set[:100].shape"
   ]
  },
  {
   "cell_type": "code",
   "execution_count": 37,
   "metadata": {},
   "outputs": [
    {
     "data": {
      "text/plain": [
       "(24, 5, 360, 720)"
      ]
     },
     "execution_count": 37,
     "metadata": {},
     "output_type": "execute_result"
    }
   ],
   "source": [
    "test_set.shape"
   ]
  },
  {
   "cell_type": "code",
   "execution_count": 38,
   "metadata": {},
   "outputs": [
    {
     "data": {
      "text/plain": [
       "'/rdsgpfs/general/user/gcl15/home'"
      ]
     },
     "execution_count": 38,
     "metadata": {},
     "output_type": "execute_result"
    }
   ],
   "source": [
    "%pwd"
   ]
  },
  {
   "cell_type": "code",
   "execution_count": 39,
   "metadata": {
    "colab": {
     "base_uri": "https://localhost:8080/",
     "height": 1000
    },
    "colab_type": "code",
    "id": "5Ui6KeUhnD76",
    "outputId": "9ac6f2cc-299d-44fa-b728-23d785ca96a6"
   },
   "outputs": [
    {
     "name": "stdout",
     "output_type": "stream",
     "text": [
      "11\n",
      "Image shape is: (276, 5, 360, 720)\n",
      "(49,)\n",
      "12\n",
      "Image shape is: (276, 5, 360, 720)\n",
      "(84,)\n",
      "13\n",
      "Image shape is: (276, 5, 360, 720)\n",
      "(61,)\n",
      "14\n",
      "Image shape is: (276, 5, 360, 720)\n",
      "(70,)\n",
      "15\n",
      "Image shape is: (276, 5, 360, 720)\n",
      "(76,)\n",
      "16\n",
      "Image shape is: (276, 5, 360, 720)\n",
      "(68,)\n",
      "17\n",
      "Image shape is: (276, 5, 360, 720)\n",
      "(54,)\n",
      "18\n",
      "Image shape is: (276, 5, 360, 720)\n",
      "(56,)\n",
      "19\n",
      "Image shape is: (276, 5, 360, 720)\n",
      "(59,)\n",
      "20\n",
      "Image shape is: (276, 5, 360, 720)\n",
      "(65,)\n",
      "21\n",
      "Image shape is: (276, 5, 360, 720)\n",
      "(56,)\n",
      "22\n",
      "Image shape is: (276, 5, 360, 720)\n",
      "(51,)\n",
      "23\n",
      "Image shape is: (276, 5, 360, 720)\n",
      "(49,)\n",
      "24\n",
      "Image shape is: (276, 5, 360, 720)\n",
      "(68,)\n",
      "25\n",
      "Image shape is: (276, 5, 360, 720)\n",
      "(57,)\n",
      "26\n",
      "Image shape is: (276, 5, 360, 720)\n",
      "(65,)\n",
      "27\n",
      "Image shape is: (276, 5, 360, 720)\n",
      "(60,)\n",
      "28\n",
      "Image shape is: (276, 5, 360, 720)\n",
      "(56,)\n",
      "29\n",
      "Image shape is: (276, 5, 360, 720)\n",
      "(30,)\n",
      "30\n",
      "Image shape is: (276, 5, 360, 720)\n",
      "(37,)\n",
      "31\n",
      "Image shape is: (276, 5, 360, 720)\n",
      "(32,)\n",
      "32\n",
      "Image shape is: (276, 5, 360, 720)\n",
      "(36,)\n",
      "33\n",
      "Image shape is: (276, 5, 360, 720)\n",
      "(41,)\n",
      "34\n",
      "Image shape is: (276, 5, 360, 720)\n",
      "(43,)\n",
      "35\n",
      "Image shape is: (276, 5, 360, 720)\n",
      "(47,)\n",
      "36\n",
      "Image shape is: (276, 5, 360, 720)\n",
      "(66,)\n",
      "37\n",
      "Image shape is: (276, 5, 360, 720)\n",
      "(56,)\n",
      "38\n",
      "Image shape is: (276, 5, 360, 720)\n",
      "(64,)\n",
      "39\n",
      "Image shape is: (276, 5, 360, 720)\n",
      "(52,)\n",
      "40\n",
      "Image shape is: (276, 5, 360, 720)\n",
      "(52,)\n",
      "41\n",
      "Image shape is: (276, 5, 360, 720)\n",
      "(60,)\n",
      "42\n",
      "Image shape is: (276, 5, 360, 720)\n",
      "(54,)\n",
      "43\n",
      "Image shape is: (276, 5, 360, 720)\n",
      "(62,)\n",
      "44\n",
      "Image shape is: (276, 5, 360, 720)\n",
      "(46,)\n",
      "45\n",
      "Image shape is: (276, 5, 360, 720)\n",
      "(75,)\n",
      "46\n",
      "Image shape is: (276, 5, 360, 720)\n",
      "(54,)\n",
      "47\n",
      "Image shape is: (276, 5, 360, 720)\n",
      "(66,)\n",
      "48\n",
      "Image shape is: (276, 5, 360, 720)\n",
      "(99,)\n",
      "49\n",
      "Image shape is: (276, 5, 360, 720)\n",
      "(72,)\n",
      "50\n",
      "Image shape is: (276, 5, 360, 720)\n",
      "(73,)\n",
      "51\n",
      "Image shape is: (276, 5, 360, 720)\n",
      "(60,)\n",
      "52\n",
      "Image shape is: (276, 5, 360, 720)\n",
      "(86,)\n",
      "53\n",
      "Image shape is: (276, 5, 360, 720)\n",
      "(67,)\n",
      "54\n",
      "Image shape is: (276, 5, 360, 720)\n",
      "(79,)\n",
      "55\n",
      "Image shape is: (276, 5, 360, 720)\n",
      "(76,)\n",
      "56\n",
      "Image shape is: (276, 5, 360, 720)\n",
      "(71,)\n",
      "57\n",
      "Image shape is: (276, 5, 360, 720)\n",
      "(69,)\n",
      "58\n",
      "Image shape is: (276, 5, 360, 720)\n",
      "(83,)\n",
      "59\n",
      "Image shape is: (276, 5, 360, 720)\n",
      "(76,)\n",
      "60\n",
      "Image shape is: (276, 5, 360, 720)\n",
      "(100,)\n",
      "61\n",
      "Image shape is: (276, 5, 360, 720)\n",
      "(96,)\n",
      "62\n",
      "Image shape is: (276, 5, 360, 720)\n",
      "(88,)\n",
      "63\n",
      "Image shape is: (276, 5, 360, 720)\n",
      "(91,)\n",
      "64\n",
      "Image shape is: (276, 5, 360, 720)\n",
      "(86,)\n",
      "65\n",
      "Image shape is: (276, 5, 360, 720)\n",
      "(95,)\n",
      "66\n",
      "Image shape is: (276, 5, 360, 720)\n",
      "(73,)\n",
      "67\n",
      "Image shape is: (276, 5, 360, 720)\n",
      "(65,)\n",
      "68\n",
      "Image shape is: (276, 5, 360, 720)\n",
      "(63,)\n",
      "69\n",
      "Image shape is: (276, 5, 360, 720)\n",
      "(92,)\n",
      "70\n",
      "Image shape is: (276, 5, 360, 720)\n",
      "(66,)\n",
      "71\n",
      "Image shape is: (276, 5, 360, 720)\n",
      "(63,)\n",
      "72\n",
      "Image shape is: (276, 5, 360, 720)\n",
      "(86,)\n",
      "73\n",
      "Image shape is: (276, 5, 360, 720)\n",
      "(58,)\n",
      "74\n",
      "Image shape is: (276, 5, 360, 720)\n",
      "(99,)\n",
      "75\n",
      "Image shape is: (276, 5, 360, 720)\n",
      "(63,)\n",
      "76\n",
      "Image shape is: (276, 5, 360, 720)\n",
      "(64,)\n",
      "77\n",
      "Image shape is: (276, 5, 360, 720)\n",
      "(64,)\n",
      "78\n",
      "Image shape is: (276, 5, 360, 720)\n",
      "(75,)\n",
      "79\n",
      "Image shape is: (276, 5, 360, 720)\n",
      "(61,)\n",
      "80\n",
      "Image shape is: (276, 5, 360, 720)\n",
      "(55,)\n",
      "81\n",
      "Image shape is: (276, 5, 360, 720)\n",
      "(64,)\n",
      "82\n",
      "Image shape is: (276, 5, 360, 720)\n",
      "(62,)\n",
      "83\n",
      "Image shape is: (276, 5, 360, 720)\n",
      "(58,)\n",
      "84\n",
      "Image shape is: (276, 5, 360, 720)\n",
      "(70,)\n",
      "85\n",
      "Image shape is: (276, 5, 360, 720)\n",
      "(52,)\n",
      "86\n",
      "Image shape is: (276, 5, 360, 720)\n",
      "(42,)\n",
      "87\n",
      "Image shape is: (276, 5, 360, 720)\n",
      "(47,)\n",
      "88\n",
      "Image shape is: (276, 5, 360, 720)\n",
      "(60,)\n",
      "89\n",
      "Image shape is: (276, 5, 360, 720)\n",
      "(57,)\n",
      "90\n",
      "Image shape is: (276, 5, 360, 720)\n",
      "(37,)\n",
      "91\n",
      "Image shape is: (276, 5, 360, 720)\n",
      "(43,)\n",
      "92\n",
      "Image shape is: (276, 5, 360, 720)\n",
      "(55,)\n",
      "93\n",
      "Image shape is: (276, 5, 360, 720)\n",
      "(53,)\n",
      "94\n",
      "Image shape is: (276, 5, 360, 720)\n",
      "(56,)\n",
      "95\n",
      "Image shape is: (276, 5, 360, 720)\n",
      "(48,)\n",
      "96\n",
      "Image shape is: (276, 5, 360, 720)\n",
      "(75,)\n",
      "97\n",
      "Image shape is: (276, 5, 360, 720)\n",
      "(43,)\n",
      "98\n",
      "Image shape is: (276, 5, 360, 720)\n",
      "(62,)\n",
      "99\n",
      "Image shape is: (276, 5, 360, 720)\n",
      "(43,)\n",
      "100\n",
      "Image shape is: (276, 5, 360, 720)\n",
      "(69,)\n",
      "101\n",
      "Image shape is: (276, 5, 360, 720)\n",
      "(44,)\n",
      "102\n",
      "Image shape is: (276, 5, 360, 720)\n",
      "(44,)\n",
      "103\n",
      "Image shape is: (276, 5, 360, 720)\n",
      "(58,)\n",
      "104\n",
      "Image shape is: (276, 5, 360, 720)\n",
      "(57,)\n",
      "105\n",
      "Image shape is: (276, 5, 360, 720)\n",
      "(62,)\n",
      "106\n",
      "Image shape is: (276, 5, 360, 720)\n",
      "(52,)\n",
      "107\n",
      "Image shape is: (276, 5, 360, 720)\n",
      "(54,)\n",
      "108\n",
      "Image shape is: (276, 5, 360, 720)\n",
      "(71,)\n",
      "109\n",
      "Image shape is: (276, 5, 360, 720)\n",
      "(70,)\n",
      "110\n",
      "Image shape is: (276, 5, 360, 720)\n",
      "(74,)\n",
      "111\n",
      "Image shape is: (276, 5, 360, 720)\n",
      "(72,)\n",
      "112\n",
      "Image shape is: (276, 5, 360, 720)\n",
      "(88,)\n",
      "113\n",
      "Image shape is: (276, 5, 360, 720)\n",
      "(73,)\n",
      "114\n",
      "Image shape is: (276, 5, 360, 720)\n",
      "(69,)\n",
      "115\n",
      "Image shape is: (276, 5, 360, 720)\n",
      "(85,)\n",
      "116\n",
      "Image shape is: (276, 5, 360, 720)\n",
      "(85,)\n",
      "117\n",
      "Image shape is: (276, 5, 360, 720)\n",
      "(69,)\n",
      "118\n",
      "Image shape is: (276, 5, 360, 720)\n",
      "(71,)\n",
      "119\n",
      "Image shape is: (276, 5, 360, 720)\n",
      "(73,)\n",
      "120\n",
      "Image shape is: (276, 5, 360, 720)\n",
      "(106,)\n",
      "121\n",
      "Image shape is: (276, 5, 360, 720)\n",
      "(68,)\n",
      "122\n",
      "Image shape is: (276, 5, 360, 720)\n",
      "(66,)\n",
      "123\n",
      "Image shape is: (276, 5, 360, 720)\n",
      "(77,)\n",
      "124\n",
      "Image shape is: (276, 5, 360, 720)\n",
      "(91,)\n",
      "125\n",
      "Image shape is: (276, 5, 360, 720)\n",
      "(77,)\n",
      "126\n",
      "Image shape is: (276, 5, 360, 720)\n",
      "(104,)\n",
      "127\n",
      "Image shape is: (276, 5, 360, 720)\n",
      "(66,)\n",
      "128\n",
      "Image shape is: (276, 5, 360, 720)\n",
      "(61,)\n",
      "129\n",
      "Image shape is: (276, 5, 360, 720)\n",
      "(41,)\n",
      "130\n",
      "Image shape is: (276, 5, 360, 720)\n",
      "(47,)\n",
      "131\n",
      "Image shape is: (276, 5, 360, 720)\n",
      "(42,)\n",
      "132\n",
      "Image shape is: (276, 5, 360, 720)\n",
      "(75,)\n",
      "133\n",
      "Image shape is: (276, 5, 360, 720)\n",
      "(66,)\n",
      "134\n",
      "Image shape is: (276, 5, 360, 720)\n",
      "(78,)\n",
      "135\n",
      "Image shape is: (276, 5, 360, 720)\n",
      "(56,)\n",
      "136\n",
      "Image shape is: (276, 5, 360, 720)\n",
      "(89,)\n",
      "137\n",
      "Image shape is: (276, 5, 360, 720)\n",
      "(62,)\n",
      "138\n",
      "Image shape is: (276, 5, 360, 720)\n",
      "(93,)\n",
      "139\n",
      "Image shape is: (276, 5, 360, 720)\n",
      "(62,)\n",
      "140\n",
      "Image shape is: (276, 5, 360, 720)\n",
      "(63,)\n",
      "141\n",
      "Image shape is: (276, 5, 360, 720)\n",
      "(50,)\n",
      "142\n",
      "Image shape is: (276, 5, 360, 720)\n",
      "(64,)\n",
      "143\n",
      "Image shape is: (276, 5, 360, 720)\n",
      "(65,)\n",
      "144\n",
      "Image shape is: (276, 5, 360, 720)\n",
      "(87,)\n",
      "145\n",
      "Image shape is: (276, 5, 360, 720)\n",
      "(54,)\n",
      "146\n",
      "Image shape is: (276, 5, 360, 720)\n",
      "(51,)\n",
      "147\n",
      "Image shape is: (276, 5, 360, 720)\n",
      "(56,)\n",
      "148\n",
      "Image shape is: (276, 5, 360, 720)\n",
      "(66,)\n",
      "149\n",
      "Image shape is: (276, 5, 360, 720)\n",
      "(51,)\n",
      "150\n",
      "Image shape is: (276, 5, 360, 720)\n",
      "(41,)\n",
      "151\n",
      "Image shape is: (276, 5, 360, 720)\n",
      "(32,)\n",
      "152\n",
      "Image shape is: (276, 5, 360, 720)\n",
      "(51,)\n",
      "153\n",
      "Image shape is: (276, 5, 360, 720)\n",
      "(53,)\n",
      "154\n",
      "Image shape is: (276, 5, 360, 720)\n",
      "(40,)\n",
      "155\n",
      "Image shape is: (276, 5, 360, 720)\n",
      "(40,)\n",
      "156\n",
      "Image shape is: (276, 5, 360, 720)\n",
      "(71,)\n",
      "157\n",
      "Image shape is: (276, 5, 360, 720)\n",
      "(59,)\n",
      "158\n",
      "Image shape is: (276, 5, 360, 720)\n",
      "(67,)\n",
      "159\n",
      "Image shape is: (276, 5, 360, 720)\n",
      "(63,)\n",
      "160\n",
      "Image shape is: (276, 5, 360, 720)\n",
      "(69,)\n",
      "161\n",
      "Image shape is: (276, 5, 360, 720)\n",
      "(74,)\n",
      "162\n",
      "Image shape is: (276, 5, 360, 720)\n",
      "(67,)\n",
      "163\n",
      "Image shape is: (276, 5, 360, 720)\n",
      "(56,)\n",
      "164\n",
      "Image shape is: (276, 5, 360, 720)\n",
      "(68,)\n",
      "165\n",
      "Image shape is: (276, 5, 360, 720)\n",
      "(79,)\n",
      "166\n",
      "Image shape is: (276, 5, 360, 720)\n",
      "(60,)\n",
      "167\n",
      "Image shape is: (276, 5, 360, 720)\n",
      "(70,)\n",
      "168\n",
      "Image shape is: (276, 5, 360, 720)\n",
      "(71,)\n",
      "169\n",
      "Image shape is: (276, 5, 360, 720)\n",
      "(55,)\n",
      "170\n",
      "Image shape is: (276, 5, 360, 720)\n",
      "(69,)\n",
      "171\n",
      "Image shape is: (276, 5, 360, 720)\n",
      "(88,)\n",
      "172\n",
      "Image shape is: (276, 5, 360, 720)\n",
      "(57,)\n",
      "173\n",
      "Image shape is: (276, 5, 360, 720)\n",
      "(57,)\n",
      "174\n",
      "Image shape is: (276, 5, 360, 720)\n",
      "(46,)\n",
      "175\n",
      "Image shape is: (276, 5, 360, 720)\n",
      "(61,)\n",
      "176\n",
      "Image shape is: (276, 5, 360, 720)\n",
      "(45,)\n",
      "177\n",
      "Image shape is: (276, 5, 360, 720)\n",
      "(59,)\n",
      "178\n",
      "Image shape is: (276, 5, 360, 720)\n",
      "(58,)\n",
      "179\n",
      "Image shape is: (276, 5, 360, 720)\n",
      "(51,)\n",
      "180\n",
      "Image shape is: (276, 5, 360, 720)\n",
      "(73,)\n",
      "181\n",
      "Image shape is: (276, 5, 360, 720)\n",
      "(76,)\n",
      "182\n",
      "Image shape is: (276, 5, 360, 720)\n",
      "(84,)\n",
      "183\n",
      "Image shape is: (276, 5, 360, 720)\n",
      "(75,)\n",
      "184\n",
      "Image shape is: (276, 5, 360, 720)\n",
      "(74,)\n",
      "185\n",
      "Image shape is: (276, 5, 360, 720)\n",
      "(84,)\n",
      "186\n",
      "Image shape is: (276, 5, 360, 720)\n",
      "(54,)\n",
      "187\n",
      "Image shape is: (276, 5, 360, 720)\n",
      "(71,)\n",
      "188\n",
      "Image shape is: (276, 5, 360, 720)\n",
      "(60,)\n",
      "189\n",
      "Image shape is: (276, 5, 360, 720)\n",
      "(62,)\n",
      "190\n",
      "Image shape is: (276, 5, 360, 720)\n",
      "(69,)\n",
      "191\n",
      "Image shape is: (276, 5, 360, 720)\n",
      "(50,)\n",
      "192\n",
      "Image shape is: (276, 5, 360, 720)\n",
      "(70,)\n",
      "193\n",
      "Image shape is: (276, 5, 360, 720)\n",
      "(46,)\n",
      "194\n",
      "Image shape is: (276, 5, 360, 720)\n",
      "(60,)\n",
      "195\n",
      "Image shape is: (276, 5, 360, 720)\n",
      "(72,)\n",
      "196\n",
      "Image shape is: (276, 5, 360, 720)\n",
      "(53,)\n",
      "197\n",
      "Image shape is: (276, 5, 360, 720)\n",
      "(58,)\n",
      "198\n",
      "Image shape is: (276, 5, 360, 720)\n",
      "(51,)\n",
      "199\n",
      "Image shape is: (276, 5, 360, 720)\n",
      "(51,)\n",
      "200\n",
      "Image shape is: (276, 5, 360, 720)\n",
      "(53,)\n",
      "201\n",
      "Image shape is: (276, 5, 360, 720)\n",
      "(60,)\n",
      "202\n",
      "Image shape is: (276, 5, 360, 720)\n",
      "(50,)\n",
      "203\n",
      "Image shape is: (276, 5, 360, 720)\n",
      "(51,)\n",
      "204\n",
      "Image shape is: (276, 5, 360, 720)\n",
      "(70,)\n",
      "205\n",
      "Image shape is: (276, 5, 360, 720)\n",
      "(51,)\n",
      "206\n",
      "Image shape is: (276, 5, 360, 720)\n",
      "(58,)\n",
      "207\n",
      "Image shape is: (276, 5, 360, 720)\n",
      "(76,)\n",
      "208\n",
      "Image shape is: (276, 5, 360, 720)\n",
      "(82,)\n",
      "209\n",
      "Image shape is: (276, 5, 360, 720)\n",
      "(71,)\n",
      "210\n",
      "Image shape is: (276, 5, 360, 720)\n",
      "(71,)\n",
      "211\n",
      "Image shape is: (276, 5, 360, 720)\n",
      "(57,)\n",
      "212\n",
      "Image shape is: (276, 5, 360, 720)\n",
      "(53,)\n",
      "213\n",
      "Image shape is: (276, 5, 360, 720)\n",
      "(58,)\n",
      "214\n",
      "Image shape is: (276, 5, 360, 720)\n",
      "(64,)\n",
      "215\n",
      "Image shape is: (276, 5, 360, 720)\n",
      "(55,)\n",
      "216\n",
      "Image shape is: (276, 5, 360, 720)\n",
      "(82,)\n",
      "217\n",
      "Image shape is: (276, 5, 360, 720)\n",
      "(59,)\n",
      "218\n",
      "Image shape is: (276, 5, 360, 720)\n",
      "(70,)\n",
      "219\n",
      "Image shape is: (276, 5, 360, 720)\n",
      "(55,)\n",
      "220\n",
      "Image shape is: (276, 5, 360, 720)\n",
      "(69,)\n",
      "221\n",
      "Image shape is: (276, 5, 360, 720)\n",
      "(70,)\n",
      "222\n",
      "Image shape is: (276, 5, 360, 720)\n",
      "(64,)\n",
      "223\n",
      "Image shape is: (276, 5, 360, 720)\n",
      "(53,)\n",
      "224\n",
      "Image shape is: (276, 5, 360, 720)\n",
      "(74,)\n",
      "225\n",
      "Image shape is: (276, 5, 360, 720)\n",
      "(66,)\n",
      "226\n",
      "Image shape is: (276, 5, 360, 720)\n",
      "(53,)\n",
      "227\n",
      "Image shape is: (276, 5, 360, 720)\n",
      "(64,)\n",
      "228\n",
      "Image shape is: (276, 5, 360, 720)\n",
      "(74,)\n",
      "229\n",
      "Image shape is: (276, 5, 360, 720)\n",
      "(63,)\n",
      "230\n",
      "Image shape is: (276, 5, 360, 720)\n",
      "(85,)\n",
      "231\n",
      "Image shape is: (276, 5, 360, 720)\n",
      "(58,)\n",
      "232\n",
      "Image shape is: (276, 5, 360, 720)\n",
      "(80,)\n",
      "233\n",
      "Image shape is: (276, 5, 360, 720)\n",
      "(67,)\n",
      "234\n",
      "Image shape is: (276, 5, 360, 720)\n",
      "(45,)\n",
      "235\n",
      "Image shape is: (276, 5, 360, 720)\n",
      "(46,)\n",
      "236\n",
      "Image shape is: (276, 5, 360, 720)\n",
      "(45,)\n",
      "237\n",
      "Image shape is: (276, 5, 360, 720)\n",
      "(47,)\n",
      "238\n",
      "Image shape is: (276, 5, 360, 720)\n",
      "(29,)\n",
      "239\n",
      "Image shape is: (276, 5, 360, 720)\n",
      "(52,)\n",
      "240\n",
      "Image shape is: (276, 5, 360, 720)\n",
      "(86,)\n",
      "241\n",
      "Image shape is: (276, 5, 360, 720)\n",
      "(65,)\n",
      "242\n",
      "Image shape is: (276, 5, 360, 720)\n",
      "(83,)\n",
      "243\n",
      "Image shape is: (276, 5, 360, 720)\n",
      "(64,)\n",
      "244\n",
      "Image shape is: (276, 5, 360, 720)\n",
      "(75,)\n",
      "245\n",
      "Image shape is: (276, 5, 360, 720)\n",
      "(56,)\n",
      "246\n",
      "Image shape is: (276, 5, 360, 720)\n",
      "(84,)\n",
      "247\n",
      "Image shape is: (276, 5, 360, 720)\n",
      "(65,)\n",
      "248\n",
      "Image shape is: (276, 5, 360, 720)\n",
      "(69,)\n",
      "249\n",
      "Image shape is: (276, 5, 360, 720)\n",
      "(72,)\n",
      "250\n",
      "Image shape is: (276, 5, 360, 720)\n",
      "(44,)\n",
      "251\n",
      "Image shape is: (276, 5, 360, 720)\n",
      "(43,)\n",
      "252\n",
      "Image shape is: (276, 5, 360, 720)\n",
      "(58,)\n",
      "253\n",
      "Image shape is: (276, 5, 360, 720)\n",
      "(48,)\n",
      "254\n",
      "Image shape is: (276, 5, 360, 720)\n",
      "(52,)\n",
      "255\n",
      "Image shape is: (276, 5, 360, 720)\n",
      "(63,)\n",
      "256\n",
      "Image shape is: (276, 5, 360, 720)\n",
      "(53,)\n",
      "257\n",
      "Image shape is: (276, 5, 360, 720)\n",
      "(56,)\n",
      "258\n",
      "Image shape is: (276, 5, 360, 720)\n",
      "(55,)\n",
      "259\n",
      "Image shape is: (276, 5, 360, 720)\n",
      "(52,)\n",
      "260\n",
      "Image shape is: (276, 5, 360, 720)\n",
      "(48,)\n",
      "261\n",
      "Image shape is: (276, 5, 360, 720)\n",
      "(43,)\n",
      "262\n",
      "Image shape is: (276, 5, 360, 720)\n",
      "(57,)\n",
      "263\n",
      "Image shape is: (276, 5, 360, 720)\n",
      "(44,)\n",
      "264\n",
      "Image shape is: (276, 5, 360, 720)\n",
      "(72,)\n",
      "265\n",
      "Image shape is: (276, 5, 360, 720)\n",
      "(82,)\n",
      "266\n",
      "Image shape is: (276, 5, 360, 720)\n",
      "(100,)\n",
      "267\n",
      "Image shape is: (276, 5, 360, 720)\n",
      "(103,)\n",
      "268\n",
      "Image shape is: (276, 5, 360, 720)\n",
      "(93,)\n",
      "269\n",
      "Image shape is: (276, 5, 360, 720)\n",
      "(102,)\n",
      "270\n",
      "Image shape is: (276, 5, 360, 720)\n",
      "(64,)\n",
      "271\n",
      "Image shape is: (276, 5, 360, 720)\n",
      "(83,)\n",
      "272\n",
      "Image shape is: (276, 5, 360, 720)\n",
      "(76,)\n",
      "273\n",
      "Image shape is: (276, 5, 360, 720)\n",
      "(74,)\n",
      "274\n",
      "Image shape is: (276, 5, 360, 720)\n",
      "(76,)\n",
      "11\n",
      "Image shape is: (24, 5, 360, 720)\n",
      "(89,)\n",
      "12\n",
      "Image shape is: (24, 5, 360, 720)\n",
      "(109,)\n",
      "13\n",
      "Image shape is: (24, 5, 360, 720)\n",
      "(92,)\n",
      "14\n",
      "Image shape is: (24, 5, 360, 720)\n",
      "(82,)\n",
      "15\n",
      "Image shape is: (24, 5, 360, 720)\n",
      "(89,)\n",
      "16\n",
      "Image shape is: (24, 5, 360, 720)\n",
      "(99,)\n",
      "17\n",
      "Image shape is: (24, 5, 360, 720)\n",
      "(101,)\n",
      "18\n",
      "Image shape is: (24, 5, 360, 720)\n",
      "(98,)\n",
      "19\n",
      "Image shape is: (24, 5, 360, 720)\n",
      "(103,)\n",
      "20\n",
      "Image shape is: (24, 5, 360, 720)\n",
      "(98,)\n",
      "21\n",
      "Image shape is: (24, 5, 360, 720)\n",
      "(106,)\n",
      "22\n",
      "Image shape is: (24, 5, 360, 720)\n",
      "(102,)\n"
     ]
    }
   ],
   "source": [
    "# a, b = full_dataset_numpy(test)\n",
    "full_dataset_h5py(train_set, \"train_next_event\",key_list_prio, key_list_ucdp)\n",
    "# why does this only work with array > 105???????????\n",
    "full_dataset_h5py(test_set, \"test_next_event\",key_list_prio, key_list_ucdp)\n",
    "\n"
   ]
  },
  {
   "cell_type": "code",
   "execution_count": 40,
   "metadata": {
    "colab": {},
    "colab_type": "code",
    "id": "Fx6RkdVjnZt8"
   },
   "outputs": [
    {
     "data": {
      "text/plain": [
       "'/rdsgpfs/general/user/gcl15/home'"
      ]
     },
     "execution_count": 40,
     "metadata": {},
     "output_type": "execute_result"
    }
   ],
   "source": [
    "\n",
    "%pwd\n",
    "# %cd data\n",
    "\n",
    "# \n"
   ]
  },
  {
   "cell_type": "code",
   "execution_count": 41,
   "metadata": {},
   "outputs": [],
   "source": [
    "f = h5py.File(\"train_next_event.hdf5\", 'r')\n"
   ]
  },
  {
   "cell_type": "code",
   "execution_count": 42,
   "metadata": {
    "colab": {
     "base_uri": "https://localhost:8080/",
     "height": 35
    },
    "colab_type": "code",
    "id": "SHMz3mykg5sg",
    "outputId": "c38e1fcc-4899-4241-fee4-d7fcf6abd119"
   },
   "outputs": [
    {
     "data": {
      "text/plain": [
       "(57893, 10, 5, 16, 16)"
      ]
     },
     "execution_count": 42,
     "metadata": {},
     "output_type": "execute_result"
    }
   ],
   "source": [
    "f['predictor'].shape"
   ]
  },
  {
   "cell_type": "code",
   "execution_count": null,
   "metadata": {},
   "outputs": [],
   "source": []
  },
  {
   "cell_type": "code",
   "execution_count": 43,
   "metadata": {
    "colab": {},
    "colab_type": "code",
    "id": "yK5SkYh3Ge_e"
   },
   "outputs": [],
   "source": [
    "k = f['predictor'][333]\n",
    "a = f['truth'][333]\n"
   ]
  },
  {
   "cell_type": "code",
   "execution_count": 44,
   "metadata": {},
   "outputs": [
    {
     "data": {
      "text/plain": [
       "array([0., 1.])"
      ]
     },
     "execution_count": 44,
     "metadata": {},
     "output_type": "execute_result"
    }
   ],
   "source": [
    "np.unique(k[:,0])"
   ]
  },
  {
   "cell_type": "code",
   "execution_count": 45,
   "metadata": {
    "colab": {},
    "colab_type": "code",
    "id": "pYYeFBb8IpB7"
   },
   "outputs": [
    {
     "data": {
      "text/plain": [
       "(16, 16)"
      ]
     },
     "execution_count": 45,
     "metadata": {},
     "output_type": "execute_result"
    }
   ],
   "source": [
    "a.shape"
   ]
  },
  {
   "cell_type": "code",
   "execution_count": 46,
   "metadata": {},
   "outputs": [
    {
     "data": {
      "text/plain": [
       "<matplotlib.image.AxesImage at 0x2b8e5f390748>"
      ]
     },
     "execution_count": 46,
     "metadata": {},
     "output_type": "execute_result"
    },
    {
     "data": {
      "image/png": "[encoded data removed]",
      "text/plain": [
       "<Figure size 432x288 with 1 Axes>"
      ]
     },
     "metadata": {
      "needs_background": "light"
     },
     "output_type": "display_data"
    },
    {
     "data": {
      "image/png": "[encoded data removed]",
      "text/plain": [
       "<Figure size 432x288 with 1 Axes>"
      ]
     },
     "metadata": {
      "needs_background": "light"
     },
     "output_type": "display_data"
    },
    {
     "data": {
      "image/png": "[encoded data removed]",
      "text/plain": [
       "<Figure size 432x288 with 1 Axes>"
      ]
     },
     "metadata": {
      "needs_background": "light"
     },
     "output_type": "display_data"
    },
    {
     "data": {
      "image/png": "[encoded data removed]",
      "text/plain": [
       "<Figure size 432x288 with 1 Axes>"
      ]
     },
     "metadata": {
      "needs_background": "light"
     },
     "output_type": "display_data"
    },
    {
     "data": {
      "image/png": "[encoded data removed]",
      "text/plain": [
       "<Figure size 432x288 with 1 Axes>"
      ]
     },
     "metadata": {
      "needs_background": "light"
     },
     "output_type": "display_data"
    },
    {
     "data": {
      "image/png": "[encoded data removed]",
      "text/plain": [
       "<Figure size 432x288 with 1 Axes>"
      ]
     },
     "metadata": {
      "needs_background": "light"
     },
     "output_type": "display_data"
    },
    {
     "data": {
      "image/png": "[encoded data removed]",
      "text/plain": [
       "<Figure size 432x288 with 1 Axes>"
      ]
     },
     "metadata": {
      "needs_background": "light"
     },
     "output_type": "display_data"
    },
    {
     "data": {
      "image/png": "[encoded data removed]",
      "text/plain": [
       "<Figure size 432x288 with 1 Axes>"
      ]
     },
     "metadata": {
      "needs_background": "light"
     },
     "output_type": "display_data"
    },
    {
     "data": {
      "image/png": "[encoded data removed]",
      "text/plain": [
       "<Figure size 432x288 with 1 Axes>"
      ]
     },
     "metadata": {
      "needs_background": "light"
     },
     "output_type": "display_data"
    },
    {
     "data": {
      "image/png": "[encoded data removed]",
      "text/plain": [
       "<Figure size 432x288 with 1 Axes>"
      ]
     },
     "metadata": {
      "needs_background": "light"
     },
     "output_type": "display_data"
    },
    {
     "data": {
      "image/png": "[encoded data removed]",
      "text/plain": [
       "<Figure size 432x288 with 1 Axes>"
      ]
     },
     "metadata": {
      "needs_background": "light"
     },
     "output_type": "display_data"
    }
   ],
   "source": [
    "for i in range(10):\n",
    "    plt.figure()\n",
    "    plt.imshow(k[i,0])\n",
    "    \n",
    "plt.figure()\n",
    "plt.imshow(a)"
   ]
  },
  {
   "cell_type": "code",
   "execution_count": null,
   "metadata": {},
   "outputs": [],
   "source": []
  },
  {
   "cell_type": "code",
   "execution_count": 47,
   "metadata": {
    "colab": {},
    "colab_type": "code",
    "id": "OUrJW2vBHEKr"
   },
   "outputs": [],
   "source": [
    "\n",
    "val  = k[0:10000,:,0]"
   ]
  },
  {
   "cell_type": "code",
   "execution_count": 48,
   "metadata": {
    "colab": {},
    "colab_type": "code",
    "id": "gxOSzYQsITxw"
   },
   "outputs": [],
   "source": [
    "# # print(np.average(val))\n",
    "# # print(np.average(k[10000:20000,:,0]))\n",
    "\n",
    "# for i in range(7):\n",
    "#     print(np.std(k[i * 10000:(i+1)*10000, :, 0]))\n",
    "   \n",
    "\n",
    "# print(np.std(k[80000:84485, :, 0]))\n",
    "\n"
   ]
  },
  {
   "cell_type": "code",
   "execution_count": null,
   "metadata": {
    "colab": {},
    "colab_type": "code",
    "id": "6UmwMeyrOl0G"
   },
   "outputs": [],
   "source": []
  },
  {
   "cell_type": "code",
   "execution_count": null,
   "metadata": {
    "colab": {},
    "colab_type": "code",
    "id": "yHgTmJqOJMF8"
   },
   "outputs": [],
   "source": []
  },
  {
   "cell_type": "code",
   "execution_count": 49,
   "metadata": {
    "colab": {},
    "colab_type": "code",
    "id": "wuCvXTmEHFj_"
   },
   "outputs": [
    {
     "data": {
      "text/plain": [
       "(57893, 10, 5, 16, 16)"
      ]
     },
     "execution_count": 49,
     "metadata": {},
     "output_type": "execute_result"
    }
   ],
   "source": [
    "f['predictor'].shape\n"
   ]
  },
  {
   "cell_type": "code",
   "execution_count": 50,
   "metadata": {
    "colab": {},
    "colab_type": "code",
    "id": "Tyb9RRXjHlpw"
   },
   "outputs": [
    {
     "data": {
      "text/plain": [
       "(57893, 16, 16)"
      ]
     },
     "execution_count": 50,
     "metadata": {},
     "output_type": "execute_result"
    }
   ],
   "source": [
    "f['truth'].shape\n"
   ]
  },
  {
   "cell_type": "code",
   "execution_count": 51,
   "metadata": {
    "colab": {},
    "colab_type": "code",
    "id": "t__yhKfhtf0P"
   },
   "outputs": [
    {
     "data": {
      "text/plain": [
       "(57893, 10, 5, 16, 16)"
      ]
     },
     "execution_count": 51,
     "metadata": {},
     "output_type": "execute_result"
    }
   ],
   "source": [
    "f[\"predictor\"].shape\n",
    "\n"
   ]
  },
  {
   "cell_type": "code",
   "execution_count": 52,
   "metadata": {
    "colab": {},
    "colab_type": "code",
    "id": "uaAPLJ7AbjFk"
   },
   "outputs": [
    {
     "data": {
      "text/plain": [
       "array([[3.241583e+04, 4.238798e+04, 1.306729e+04, 9.216207e+03,\n",
       "        9.009340e+03, 2.396118e+04, 3.442233e+04, 4.086907e+04,\n",
       "        4.628775e+04, 2.013035e+04, 6.704871e+04, 3.002618e+05,\n",
       "        3.363307e+05, 4.028627e+05, 2.822115e+05, 3.566055e+05],\n",
       "       [5.808011e+04, 3.989859e+04, 2.591515e+04, 1.257617e+04,\n",
       "        2.910053e+04, 1.926945e+04, 2.299646e+04, 1.098191e+04,\n",
       "        2.749036e+04, 2.386647e+04, 4.246332e+04, 4.495885e+05,\n",
       "        5.617256e+05, 3.126451e+05, 1.774272e+05, 2.037623e+05],\n",
       "       [4.093018e+04, 4.594495e+04, 4.492832e+04, 1.742543e+04,\n",
       "        2.907948e+04, 2.596789e+04, 6.943363e+04, 1.527858e+04,\n",
       "        3.747991e+04, 3.748299e+04, 6.581468e+04, 2.306238e+05,\n",
       "        3.227218e+05, 5.928614e+05, 2.965112e+05, 3.057159e+05],\n",
       "       [3.558964e+04, 8.351395e+04, 7.275356e+04, 3.100071e+04,\n",
       "        1.009787e+04, 1.589804e+04, 4.420550e+04, 9.157805e+03,\n",
       "        2.235657e+04, 9.011832e+04, 9.098925e+04, 1.072629e+05,\n",
       "        1.755218e+05, 3.775116e+05, 9.815413e+04, 1.661673e+05],\n",
       "       [1.592529e+05, 9.567268e+04, 4.887030e+04, 2.810435e+04,\n",
       "        2.634445e+04, 3.127027e+04, 9.112754e+04, 2.222122e+04,\n",
       "        3.573383e+04, 5.956463e+04, 1.344380e+05, 1.207110e+05,\n",
       "        3.311553e+05, 1.665458e+05, 4.998064e+04, 8.518536e+04],\n",
       "       [1.053691e+05, 1.053238e+05, 5.337781e+04, 2.430004e+05,\n",
       "        1.307600e+05, 1.266978e+05, 3.469670e+04, 1.201529e+05,\n",
       "        1.150253e+05, 9.022940e+04, 8.284959e+04, 1.158233e+05,\n",
       "        5.328318e+04, 7.316470e+04, 4.728725e+04, 1.041182e+05],\n",
       "       [3.178316e+04, 3.981700e+04, 7.391613e+04, 1.410759e+05,\n",
       "        9.385310e+04, 1.429354e+05, 8.269609e+04, 9.168151e+04,\n",
       "        1.241336e+05, 1.255997e+05, 7.379425e+04, 1.079622e+05,\n",
       "        6.401643e+04, 5.604141e+04, 6.679909e+04, 2.025039e+05],\n",
       "       [2.519719e+04, 6.241260e+04, 7.967015e+04, 2.063245e+05,\n",
       "        9.703425e+04, 3.277198e+05, 8.440628e+04, 4.464013e+04,\n",
       "        3.660749e+05, 6.594781e+04, 5.784067e+04, 7.594994e+04,\n",
       "        4.247713e+04, 1.094990e+05, 2.096912e+05, 3.634611e+05],\n",
       "       [1.298956e+04, 1.813460e+04, 6.131588e+04, 1.385903e+05,\n",
       "        2.429755e+05, 1.174915e+05, 5.543850e+04, 2.825621e+04,\n",
       "        3.579113e+04, 1.739874e+05, 1.514355e+05, 2.445832e+04,\n",
       "        3.098941e+04, 6.060915e+04, 1.283720e+05, 2.593461e+05],\n",
       "       [1.018174e+04, 7.768098e+03, 1.499715e+05, 3.404080e+05,\n",
       "        1.828187e+05, 4.312699e+04, 2.251541e+04, 2.029373e+04,\n",
       "        7.298234e+04, 2.902016e+05, 4.801939e+05, 3.392198e+04,\n",
       "        2.044580e+04, 4.978223e+04, 8.627526e+04, 8.113903e+05],\n",
       "       [4.051015e+03, 2.761209e+03, 7.030819e+05, 9.900822e+05,\n",
       "        9.719067e+03, 1.439430e+04, 1.227056e+04, 1.291680e+04,\n",
       "        8.661148e+04, 7.378102e+04, 1.590693e+05, 4.299593e+04,\n",
       "        1.347593e+04, 2.843182e+04, 1.205567e+05, 1.817822e+05],\n",
       "       [4.909307e+02, 1.317406e+03, 7.371638e+03, 2.401898e+04,\n",
       "        5.737025e+03, 8.445832e+03, 4.099112e+03, 1.598820e+03,\n",
       "        2.977872e+03, 1.608535e+04, 1.773725e+05, 3.512792e+04,\n",
       "        9.784604e+03, 2.650601e+04, 1.219043e+05, 4.848348e+04],\n",
       "       [1.077491e+03, 1.782152e+03, 1.889558e+03, 4.333026e+03,\n",
       "        7.841000e+04, 2.018791e+04, 1.944354e+03, 2.091364e+03,\n",
       "        2.794154e+03, 3.926736e+03, 2.888528e+04, 1.369594e+04,\n",
       "        1.124083e+04, 1.622750e+04, 1.105023e+05, 4.265880e+04],\n",
       "       [6.385475e+02, 6.236757e+02, 4.819884e+02, 3.107063e+02,\n",
       "        1.405677e+03, 3.690315e+04, 3.571652e+03, 3.071413e+03,\n",
       "        2.598809e+03, 6.068752e+03, 8.733719e+03, 1.014038e+04,\n",
       "        8.978852e+03, 6.581864e+03, 1.368614e+04, 2.902539e+03],\n",
       "       [9.192065e+02, 2.017937e+02, 4.468369e+02, 8.800791e+02,\n",
       "        1.315002e+03, 1.097199e+05, 1.153257e+04, 5.692724e+03,\n",
       "        1.062945e+04, 5.483719e+03, 8.599603e+03, 6.217071e+03,\n",
       "        1.494111e+04, 1.809013e+04, 5.800246e+04, 2.839424e+03],\n",
       "       [2.657480e+03, 6.343921e+04, 4.604572e+02, 1.196955e+03,\n",
       "        1.259409e+03, 4.117630e+04, 6.127606e+03, 3.929391e+03,\n",
       "        5.213623e+03, 4.574372e+03, 5.090771e+03, 9.003489e+03,\n",
       "        7.201218e+03, 1.600432e+05, 3.240264e+04, 7.588640e+02]])"
      ]
     },
     "execution_count": 52,
     "metadata": {},
     "output_type": "execute_result"
    }
   ],
   "source": [
    "f[\"predictor\"][21000][0][2]"
   ]
  },
  {
   "cell_type": "code",
   "execution_count": 53,
   "metadata": {
    "colab": {},
    "colab_type": "code",
    "id": "Iu6Z80fLtuN6"
   },
   "outputs": [
    {
     "data": {
      "image/png": "[encoded data removed]",
      "text/plain": [
       "<Figure size 432x288 with 1 Axes>"
      ]
     },
     "metadata": {
      "needs_background": "light"
     },
     "output_type": "display_data"
    },
    {
     "data": {
      "image/png": "[encoded data removed]",
      "text/plain": [
       "<Figure size 432x288 with 1 Axes>"
      ]
     },
     "metadata": {
      "needs_background": "light"
     },
     "output_type": "display_data"
    },
    {
     "data": {
      "image/png": "[encoded data removed]",
      "text/plain": [
       "<Figure size 432x288 with 1 Axes>"
      ]
     },
     "metadata": {
      "needs_background": "light"
     },
     "output_type": "display_data"
    },
    {
     "data": {
      "image/png": "[encoded data removed]",
      "text/plain": [
       "<Figure size 432x288 with 1 Axes>"
      ]
     },
     "metadata": {
      "needs_background": "light"
     },
     "output_type": "display_data"
    },
    {
     "data": {
      "image/png": "[encoded data removed]",
      "text/plain": [
       "<Figure size 432x288 with 1 Axes>"
      ]
     },
     "metadata": {
      "needs_background": "light"
     },
     "output_type": "display_data"
    },
    {
     "data": {
      "image/png": "[encoded data removed]",
      "text/plain": [
       "<Figure size 432x288 with 1 Axes>"
      ]
     },
     "metadata": {
      "needs_background": "light"
     },
     "output_type": "display_data"
    },
    {
     "data": {
      "image/png": "[encoded data removed]",
      "text/plain": [
       "<Figure size 432x288 with 1 Axes>"
      ]
     },
     "metadata": {
      "needs_background": "light"
     },
     "output_type": "display_data"
    },
    {
     "data": {
      "image/png": "[encoded data removed]",
      "text/plain": [
       "<Figure size 432x288 with 1 Axes>"
      ]
     },
     "metadata": {
      "needs_background": "light"
     },
     "output_type": "display_data"
    },
    {
     "data": {
      "image/png": "[encoded data removed]",
      "text/plain": [
       "<Figure size 432x288 with 1 Axes>"
      ]
     },
     "metadata": {
      "needs_background": "light"
     },
     "output_type": "display_data"
    },
    {
     "data": {
      "image/png": "[encoded data removed]",
      "text/plain": [
       "<Figure size 432x288 with 1 Axes>"
      ]
     },
     "metadata": {
      "needs_background": "light"
     },
     "output_type": "display_data"
    }
   ],
   "source": [
    "f[\"predictor\"].shape\n",
    "\n",
    "for i in range(10):\n",
    "    plt.figure()\n",
    "    plt.imshow(f[\"predictor\"][21000][i][0])\n",
    "    "
   ]
  },
  {
   "cell_type": "code",
   "execution_count": 54,
   "metadata": {
    "colab": {},
    "colab_type": "code",
    "id": "46NHJR9i2xHn"
   },
   "outputs": [
    {
     "name": "stdout",
     "output_type": "stream",
     "text": [
      "done\n"
     ]
    }
   ],
   "source": [
    "f[\"predictor\"].shape\n",
    "k = 0\n",
    "for i in range(248580):\n",
    "    k +=1\n",
    "print(\"done\")\n"
   ]
  },
  {
   "cell_type": "code",
   "execution_count": 55,
   "metadata": {
    "colab": {},
    "colab_type": "code",
    "id": "gW4M0YkrDblm"
   },
   "outputs": [
    {
     "data": {
      "text/plain": [
       "0"
      ]
     },
     "execution_count": 55,
     "metadata": {},
     "output_type": "execute_result"
    }
   ],
   "source": [
    "# len(np.where(f[\"predictor\"][100000][:,0] > 0)[0])\n",
    "# f[\"predictor\"][100000][:,0]\n",
    "# plt.imshow(f[\"predictor\"][100000][:,0][0])\n",
    "len([])"
   ]
  },
  {
   "cell_type": "code",
   "execution_count": 56,
   "metadata": {
    "colab": {
     "base_uri": "https://localhost:8080/",
     "height": 936
    },
    "colab_type": "code",
    "id": "8En8z9VL3uKA",
    "outputId": "8a9a71d6-1731-4a63-9404-ea2dd911977e"
   },
   "outputs": [
    {
     "name": "stdout",
     "output_type": "stream",
     "text": [
      "0\n",
      "1000\n",
      "2000\n",
      "3000\n",
      "4000\n",
      "5000\n",
      "6000\n",
      "7000\n",
      "8000\n",
      "9000\n",
      "10000\n",
      "11000\n",
      "12000\n",
      "13000\n",
      "14000\n",
      "15000\n",
      "16000\n",
      "17000\n",
      "18000\n",
      "19000\n",
      "20000\n",
      "21000\n",
      "22000\n",
      "23000\n",
      "24000\n",
      "25000\n",
      "26000\n",
      "27000\n",
      "28000\n",
      "29000\n",
      "30000\n",
      "31000\n",
      "32000\n",
      "33000\n",
      "34000\n",
      "35000\n",
      "36000\n",
      "37000\n",
      "38000\n",
      "39000\n",
      "40000\n",
      "41000\n",
      "42000\n",
      "43000\n",
      "44000\n",
      "45000\n",
      "46000\n",
      "47000\n",
      "48000\n",
      "49000\n",
      "50000\n",
      "51000\n",
      "52000\n",
      "53000\n",
      "54000\n",
      "55000\n",
      "56000\n",
      "57000\n"
     ]
    }
   ],
   "source": [
    "\n",
    "def data_set_analysis(dataset):\n",
    "    dat = np.zeros(len(dataset[\"predictor\"]))\n",
    "    for i in range(len(dataset[\"predictor\"])):\n",
    "        dat[i] = len(np.where(f[\"predictor\"][i][:,0] > 0)[0])\n",
    "        if (i % 1000) == 0:\n",
    "            print(i)\n",
    "    return dat\n",
    "\n",
    "dats = data_set_analysis(f)\n",
    "np.save(\"distribution_min_25\", dats)"
   ]
  },
  {
   "cell_type": "code",
   "execution_count": 57,
   "metadata": {
    "colab": {},
    "colab_type": "code",
    "id": "ELhdQd4BCfjy"
   },
   "outputs": [],
   "source": [
    "# np.save(\"dats_saved\", dats)"
   ]
  },
  {
   "cell_type": "code",
   "execution_count": 58,
   "metadata": {
    "colab": {},
    "colab_type": "code",
    "id": "cFlE86e8Co5m"
   },
   "outputs": [],
   "source": [
    "# np.unique(dats)"
   ]
  },
  {
   "cell_type": "code",
   "execution_count": 59,
   "metadata": {
    "colab": {
     "base_uri": "https://localhost:8080/",
     "height": 269
    },
    "colab_type": "code",
    "id": "JtGK9LexQXXv",
    "outputId": "861e36af-395c-4d33-e154-91f23ed85c0b"
   },
   "outputs": [],
   "source": [
    "# plot = sns.distplot(dats)"
   ]
  },
  {
   "cell_type": "code",
   "execution_count": 60,
   "metadata": {
    "colab": {},
    "colab_type": "code",
    "id": "vcImFZYhQ18D"
   },
   "outputs": [],
   "source": [
    "# figure = plot.get_figure()"
   ]
  },
  {
   "cell_type": "code",
   "execution_count": 61,
   "metadata": {
    "colab": {},
    "colab_type": "code",
    "id": "EtVXvcc7RZQB"
   },
   "outputs": [],
   "source": [
    "# figure.savefig(\"min_events_25.pdf\")"
   ]
  },
  {
   "cell_type": "code",
   "execution_count": 62,
   "metadata": {
    "colab": {},
    "colab_type": "code",
    "id": "gi7dl5t-3nYe"
   },
   "outputs": [
    {
     "data": {
      "text/plain": [
       "<matplotlib.image.AxesImage at 0x2b8e5f5b6048>"
      ]
     },
     "execution_count": 62,
     "metadata": {},
     "output_type": "execute_result"
    },
    {
     "data": {
      "image/png": "[encoded data removed]",
      "text/plain": [
       "<Figure size 432x288 with 1 Axes>"
      ]
     },
     "metadata": {
      "needs_background": "light"
     },
     "output_type": "display_data"
    }
   ],
   "source": [
    "f[\"predictor\"][0][:,0][0].shape\n",
    "plt.imshow(f[\"predictor\"][1000][:,1][0])"
   ]
  },
  {
   "cell_type": "code",
   "execution_count": 63,
   "metadata": {
    "colab": {},
    "colab_type": "code",
    "id": "Z0FC6D9chM72"
   },
   "outputs": [],
   "source": [
    "# f.close()"
   ]
  },
  {
   "cell_type": "code",
   "execution_count": 64,
   "metadata": {
    "colab": {},
    "colab_type": "code",
    "id": "QCiK2FF9hOP_"
   },
   "outputs": [
    {
     "data": {
      "text/plain": [
       "<HDF5 file \"train_next_event.hdf5\" (mode r)>"
      ]
     },
     "execution_count": 64,
     "metadata": {},
     "output_type": "execute_result"
    }
   ],
   "source": [
    "f\n"
   ]
  },
  {
   "cell_type": "markdown",
   "metadata": {
    "colab_type": "text",
    "id": "KW6581pRhHoR"
   },
   "source": [
    "# AVERAGING FUNCTION"
   ]
  },
  {
   "cell_type": "code",
   "execution_count": 65,
   "metadata": {
    "colab": {},
    "colab_type": "code",
    "id": "zGCwGx7XhG4b"
   },
   "outputs": [],
   "source": [
    "def find_avg_lazy_load(data):\n",
    "    # file name is name of hdf5 file\n",
    "#     data = h5py.File(filename, 'r')\n",
    "    predictor = data[\"predictor\"]\n",
    "    channel_num = predictor.shape[2]\n",
    "    avg = np.zeros(channel_num)\n",
    "    std = np.zeros_like(avg)\n",
    "    for i in range(channel_num):\n",
    "        # batching as cant fit into ram\n",
    "        \n",
    "        batch_avg = 0\n",
    "        batch_std = 0\n",
    "        for j in range(5):\n",
    "            batch_avg += np.average(predictor[j * 10000: (j+1)*10000,:,i])\n",
    "            print(batch_avg)\n",
    "            batch_std += np.std(predictor[j * 10000: (j+1)*10000,:,i])\n",
    "            \n",
    "        batch_avg += np.average(predictor[50000: 52109,:,i])\n",
    "        batch_std += np.std(predictor[50000: 52109,:,i])\n",
    "        \n",
    "        batch_avg /= 6\n",
    "        batch_std /= 6\n",
    "        \n",
    "        avg[i] = batch_avg\n",
    "        std[i] = batch_std\n",
    "        \n",
    "        \n",
    "    return avg, std\n"
   ]
  },
  {
   "cell_type": "code",
   "execution_count": 66,
   "metadata": {},
   "outputs": [
    {
     "data": {
      "text/plain": [
       "(57893, 10, 5, 16, 16)"
      ]
     },
     "execution_count": 66,
     "metadata": {},
     "output_type": "execute_result"
    }
   ],
   "source": [
    "f['predictor'].shape\n"
   ]
  },
  {
   "cell_type": "code",
   "execution_count": 67,
   "metadata": {
    "colab": {
     "base_uri": "https://localhost:8080/",
     "height": 451
    },
    "colab_type": "code",
    "id": "b6GYQRt4jJE3",
    "outputId": "7646297e-e5fb-41ac-b8db-6dc8699ed339"
   },
   "outputs": [
    {
     "name": "stdout",
     "output_type": "stream",
     "text": [
      "0.02500140625\n",
      "0.0519103125\n",
      "0.07864093750000001\n",
      "0.10447097656250001\n",
      "0.130019921875\n",
      "0.99084953125\n",
      "6.76732375\n",
      "7.6818317968750005\n",
      "8.4634739453125\n",
      "8.9387216796875\n",
      "82102.27498162742\n",
      "177156.1845286545\n",
      "271684.76315582625\n",
      "401743.44630341686\n",
      "545550.969492451\n",
      "341.90741936654575\n",
      "797.474067863662\n",
      "1306.3378960846885\n",
      "1834.6395652158249\n",
      "2352.3705865939164\n",
      "572.9642360207921\n",
      "1324.7907505978774\n",
      "2174.8150473371466\n",
      "2885.970630509137\n",
      "3490.4040311670215\n"
     ]
    }
   ],
   "source": [
    "\n",
    "\n",
    "avg, std = find_avg_lazy_load(f)"
   ]
  },
  {
   "cell_type": "code",
   "execution_count": 68,
   "metadata": {
    "colab": {},
    "colab_type": "code",
    "id": "c_SKKLKEXDfd"
   },
   "outputs": [],
   "source": [
    "np.save(\"next_event_avg\", avg)"
   ]
  },
  {
   "cell_type": "code",
   "execution_count": 69,
   "metadata": {
    "colab": {},
    "colab_type": "code",
    "id": "RxCCUHRxXJJW"
   },
   "outputs": [],
   "source": [
    "np.save(\"next_event_std\", std)"
   ]
  },
  {
   "cell_type": "code",
   "execution_count": 70,
   "metadata": {
    "colab": {},
    "colab_type": "code",
    "id": "QzU_ixs4XMcI"
   },
   "outputs": [
    {
     "data": {
      "text/plain": [
       "(57893, 10, 5, 16, 16)"
      ]
     },
     "execution_count": 70,
     "metadata": {},
     "output_type": "execute_result"
    }
   ],
   "source": [
    "f['predictor'].shape"
   ]
  },
  {
   "cell_type": "code",
   "execution_count": 71,
   "metadata": {},
   "outputs": [],
   "source": [
    "f.close()"
   ]
  },
  {
   "cell_type": "code",
   "execution_count": 72,
   "metadata": {},
   "outputs": [
    {
     "data": {
      "text/plain": [
       "'/rdsgpfs/general/user/gcl15/home'"
      ]
     },
     "execution_count": 72,
     "metadata": {},
     "output_type": "execute_result"
    }
   ],
   "source": [
    "%pwd"
   ]
  },
  {
   "cell_type": "code",
   "execution_count": 73,
   "metadata": {},
   "outputs": [],
   "source": [
    "f.close()\n"
   ]
  },
  {
   "cell_type": "code",
   "execution_count": 74,
   "metadata": {
    "colab": {},
    "colab_type": "code",
    "id": "7OVBI8BmjRhw"
   },
   "outputs": [],
   "source": [
    "# avg, std = find_avg_lazy_load(\"data_prio_run_test4.hdf5\")"
   ]
  }
 ],
 "metadata": {
  "colab": {
   "collapsed_sections": [],
   "include_colab_link": true,
   "name": "dataset_construction.ipynb",
   "provenance": [],
   "version": "0.3.2"
  },
  "kernelspec": {
   "display_name": "Python 3",
   "language": "python",
   "name": "python3"
  },
  "language_info": {
   "codemirror_mode": {
    "name": "ipython",
    "version": 3
   },
   "file_extension": ".py",
   "mimetype": "text/x-python",
   "name": "python",
   "nbconvert_exporter": "python",
   "pygments_lexer": "ipython3",
   "version": "3.6.8"
  }
 },
 "nbformat": 4,
 "nbformat_minor": 2
}
